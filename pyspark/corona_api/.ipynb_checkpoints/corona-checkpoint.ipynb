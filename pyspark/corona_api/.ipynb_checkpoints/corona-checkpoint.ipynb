{
 "cells": [
  {
   "cell_type": "code",
   "execution_count": 1,
   "id": "fb3edab5-c0e0-468a-a214-af5bf57809e9",
   "metadata": {},
   "outputs": [],
   "source": [
    "import requests\n",
    "from bs4 import BeautifulSoup\n",
    "from datetime import datetime, date, timedelta\n",
    "import xmltodict\n",
    "from typing import Union # 여러 개의 타입이 허용될 수 있는 상황에서는 typing 모듈의 Union을 사용\n",
    "from pyspark.sql import SparkSession, functions as F, Row\n",
    "from pyspark.sql.types import StructField, StructType, DoubleType, IntegerType, TimestampType, StringType"
   ]
  },
  {
   "cell_type": "code",
   "execution_count": 2,
   "id": "b558a5ce-0314-4adf-8f46-3f8ebef5bcac",
   "metadata": {},
   "outputs": [
    {
     "name": "stdout",
     "output_type": "stream",
     "text": [
      "22/08/24 22:45:14 WARN Utils: Your hostname, hyunj resolves to a loopback address: 127.0.1.1; using 192.168.0.13 instead (on interface eno1)\n",
      "22/08/24 22:45:14 WARN Utils: Set SPARK_LOCAL_IP if you need to bind to another address\n"
     ]
    },
    {
     "name": "stderr",
     "output_type": "stream",
     "text": [
      "Setting default log level to \"WARN\".\n",
      "To adjust logging level use sc.setLogLevel(newLevel). For SparkR, use setLogLevel(newLevel).\n"
     ]
    },
    {
     "name": "stdout",
     "output_type": "stream",
     "text": [
      "22/08/24 22:45:15 WARN NativeCodeLoader: Unable to load native-hadoop library for your platform... using builtin-java classes where applicable\n"
     ]
    }
   ],
   "source": [
    "MAX_MEMORY=\"7g\"\n",
    "spark = SparkSession.builder.appName(\"covid18\")\\\n",
    "                .config(\"spark.executor.memory\", MAX_MEMORY)\\\n",
    "                .config(\"spark.driver.memory\", MAX_MEMORY)\\\n",
    "                .getOrCreate()"
   ]
  },
  {
   "cell_type": "code",
   "execution_count": 18,
   "id": "2f800060-0d14-4386-9862-6850659a24c2",
   "metadata": {},
   "outputs": [],
   "source": [
    "class Covid(object):\n",
    "    def __init__(self):\n",
    "        self.url='http://openapi.data.go.kr/openapi/service/rest/Covid19/getCovid19InfStateJson'\n",
    "        self.ServiceKey=requests.utils.unquote('Ax%2FnB%2FW10KaDGhIK%2Fds3YS6Jx7V%2BkUR%2FBs8l0L%2Ff6icPTFibZkV1lkgsTvlLWFhI5MhUeRPbqYm5uuFXEovnBA%3D%3D',encoding='utf-8')\n",
    "        self.start_date=(datetime.now() - timedelta(1)).strftime('%Y%m%d')\n",
    "        self.end_date=(datetime.now() - timedelta(1)).strftime('%Y%m%d')\n",
    "\n",
    "        self.params={\n",
    "            'serviceKey':self.ServiceKey,\n",
    "            'startCreateDt': self.start_date,\n",
    "            'endCreateDt': self.end_date,\n",
    "            'numOfRows': 10,\n",
    "            'pageNo':1\n",
    "        }\n",
    "\n",
    "    def get_sparkFrame(self, start_date:Union[date, datetime],end_date:Union[date,datetime]):\n",
    "        convert_method = {\n",
    "            'accdefrate' : float,\n",
    "            'accexamcnt' : int,\n",
    "            'createdt': lambda x: datetime.strptime(x, '%Y-%m-%d %H:%M:%S.%f'),\n",
    "            'deathcnt' : int,\n",
    "            'seq':int,\n",
    "            'statedt' : str,\n",
    "            'statetime' : str,\n",
    "            'updatedt' : lambda x: datetime.strptime(x, 'Y-%m-%d %H:%M:%S.%f')            \n",
    "        }\n",
    "        \n",
    "    \n",
    "    \n",
    "    def get_date(self,url,params):\n",
    "        url = self.url\n",
    "        params = self.params\n",
    "        get=requests.get(url, params)\n",
    "        content=get.content\n",
    "        parsing=xmltodict.parse(content)\n",
    "        item=parsing['response']['body']['items']['item']\n",
    "        \n",
    "        return item\n",
    "        "
   ]
  },
  {
   "cell_type": "code",
   "execution_count": 21,
   "id": "ab107cf1-0d7e-4732-b9fe-9f41e8227787",
   "metadata": {},
   "outputs": [
    {
     "ename": "NameError",
     "evalue": "name 'url' is not defined",
     "output_type": "error",
     "traceback": [
      "\u001b[0;31m---------------------------------------------------------------------------\u001b[0m",
      "\u001b[0;31mNameError\u001b[0m                                 Traceback (most recent call last)",
      "Input \u001b[0;32mIn [21]\u001b[0m, in \u001b[0;36m<cell line: 1>\u001b[0;34m()\u001b[0m\n\u001b[0;32m----> 1\u001b[0m Covid\u001b[38;5;241m.\u001b[39mget_date(\u001b[43murl\u001b[49m,params)\n",
      "\u001b[0;31mNameError\u001b[0m: name 'url' is not defined"
     ]
    }
   ],
   "source": [
    "Covid.get_date(url,params)"
   ]
  },
  {
   "cell_type": "code",
   "execution_count": 32,
   "id": "9f96d230-5f5b-461f-92de-522d89823eec",
   "metadata": {},
   "outputs": [
    {
     "data": {
      "text/plain": [
       "'20220823'"
      ]
     },
     "execution_count": 32,
     "metadata": {},
     "output_type": "execute_result"
    }
   ],
   "source": [
    "start_date=(datetime.now() - timedelta(1)).strftime('%Y%m%d')\n",
    "start_date"
   ]
  },
  {
   "cell_type": "code",
   "execution_count": 4,
   "id": "16bd5134-2b79-4630-99c6-0776dcc1c17a",
   "metadata": {},
   "outputs": [],
   "source": [
    "url='http://openapi.data.go.kr/openapi/service/rest/Covid19/getCovid19InfStateJson'\n",
    "ServiceKey=requests.utils.unquote('Ax%2FnB%2FW10KaDGhIK%2Fds3YS6Jx7V%2BkUR%2FBs8l0L%2Ff6icPTFibZkV1lkgsTvlLWFhI5MhUeRPbqYm5uuFXEovnBA%3D%3D',encoding='utf-8')"
   ]
  },
  {
   "cell_type": "code",
   "execution_count": 10,
   "id": "6622690a-c776-4144-837e-201afb8f4dd2",
   "metadata": {},
   "outputs": [],
   "source": [
    "start_date=datetime.now() - timedelta(1)\n",
    "start_date=start_date.strftime('%Y%m%d')"
   ]
  },
  {
   "cell_type": "code",
   "execution_count": 12,
   "id": "c2840b9f-ce88-48a0-8564-623def3c48f9",
   "metadata": {},
   "outputs": [],
   "source": [
    "start_date=datetime.now() - timedelta(2)\n",
    "start_date=start_date.strftime('%Y%m%d')\n",
    "end_date=datetime.now() - timedelta(1)\n",
    "end_date=end_date.strftime('%Y%m%d')\n",
    "\n",
    "params = {\n",
    "    'serviceKey':ServiceKey,\n",
    "    'startCreateDt':start_date,\n",
    "    'endCreateDt': end_date,\n",
    "    'numOfRows' : 10,\n",
    "    'pageNo':1\n",
    "}"
   ]
  },
  {
   "cell_type": "code",
   "execution_count": 13,
   "id": "abba4f30-6ab4-4c4e-9ff2-23ed12df8221",
   "metadata": {},
   "outputs": [],
   "source": [
    "get=requests.get(url, params)"
   ]
  },
  {
   "cell_type": "code",
   "execution_count": 14,
   "id": "6346114f-db7d-4a83-8a11-baa17731011d",
   "metadata": {},
   "outputs": [
    {
     "data": {
      "text/plain": [
       "<Response [200]>"
      ]
     },
     "execution_count": 14,
     "metadata": {},
     "output_type": "execute_result"
    }
   ],
   "source": [
    "get"
   ]
  },
  {
   "cell_type": "code",
   "execution_count": 37,
   "id": "ace1dd2a-7826-4a83-9f68-f813efdd4b64",
   "metadata": {},
   "outputs": [],
   "source": [
    "content=get.content\n",
    "content\n",
    "parsing=xmltodict.parse(content)\n",
    "item=parsing['response']['body']['items']['item']"
   ]
  },
  {
   "cell_type": "code",
   "execution_count": 38,
   "id": "a9fda9d4-73e9-4bc5-ace3-b18e58d10343",
   "metadata": {},
   "outputs": [
    {
     "data": {
      "text/plain": [
       "[{'createDt': '2022-08-23 09:00:22.27',\n",
       "  'deathCnt': '26161',\n",
       "  'decideCnt': '22449301',\n",
       "  'seq': '983',\n",
       "  'stateDt': '20220823',\n",
       "  'stateTime': '00:00',\n",
       "  'updateDt': '2022-08-24 08:50:48.44'},\n",
       " {'createDt': '2022-08-22 08:10:20.298',\n",
       "  'deathCnt': '26109',\n",
       "  'decideCnt': '22299043',\n",
       "  'seq': '982',\n",
       "  'stateDt': '20220822',\n",
       "  'stateTime': '00:00',\n",
       "  'updateDt': '2022-08-24 08:50:59.733'}]"
      ]
     },
     "execution_count": 38,
     "metadata": {},
     "output_type": "execute_result"
    }
   ],
   "source": [
    "item"
   ]
  }
 ],
 "metadata": {
  "kernelspec": {
   "display_name": "Python 3 (ipykernel)",
   "language": "python",
   "name": "python3"
  },
  "language_info": {
   "codemirror_mode": {
    "name": "ipython",
    "version": 3
   },
   "file_extension": ".py",
   "mimetype": "text/x-python",
   "name": "python",
   "nbconvert_exporter": "python",
   "pygments_lexer": "ipython3",
   "version": "3.8.13"
  }
 },
 "nbformat": 4,
 "nbformat_minor": 5
}

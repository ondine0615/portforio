{
 "cells": [
  {
   "cell_type": "code",
   "execution_count": 3,
   "id": "f3b80311-9f7b-4fe1-8270-9469ecc5afe7",
   "metadata": {},
   "outputs": [],
   "source": [
    "import requests\n",
    "from bs4 import BeautifulSoup\n",
    "from datetime import datetime, date, timedelta\n",
    "from typing import Union\n",
    "import findspark\n",
    "findspark.init()\n",
    "from pyspark.sql import SparkSession\n",
    "from pyspark.sql import functions as F\n",
    "from pyspark.sql import Row\n",
    "from pyspark.sql.types import StructField, StructType, DoubleType, IntegerType, TimestampType, StringType"
   ]
  },
  {
   "cell_type": "code",
   "execution_count": null,
   "id": "28fcf871-870a-48c7-a657-7d191ebc4d50",
   "metadata": {},
   "outputs": [],
   "source": []
  },
  {
   "cell_type": "code",
   "execution_count": 4,
   "id": "d2991d37-c526-4b97-a53e-b077c1ab06ae",
   "metadata": {},
   "outputs": [
    {
     "name": "stdout",
     "output_type": "stream",
     "text": [
      "22/08/25 15:32:20 WARN Utils: Your hostname, hyunj resolves to a loopback address: 127.0.1.1; using 192.168.0.13 instead (on interface eno1)\n",
      "22/08/25 15:32:20 WARN Utils: Set SPARK_LOCAL_IP if you need to bind to another address\n"
     ]
    },
    {
     "name": "stderr",
     "output_type": "stream",
     "text": [
      "Setting default log level to \"WARN\".\n",
      "To adjust logging level use sc.setLogLevel(newLevel). For SparkR, use setLogLevel(newLevel).\n"
     ]
    },
    {
     "name": "stdout",
     "output_type": "stream",
     "text": [
      "22/08/25 15:32:20 WARN NativeCodeLoader: Unable to load native-hadoop library for your platform... using builtin-java classes where applicable\n",
      "22/08/25 15:32:20 WARN Utils: Service 'SparkUI' could not bind on port 4040. Attempting port 4041.\n"
     ]
    }
   ],
   "source": [
    "MAX_MEMORY=\"7g\"\n",
    "spark = SparkSession.builder.appName(\"covid18\")\\\n",
    "                .config(\"spark.executor.memory\", MAX_MEMORY)\\\n",
    "                .config(\"spark.driver.memory\", MAX_MEMORY)\\\n",
    "                .getOrCreate()"
   ]
  },
  {
   "cell_type": "code",
   "execution_count": 16,
   "id": "18f35aa0-e05a-4bba-ae42-f5c915dacf7d",
   "metadata": {
    "tags": []
   },
   "outputs": [],
   "source": [
    "def getCovid19Info(start_date: date, end_date: date):\n",
    "    url = 'http://openapi.data.go.kr/openapi/service/rest/Covid19/getCovid19InfStateJson'\n",
    "    api_key_utf8 = 'Ax%2FnB%2FW10KaDGhIK%2Fds3YS6Jx7V%2BkUR%2FBs8l0L%2Ff6icPTFibZkV1lkgsTvlLWFhI5MhUeRPbqYm5uuFXEovnBA%3D%3D'\n",
    "    api_key_decode = requests.utils.unquote(api_key_utf8, encoding='utf-8')\n",
    "\n",
    "    params ={\n",
    "        'serviceKey' : api_key_decode,\n",
    "        'startCreateDt' : int('{:04d}{:02d}{:02d}'.format(start_date.year, start_date.month, start_date.day)),\n",
    "        'endCreateDt' : int('{:04d}{:02d}{:02d}'.format(end_date.year, end_date.month, end_date.day)),\n",
    "    }\n",
    "\n",
    "    response = requests.get(url, params=params)\n",
    "    content = response.text\n",
    "    elapsed_us = response.elapsed.microseconds\n",
    "    print('Reqeust Done, Elapsed: {} seconds'.format(elapsed_us / 1e6))#100만\n",
    "    \n",
    "    return BeautifulSoup(content, \"lxml\")#불러온 text 데이터를 python xml인 lxml로 변환\n",
    "\n",
    "def getCovid19SparkDataFrame(start_date: Union[date, datetime], end_date: Union[date,datetime]):\n",
    "    #key값의 데이터 타입 정의\n",
    "    convert_method = {\n",
    "        'accdefrate' : float,\n",
    "        'accexamcnt' : int,\n",
    "        'createdt' : lambda x: datetime.strptime(x, '%Y-%m-%d %H:%M:%S.%f'),\n",
    "        'deathcnt' : int,\n",
    "        'decidecnt' : int,\n",
    "        'seq' : int,\n",
    "        'statedt' : str,\n",
    "        'statetime' : str,\n",
    "        'updatedt' : lambda x: datetime.strptime(x, '%Y-%m-%d %H:%M:%S.%f'),\n",
    "    }\n",
    "    temp = getCovid19Info(start_date, end_date)\n",
    "    items = temp.find('items')#item만 추출\n",
    "    item_list = []\n",
    "    for item in items:\n",
    "        item_dict = {}\n",
    "        for tag in list(item):\n",
    "            try:\n",
    "                item_dict[tag.name] = convert_method[tag.name](tag.text)\n",
    "            except Exception:\n",
    "                item_dict[tag.name] = None\n",
    "        item_list.append(item_dict)#lxml데이터를 dictionary in list로 변환\n",
    "    \n",
    "    CovidInfo_item_Schema = StructType([\n",
    "        StructField('accdefrate', DoubleType(), True),#누적확진률\n",
    "        StructField('accexamcnt', IntegerType(), True),#누적의심신고검사자\n",
    "        StructField('createdt', TimestampType(),True),#등록일시분초\n",
    "        StructField('deathcnt', IntegerType(), True),#사망자 수\n",
    "        StructField('decidecnt', IntegerType(), True),#확진자 수\n",
    "        StructField('seq', IntegerType(), True),#게시글 번호(감염현황 고유값)\n",
    "        StructField('statedt', StringType(), True),#기준일\n",
    "        StructField('statetime', StringType(), True),#기준시간\n",
    "        StructField('updatedt', TimestampType(), True)#수정일시분초\n",
    "    ])\n",
    "    \n",
    "    df_Covid19 = spark.createDataFrame(item_list,CovidInfo_item_Schema)\n",
    "    return df_Covid19"
   ]
  },
  {
   "cell_type": "code",
   "execution_count": 19,
   "id": "23e3d68f-fec0-4d0a-953c-c06175b40134",
   "metadata": {},
   "outputs": [
    {
     "ename": "AttributeError",
     "evalue": "'int' object has no attribute 'year'",
     "output_type": "error",
     "traceback": [
      "\u001b[0;31m---------------------------------------------------------------------------\u001b[0m",
      "\u001b[0;31mAttributeError\u001b[0m                            Traceback (most recent call last)",
      "Input \u001b[0;32mIn [19]\u001b[0m, in \u001b[0;36m<cell line: 1>\u001b[0;34m()\u001b[0m\n\u001b[0;32m----> 1\u001b[0m \u001b[43mgetCovid19SparkDataFrame\u001b[49m\u001b[43m(\u001b[49m\u001b[38;5;241;43m20220707\u001b[39;49m\u001b[43m,\u001b[49m\u001b[38;5;241;43m20220707\u001b[39;49m\u001b[43m)\u001b[49m\n",
      "Input \u001b[0;32mIn [16]\u001b[0m, in \u001b[0;36mgetCovid19SparkDataFrame\u001b[0;34m(start_date, end_date)\u001b[0m\n\u001b[1;32m     19\u001b[0m \u001b[38;5;28;01mdef\u001b[39;00m \u001b[38;5;21mgetCovid19SparkDataFrame\u001b[39m(start_date: Union[date, datetime], end_date: Union[date,datetime]):\n\u001b[1;32m     20\u001b[0m     \u001b[38;5;66;03m#key값의 데이터 타입 정의\u001b[39;00m\n\u001b[1;32m     21\u001b[0m     convert_method \u001b[38;5;241m=\u001b[39m {\n\u001b[1;32m     22\u001b[0m         \u001b[38;5;124m'\u001b[39m\u001b[38;5;124maccdefrate\u001b[39m\u001b[38;5;124m'\u001b[39m : \u001b[38;5;28mfloat\u001b[39m,\n\u001b[1;32m     23\u001b[0m         \u001b[38;5;124m'\u001b[39m\u001b[38;5;124maccexamcnt\u001b[39m\u001b[38;5;124m'\u001b[39m : \u001b[38;5;28mint\u001b[39m,\n\u001b[0;32m   (...)\u001b[0m\n\u001b[1;32m     30\u001b[0m         \u001b[38;5;124m'\u001b[39m\u001b[38;5;124mupdatedt\u001b[39m\u001b[38;5;124m'\u001b[39m : \u001b[38;5;28;01mlambda\u001b[39;00m x: datetime\u001b[38;5;241m.\u001b[39mstrptime(x, \u001b[38;5;124m'\u001b[39m\u001b[38;5;124m%\u001b[39m\u001b[38;5;124mY-\u001b[39m\u001b[38;5;124m%\u001b[39m\u001b[38;5;124mm-\u001b[39m\u001b[38;5;132;01m%d\u001b[39;00m\u001b[38;5;124m \u001b[39m\u001b[38;5;124m%\u001b[39m\u001b[38;5;124mH:\u001b[39m\u001b[38;5;124m%\u001b[39m\u001b[38;5;124mM:\u001b[39m\u001b[38;5;124m%\u001b[39m\u001b[38;5;124mS.\u001b[39m\u001b[38;5;132;01m%f\u001b[39;00m\u001b[38;5;124m'\u001b[39m),\n\u001b[1;32m     31\u001b[0m     }\n\u001b[0;32m---> 32\u001b[0m     temp \u001b[38;5;241m=\u001b[39m \u001b[43mgetCovid19Info\u001b[49m\u001b[43m(\u001b[49m\u001b[43mstart_date\u001b[49m\u001b[43m,\u001b[49m\u001b[43m \u001b[49m\u001b[43mend_date\u001b[49m\u001b[43m)\u001b[49m\n\u001b[1;32m     33\u001b[0m     items \u001b[38;5;241m=\u001b[39m temp\u001b[38;5;241m.\u001b[39mfind(\u001b[38;5;124m'\u001b[39m\u001b[38;5;124mitems\u001b[39m\u001b[38;5;124m'\u001b[39m)\u001b[38;5;66;03m#item만 추출\u001b[39;00m\n\u001b[1;32m     34\u001b[0m     item_list \u001b[38;5;241m=\u001b[39m []\n",
      "Input \u001b[0;32mIn [16]\u001b[0m, in \u001b[0;36mgetCovid19Info\u001b[0;34m(start_date, end_date)\u001b[0m\n\u001b[1;32m      3\u001b[0m api_key_utf8 \u001b[38;5;241m=\u001b[39m \u001b[38;5;124m'\u001b[39m\u001b[38;5;124mAx\u001b[39m\u001b[38;5;132;01m%2F\u001b[39;00m\u001b[38;5;124mnB\u001b[39m\u001b[38;5;132;01m%2F\u001b[39;00m\u001b[38;5;124mW10KaDGhIK\u001b[39m\u001b[38;5;132;01m%2F\u001b[39;00m\u001b[38;5;124mds3YS6Jx7V\u001b[39m\u001b[38;5;124m%\u001b[39m\u001b[38;5;124m2BkUR\u001b[39m\u001b[38;5;132;01m%2F\u001b[39;00m\u001b[38;5;124mBs8l0L\u001b[39m\u001b[38;5;132;01m%2F\u001b[39;00m\u001b[38;5;124mf6icPTFibZkV1lkgsTvlLWFhI5MhUeRPbqYm5uuFXEovnBA\u001b[39m\u001b[38;5;124m%\u001b[39m\u001b[38;5;124m3D\u001b[39m\u001b[38;5;124m%\u001b[39m\u001b[38;5;124m3D\u001b[39m\u001b[38;5;124m'\u001b[39m\n\u001b[1;32m      4\u001b[0m api_key_decode \u001b[38;5;241m=\u001b[39m requests\u001b[38;5;241m.\u001b[39mutils\u001b[38;5;241m.\u001b[39munquote(api_key_utf8, encoding\u001b[38;5;241m=\u001b[39m\u001b[38;5;124m'\u001b[39m\u001b[38;5;124mutf-8\u001b[39m\u001b[38;5;124m'\u001b[39m)\n\u001b[1;32m      6\u001b[0m params \u001b[38;5;241m=\u001b[39m{\n\u001b[1;32m      7\u001b[0m     \u001b[38;5;124m'\u001b[39m\u001b[38;5;124mserviceKey\u001b[39m\u001b[38;5;124m'\u001b[39m : api_key_decode,\n\u001b[0;32m----> 8\u001b[0m     \u001b[38;5;124m'\u001b[39m\u001b[38;5;124mstartCreateDt\u001b[39m\u001b[38;5;124m'\u001b[39m : \u001b[38;5;28mint\u001b[39m(\u001b[38;5;124m'\u001b[39m\u001b[38;5;132;01m{:04d}\u001b[39;00m\u001b[38;5;132;01m{:02d}\u001b[39;00m\u001b[38;5;132;01m{:02d}\u001b[39;00m\u001b[38;5;124m'\u001b[39m\u001b[38;5;241m.\u001b[39mformat(\u001b[43mstart_date\u001b[49m\u001b[38;5;241;43m.\u001b[39;49m\u001b[43myear\u001b[49m, start_date\u001b[38;5;241m.\u001b[39mmonth, start_date\u001b[38;5;241m.\u001b[39mday)),\n\u001b[1;32m      9\u001b[0m     \u001b[38;5;124m'\u001b[39m\u001b[38;5;124mendCreateDt\u001b[39m\u001b[38;5;124m'\u001b[39m : \u001b[38;5;28mint\u001b[39m(\u001b[38;5;124m'\u001b[39m\u001b[38;5;132;01m{:04d}\u001b[39;00m\u001b[38;5;132;01m{:02d}\u001b[39;00m\u001b[38;5;132;01m{:02d}\u001b[39;00m\u001b[38;5;124m'\u001b[39m\u001b[38;5;241m.\u001b[39mformat(end_date\u001b[38;5;241m.\u001b[39myear, end_date\u001b[38;5;241m.\u001b[39mmonth, end_date\u001b[38;5;241m.\u001b[39mday)),\n\u001b[1;32m     10\u001b[0m }\n\u001b[1;32m     12\u001b[0m response \u001b[38;5;241m=\u001b[39m requests\u001b[38;5;241m.\u001b[39mget(url, params\u001b[38;5;241m=\u001b[39mparams)\n\u001b[1;32m     13\u001b[0m content \u001b[38;5;241m=\u001b[39m response\u001b[38;5;241m.\u001b[39mtext\n",
      "\u001b[0;31mAttributeError\u001b[0m: 'int' object has no attribute 'year'"
     ]
    }
   ],
   "source": [
    "getCovid19SparkDataFrame(20220707,20220707)"
   ]
  },
  {
   "cell_type": "code",
   "execution_count": 14,
   "id": "0738b86b-2c0f-40a7-af94-28237f037e42",
   "metadata": {},
   "outputs": [],
   "source": [
    "def getAllCovid19Data():\n",
    "    df_Covid19 = getCovid19SparkDataFrame(date(2019,1,1), now)\n",
    "    print(\"Today: {}\\nLoaded {} Records\".format(now.strftime('%Y-%m-%d'),df_Covid19.distinct().count()))\n",
    "    return df_Covid19"
   ]
  },
  {
   "cell_type": "code",
   "execution_count": 10,
   "id": "2f283e7d-9e13-4828-82c0-3da1150ba05e",
   "metadata": {},
   "outputs": [],
   "source": [
    "def getCovid19SparkDataFrame(start_date: Union[date, datetime], end_date: Union[date,datetime]):\n",
    "    #key값의 데이터 타입 정의\n",
    "    convert_method = {\n",
    "        'accdefrate' : float,\n",
    "        'accexamcnt' : int,\n",
    "        'createdt' : lambda x: datetime.strptime(x, '%Y-%m-%d %H:%M:%S.%f'),\n",
    "        'deathcnt' : int,\n",
    "        'decidecnt' : int,\n",
    "        'seq' : int,\n",
    "        'statedt' : str,\n",
    "        'statetime' : str,\n",
    "        'updatedt' : lambda x: datetime.strptime(x, '%Y-%m-%d %H:%M:%S.%f'),\n",
    "    }"
   ]
  },
  {
   "cell_type": "code",
   "execution_count": 11,
   "id": "1401bd68-a3ce-4e4c-a0f1-5aec71d2d083",
   "metadata": {},
   "outputs": [
    {
     "ename": "NameError",
     "evalue": "name 'start_date' is not defined",
     "output_type": "error",
     "traceback": [
      "\u001b[0;31m---------------------------------------------------------------------------\u001b[0m",
      "\u001b[0;31mNameError\u001b[0m                                 Traceback (most recent call last)",
      "Input \u001b[0;32mIn [11]\u001b[0m, in \u001b[0;36m<cell line: 1>\u001b[0;34m()\u001b[0m\n\u001b[0;32m----> 1\u001b[0m temp \u001b[38;5;241m=\u001b[39m getCovid19Info(\u001b[43mstart_date\u001b[49m, end_date)\n\u001b[1;32m      2\u001b[0m items \u001b[38;5;241m=\u001b[39m temp\u001b[38;5;241m.\u001b[39mfind(\u001b[38;5;124m'\u001b[39m\u001b[38;5;124mitems\u001b[39m\u001b[38;5;124m'\u001b[39m)\n",
      "\u001b[0;31mNameError\u001b[0m: name 'start_date' is not defined"
     ]
    }
   ],
   "source": [
    "temp = getCovid19Info(start_date, end_date)\n",
    "items = temp.find('items')#item만 추출"
   ]
  }
 ],
 "metadata": {
  "kernelspec": {
   "display_name": "Python 3 (ipykernel)",
   "language": "python",
   "name": "python3"
  },
  "language_info": {
   "codemirror_mode": {
    "name": "ipython",
    "version": 3
   },
   "file_extension": ".py",
   "mimetype": "text/x-python",
   "name": "python",
   "nbconvert_exporter": "python",
   "pygments_lexer": "ipython3",
   "version": "3.8.13"
  }
 },
 "nbformat": 4,
 "nbformat_minor": 5
}

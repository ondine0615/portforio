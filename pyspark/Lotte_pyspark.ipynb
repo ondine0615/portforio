{
 "cells": [
  {
   "cell_type": "code",
   "execution_count": 1,
   "id": "b9063178-1e8b-4745-8fd7-48a144de9c15",
   "metadata": {},
   "outputs": [],
   "source": [
    "from pyspark.sql import SparkSession\n",
    "from pyspark.ml import Pipeline\n",
    "from pyspark.ml.feature import OneHotEncoder, StringIndexer, VectorAssembler, StandardScaler\n",
    "from pyspark.ml.regression import LinearRegression\n",
    "from pyspark.ml.tuning import CrossValidator, ParamGridBuilder\n",
    "from pyspark.ml.evaluation import RegressionEvaluator\n",
    "import numpy as np\n",
    "import pandas as pd\n",
    "\n",
    "MAX_MEMORY=\"7g\"\n",
    "spark = SparkSession.builder.appName(\"lotte\")\\\n",
    "                .config(\"spark.executor.memory\", MAX_MEMORY)\\\n",
    "                .config(\"spark.driver.memory\", MAX_MEMORY)\\\n",
    "                .getOrCreate()\n",
    "\n",
    "df=pd.read_csv(\"cluster.csv\",encoding='cp949')"
   ]
  },
  {
   "cell_type": "code",
   "execution_count": 2,
   "id": "9b0f28da-54dc-473f-82d3-9adee91d6445",
   "metadata": {},
   "outputs": [
    {
     "data": {
      "text/html": [
       "<div>\n",
       "<style scoped>\n",
       "    .dataframe tbody tr th:only-of-type {\n",
       "        vertical-align: middle;\n",
       "    }\n",
       "\n",
       "    .dataframe tbody tr th {\n",
       "        vertical-align: top;\n",
       "    }\n",
       "\n",
       "    .dataframe thead th {\n",
       "        text-align: right;\n",
       "    }\n",
       "</style>\n",
       "<table border=\"1\" class=\"dataframe\">\n",
       "  <thead>\n",
       "    <tr style=\"text-align: right;\">\n",
       "      <th></th>\n",
       "      <th>Unnamed: 0</th>\n",
       "      <th>고객ID</th>\n",
       "      <th>거주지</th>\n",
       "      <th>cluster</th>\n",
       "      <th>A_상반기_가구/인테리어_변화</th>\n",
       "      <th>B_상반기_가구/인테리어_변화</th>\n",
       "      <th>A_상반기_디지털/가전_변화</th>\n",
       "      <th>B_상반기_디지털/가전_변화</th>\n",
       "      <th>A_상반기_생활/건강_변화</th>\n",
       "      <th>B_상반기_생활/건강_변화</th>\n",
       "      <th>...</th>\n",
       "      <th>B_하반기_스포츠/레저_변화</th>\n",
       "      <th>A_하반기_식품_변화</th>\n",
       "      <th>B_하반기_식품_변화</th>\n",
       "      <th>A_하반기_패션의류_변화</th>\n",
       "      <th>B_하반기_패션의류_변화</th>\n",
       "      <th>A_하반기_패션잡화_변화</th>\n",
       "      <th>B_하반기_패션잡화_변화</th>\n",
       "      <th>A_하반기_화장품/미용_변화</th>\n",
       "      <th>B_하반기_화장품/미용_변화</th>\n",
       "      <th>구매감소</th>\n",
       "    </tr>\n",
       "  </thead>\n",
       "  <tbody>\n",
       "    <tr>\n",
       "      <th>0</th>\n",
       "      <td>0</td>\n",
       "      <td>4</td>\n",
       "      <td>서울시</td>\n",
       "      <td>6</td>\n",
       "      <td>-100.000000</td>\n",
       "      <td>-100.0</td>\n",
       "      <td>0.000000</td>\n",
       "      <td>0.0</td>\n",
       "      <td>315.398707</td>\n",
       "      <td>95.736677</td>\n",
       "      <td>...</td>\n",
       "      <td>0.0</td>\n",
       "      <td>38.165866</td>\n",
       "      <td>-33.128021</td>\n",
       "      <td>-36.252868</td>\n",
       "      <td>229.128440</td>\n",
       "      <td>-6.124604</td>\n",
       "      <td>9.197635</td>\n",
       "      <td>-97.745811</td>\n",
       "      <td>0.000000</td>\n",
       "      <td>True</td>\n",
       "    </tr>\n",
       "    <tr>\n",
       "      <th>1</th>\n",
       "      <td>1</td>\n",
       "      <td>6</td>\n",
       "      <td>강원도</td>\n",
       "      <td>6</td>\n",
       "      <td>458.833333</td>\n",
       "      <td>0.0</td>\n",
       "      <td>0.000000</td>\n",
       "      <td>0.0</td>\n",
       "      <td>-68.156313</td>\n",
       "      <td>-67.096377</td>\n",
       "      <td>...</td>\n",
       "      <td>0.0</td>\n",
       "      <td>-66.721886</td>\n",
       "      <td>15.417325</td>\n",
       "      <td>5.471029</td>\n",
       "      <td>-16.732026</td>\n",
       "      <td>353.000000</td>\n",
       "      <td>-25.000000</td>\n",
       "      <td>-80.937404</td>\n",
       "      <td>-57.507673</td>\n",
       "      <td>False</td>\n",
       "    </tr>\n",
       "    <tr>\n",
       "      <th>2</th>\n",
       "      <td>2</td>\n",
       "      <td>7</td>\n",
       "      <td>서울시</td>\n",
       "      <td>6</td>\n",
       "      <td>-7.225352</td>\n",
       "      <td>0.0</td>\n",
       "      <td>0.000000</td>\n",
       "      <td>0.0</td>\n",
       "      <td>1220.000000</td>\n",
       "      <td>175.584462</td>\n",
       "      <td>...</td>\n",
       "      <td>0.0</td>\n",
       "      <td>12.152325</td>\n",
       "      <td>-99.622139</td>\n",
       "      <td>-33.755887</td>\n",
       "      <td>0.000000</td>\n",
       "      <td>-89.187595</td>\n",
       "      <td>-100.000000</td>\n",
       "      <td>934.444444</td>\n",
       "      <td>0.000000</td>\n",
       "      <td>False</td>\n",
       "    </tr>\n",
       "    <tr>\n",
       "      <th>3</th>\n",
       "      <td>3</td>\n",
       "      <td>9</td>\n",
       "      <td>경기도</td>\n",
       "      <td>6</td>\n",
       "      <td>0.000000</td>\n",
       "      <td>0.0</td>\n",
       "      <td>310.762724</td>\n",
       "      <td>0.0</td>\n",
       "      <td>392.873684</td>\n",
       "      <td>0.000000</td>\n",
       "      <td>...</td>\n",
       "      <td>0.0</td>\n",
       "      <td>149.433975</td>\n",
       "      <td>0.000000</td>\n",
       "      <td>-53.825702</td>\n",
       "      <td>0.000000</td>\n",
       "      <td>54.685786</td>\n",
       "      <td>0.000000</td>\n",
       "      <td>370.517802</td>\n",
       "      <td>0.000000</td>\n",
       "      <td>False</td>\n",
       "    </tr>\n",
       "    <tr>\n",
       "      <th>4</th>\n",
       "      <td>4</td>\n",
       "      <td>10</td>\n",
       "      <td>서울시</td>\n",
       "      <td>6</td>\n",
       "      <td>0.000000</td>\n",
       "      <td>0.0</td>\n",
       "      <td>0.000000</td>\n",
       "      <td>0.0</td>\n",
       "      <td>-100.000000</td>\n",
       "      <td>0.000000</td>\n",
       "      <td>...</td>\n",
       "      <td>0.0</td>\n",
       "      <td>-62.386286</td>\n",
       "      <td>-55.704908</td>\n",
       "      <td>754.358974</td>\n",
       "      <td>0.000000</td>\n",
       "      <td>162.500000</td>\n",
       "      <td>0.000000</td>\n",
       "      <td>-71.832669</td>\n",
       "      <td>375.860000</td>\n",
       "      <td>True</td>\n",
       "    </tr>\n",
       "  </tbody>\n",
       "</table>\n",
       "<p>5 rows × 37 columns</p>\n",
       "</div>"
      ],
      "text/plain": [
       "   Unnamed: 0  고객ID  거주지  cluster  A_상반기_가구/인테리어_변화  B_상반기_가구/인테리어_변화  \\\n",
       "0           0     4  서울시        6       -100.000000            -100.0   \n",
       "1           1     6  강원도        6        458.833333               0.0   \n",
       "2           2     7  서울시        6         -7.225352               0.0   \n",
       "3           3     9  경기도        6          0.000000               0.0   \n",
       "4           4    10  서울시        6          0.000000               0.0   \n",
       "\n",
       "   A_상반기_디지털/가전_변화  B_상반기_디지털/가전_변화  A_상반기_생활/건강_변화  B_상반기_생활/건강_변화  ...  \\\n",
       "0         0.000000              0.0      315.398707       95.736677  ...   \n",
       "1         0.000000              0.0      -68.156313      -67.096377  ...   \n",
       "2         0.000000              0.0     1220.000000      175.584462  ...   \n",
       "3       310.762724              0.0      392.873684        0.000000  ...   \n",
       "4         0.000000              0.0     -100.000000        0.000000  ...   \n",
       "\n",
       "   B_하반기_스포츠/레저_변화  A_하반기_식품_변화  B_하반기_식품_변화  A_하반기_패션의류_변화  B_하반기_패션의류_변화  \\\n",
       "0              0.0    38.165866   -33.128021     -36.252868     229.128440   \n",
       "1              0.0   -66.721886    15.417325       5.471029     -16.732026   \n",
       "2              0.0    12.152325   -99.622139     -33.755887       0.000000   \n",
       "3              0.0   149.433975     0.000000     -53.825702       0.000000   \n",
       "4              0.0   -62.386286   -55.704908     754.358974       0.000000   \n",
       "\n",
       "   A_하반기_패션잡화_변화  B_하반기_패션잡화_변화  A_하반기_화장품/미용_변화  B_하반기_화장품/미용_변화   구매감소  \n",
       "0      -6.124604       9.197635       -97.745811         0.000000   True  \n",
       "1     353.000000     -25.000000       -80.937404       -57.507673  False  \n",
       "2     -89.187595    -100.000000       934.444444         0.000000  False  \n",
       "3      54.685786       0.000000       370.517802         0.000000  False  \n",
       "4     162.500000       0.000000       -71.832669       375.860000   True  \n",
       "\n",
       "[5 rows x 37 columns]"
      ]
     },
     "execution_count": 2,
     "metadata": {},
     "output_type": "execute_result"
    }
   ],
   "source": [
    "df.head()"
   ]
  },
  {
   "cell_type": "code",
   "execution_count": 5,
   "id": "47040dea-52b1-4ef2-8b3c-8aa4e1720900",
   "metadata": {},
   "outputs": [],
   "source": [
    "df=df.drop(['Unnamed: 0','고객ID'],axis=1)"
   ]
  },
  {
   "cell_type": "code",
   "execution_count": 6,
   "id": "96d4a957-522e-496f-b79c-4913aa7935f3",
   "metadata": {},
   "outputs": [],
   "source": [
    "df_1=df.astype({\"구매감소\":'str'})\n",
    "df_1['구매감소']=df_1['구매감소'].map({\n",
    "    \"True\":\"1\",\n",
    "    \"False\":\"0\"},na_action=None)"
   ]
  },
  {
   "cell_type": "code",
   "execution_count": 8,
   "id": "d27c8724-6a51-4ef2-9a9b-9f59c9b82749",
   "metadata": {},
   "outputs": [],
   "source": [
    "df=df_1.astype({\"구매감소\":'float'})"
   ]
  },
  {
   "cell_type": "code",
   "execution_count": 9,
   "id": "286a6a7b-c23d-4343-bb83-141b3f526245",
   "metadata": {},
   "outputs": [],
   "source": [
    "sdf=spark.createDataFrame(df)"
   ]
  },
  {
   "cell_type": "code",
   "execution_count": 10,
   "id": "b599d419-c94a-4bb8-89de-456cbebed980",
   "metadata": {},
   "outputs": [
    {
     "name": "stdout",
     "output_type": "stream",
     "text": [
      "12656\n",
      "3242\n"
     ]
    }
   ],
   "source": [
    "train_df, test_df=sdf.randomSplit([0.8,0.2],seed=1)\n",
    "print(train_df.count())\n",
    "print(test_df.count())"
   ]
  },
  {
   "cell_type": "code",
   "execution_count": 12,
   "id": "e4f4221c-78a9-46f0-a745-e8e48103403c",
   "metadata": {},
   "outputs": [],
   "source": [
    "toy_df=train_df.sample(False,.1,seed=261)"
   ]
  },
  {
   "cell_type": "code",
   "execution_count": 13,
   "id": "0d43f243-7ece-4a20-ba38-31159d242fcb",
   "metadata": {},
   "outputs": [],
   "source": [
    "data_dir=\"/home/jovyan/work\"\n",
    "train_df.write.format(\"parquet\").save(f\"{data_dir}/train/\")\n",
    "test_df.write.format(\"parquet\").save(f\"{data_dir}/test/\")\n",
    "toy_df.write.format(\"parquet\").save(f\"{data_dir}/toy/\")"
   ]
  },
  {
   "cell_type": "code",
   "execution_count": 14,
   "id": "646d63f5-c735-4b58-b8b8-74a4578c252c",
   "metadata": {},
   "outputs": [],
   "source": [
    "data_dir=\"/home/jovyan/work\"\n",
    "train_df = spark.read.parquet(f\"{data_dir}/train/\")\n",
    "test_df = spark.read.parquet(f\"{data_dir}/test/\")\n",
    "toy_df = spark.read.parquet(f\"{data_dir}/toy/\")"
   ]
  },
  {
   "cell_type": "code",
   "execution_count": 19,
   "id": "cf0c8959-4350-4fcb-ace5-d2bb3dbf6fcd",
   "metadata": {},
   "outputs": [],
   "source": [
    "#one-hot Encoding\n",
    "\n",
    "#카테고리형 피쳐들\n",
    "cat_feats = [\n",
    "    \"거주지\",\n",
    "    \"cluster\",\n",
    "    \"구매감소\"\n",
    "]\n",
    "\n",
    "#파이프라인 스테이지\n",
    "stages = []\n",
    "\n",
    "#카테고리 피쳐 프리프로세싱\n",
    "for c in cat_feats:\n",
    "    cat_indexer = StringIndexer(inputCol=c, outputCol= c + \"_idx\").setHandleInvalid(\"keep\")\n",
    "    onehot_encoder = OneHotEncoder(inputCols=[cat_indexer.getOutputCol()], outputCols=[c + \"_onehot\"])\n",
    "    stages += [cat_indexer, onehot_encoder]"
   ]
  },
  {
   "cell_type": "code",
   "execution_count": 20,
   "id": "b23c256d-fd40-4ddd-a716-da8e7af06d2c",
   "metadata": {},
   "outputs": [],
   "source": [
    "#피처 정규화\n",
    "\n",
    "#Numerical Features\n",
    "num_feats = [\n",
    "    'A_상반기_가구/인테리어_변화','B_상반기_가구/인테리어_변화', 'A_상반기_디지털/가전_변화', 'B_상반기_디지털/가전_변화',\n",
    "    'A_상반기_생활/건강_변화', 'B_상반기_생활/건강_변화', 'A_상반기_스포츠/레저_변화',\n",
    "    'B_상반기_스포츠/레저_변화', 'A_상반기_식품_변화', 'B_상반기_식품_변화', 'A_상반기_패션의류_변화',\n",
    "    'B_상반기_패션의류_변화', 'A_상반기_패션잡화_변화', 'B_상반기_패션잡화_변화', 'A_상반기_화장품/미용_변화',\n",
    "    'B_상반기_화장품/미용_변화', 'A_하반기_가구/인테리어_변화', 'B_하반기_가구/인테리어_변화',\n",
    "    'A_하반기_디지털/가전_변화', 'B_하반기_디지털/가전_변화', 'A_하반기_생활/건강_변화',\n",
    "    'B_하반기_생활/건강_변화', 'A_하반기_스포츠/레저_변화', 'B_하반기_스포츠/레저_변화', 'A_하반기_식품_변화',\n",
    "    'B_하반기_식품_변화', 'A_하반기_패션의류_변화', 'B_하반기_패션의류_변화', 'A_하반기_패션잡화_변화',\n",
    "    'B_하반기_패션잡화_변화', 'A_하반기_화장품/미용_변화', 'B_하반기_화장품/미용_변화'\n",
    "]\n",
    "\n",
    "#Vector assembler\n",
    "for n in num_feats:\n",
    "    num_assembler = VectorAssembler(inputCols=[n], outputCol= n + \"_vecotr\")\n",
    "    num_scaler = StandardScaler(inputCol=num_assembler.getOutputCol(), outputCol= n + \"_scaled\")\n",
    "    stages += [num_assembler, num_scaler]"
   ]
  },
  {
   "cell_type": "code",
   "execution_count": 21,
   "id": "71074f58-b1bd-4843-93d1-6649a0453041",
   "metadata": {},
   "outputs": [],
   "source": [
    "#categorical + Numeric features\n",
    "\n",
    "assembler_inputs = [c + \"_onehot\" for c in cat_feats] + [n + \"_scaled\" for n in num_feats]\n",
    "assembler = VectorAssembler(inputCols=assembler_inputs, outputCol=\"feature_vector\")\n",
    "stages += [assembler]"
   ]
  },
  {
   "cell_type": "code",
   "execution_count": 22,
   "id": "5ed487df-258f-4ace-9acd-542951c14c22",
   "metadata": {},
   "outputs": [],
   "source": [
    "from pyspark.ml import Pipeline\n",
    "\n",
    "transform_stages = stages\n",
    "pipeline = Pipeline(stages=transform_stages)\n",
    "fitted_transformer = pipeline.fit(train_df)"
   ]
  },
  {
   "cell_type": "code",
   "execution_count": 23,
   "id": "bd156975-9aa5-441b-916c-c553771f74c8",
   "metadata": {},
   "outputs": [],
   "source": [
    "vtrain_df = fitted_transformer.transform(train_df)"
   ]
  },
  {
   "cell_type": "code",
   "execution_count": 24,
   "id": "0f1cde51-6764-4875-9f55-56d734151b44",
   "metadata": {},
   "outputs": [],
   "source": [
    "from pyspark.ml.regression import LinearRegression\n",
    "lr = LinearRegression(maxIter=10, \n",
    "                      regParam=0.1,\n",
    "                      elasticNetParam=0.8,\n",
    "                      solver=\"normal\", \n",
    "                      labelCol=\"구매감소\",\n",
    "                      featuresCol=\"feature_vector\")"
   ]
  },
  {
   "cell_type": "code",
   "execution_count": 25,
   "id": "98baddd1-8b66-43cf-a9e9-599f5ab9cacf",
   "metadata": {},
   "outputs": [],
   "source": [
    "model = lr.fit(vtrain_df)\n"
   ]
  },
  {
   "cell_type": "code",
   "execution_count": 26,
   "id": "51e385e0-0f9a-493e-85e4-0b1741253c6e",
   "metadata": {},
   "outputs": [],
   "source": [
    "vtest_df = fitted_transformer.transform(test_df)\n"
   ]
  },
  {
   "cell_type": "code",
   "execution_count": 27,
   "id": "a87085a7-38b4-4bab-ae21-85949d5f9800",
   "metadata": {},
   "outputs": [],
   "source": [
    "predictions = model.transform(vtest_df)\n"
   ]
  },
  {
   "cell_type": "code",
   "execution_count": 28,
   "id": "17556a1e-b056-4a0f-a914-960a6af5f1bb",
   "metadata": {},
   "outputs": [
    {
     "data": {
      "text/plain": [
       "DataFrame[거주지: string, cluster: bigint, A_상반기_가구/인테리어_변화: double, B_상반기_가구/인테리어_변화: double, A_상반기_디지털/가전_변화: double, B_상반기_디지털/가전_변화: double, A_상반기_생활/건강_변화: double, B_상반기_생활/건강_변화: double, A_상반기_스포츠/레저_변화: double, B_상반기_스포츠/레저_변화: double, A_상반기_식품_변화: double, B_상반기_식품_변화: double, A_상반기_패션의류_변화: double, B_상반기_패션의류_변화: double, A_상반기_패션잡화_변화: double, B_상반기_패션잡화_변화: double, A_상반기_화장품/미용_변화: double, B_상반기_화장품/미용_변화: double, A_하반기_가구/인테리어_변화: double, B_하반기_가구/인테리어_변화: double, A_하반기_디지털/가전_변화: double, B_하반기_디지털/가전_변화: double, A_하반기_생활/건강_변화: double, B_하반기_생활/건강_변화: double, A_하반기_스포츠/레저_변화: double, B_하반기_스포츠/레저_변화: double, A_하반기_식품_변화: double, B_하반기_식품_변화: double, A_하반기_패션의류_변화: double, B_하반기_패션의류_변화: double, A_하반기_패션잡화_변화: double, B_하반기_패션잡화_변화: double, A_하반기_화장품/미용_변화: double, B_하반기_화장품/미용_변화: double, 구매감소: double, 거주지_idx: double, 거주지_onehot: vector, cluster_idx: double, cluster_onehot: vector, 구매감소_idx: double, 구매감소_onehot: vector, A_상반기_가구/인테리어_변화_vecotr: vector, A_상반기_가구/인테리어_변화_scaled: vector, B_상반기_가구/인테리어_변화_vecotr: vector, B_상반기_가구/인테리어_변화_scaled: vector, A_상반기_디지털/가전_변화_vecotr: vector, A_상반기_디지털/가전_변화_scaled: vector, B_상반기_디지털/가전_변화_vecotr: vector, B_상반기_디지털/가전_변화_scaled: vector, A_상반기_생활/건강_변화_vecotr: vector, A_상반기_생활/건강_변화_scaled: vector, B_상반기_생활/건강_변화_vecotr: vector, B_상반기_생활/건강_변화_scaled: vector, A_상반기_스포츠/레저_변화_vecotr: vector, A_상반기_스포츠/레저_변화_scaled: vector, B_상반기_스포츠/레저_변화_vecotr: vector, B_상반기_스포츠/레저_변화_scaled: vector, A_상반기_식품_변화_vecotr: vector, A_상반기_식품_변화_scaled: vector, B_상반기_식품_변화_vecotr: vector, B_상반기_식품_변화_scaled: vector, A_상반기_패션의류_변화_vecotr: vector, A_상반기_패션의류_변화_scaled: vector, B_상반기_패션의류_변화_vecotr: vector, B_상반기_패션의류_변화_scaled: vector, A_상반기_패션잡화_변화_vecotr: vector, A_상반기_패션잡화_변화_scaled: vector, B_상반기_패션잡화_변화_vecotr: vector, B_상반기_패션잡화_변화_scaled: vector, A_상반기_화장품/미용_변화_vecotr: vector, A_상반기_화장품/미용_변화_scaled: vector, B_상반기_화장품/미용_변화_vecotr: vector, B_상반기_화장품/미용_변화_scaled: vector, A_하반기_가구/인테리어_변화_vecotr: vector, A_하반기_가구/인테리어_변화_scaled: vector, B_하반기_가구/인테리어_변화_vecotr: vector, B_하반기_가구/인테리어_변화_scaled: vector, A_하반기_디지털/가전_변화_vecotr: vector, A_하반기_디지털/가전_변화_scaled: vector, B_하반기_디지털/가전_변화_vecotr: vector, B_하반기_디지털/가전_변화_scaled: vector, A_하반기_생활/건강_변화_vecotr: vector, A_하반기_생활/건강_변화_scaled: vector, B_하반기_생활/건강_변화_vecotr: vector, B_하반기_생활/건강_변화_scaled: vector, A_하반기_스포츠/레저_변화_vecotr: vector, A_하반기_스포츠/레저_변화_scaled: vector, B_하반기_스포츠/레저_변화_vecotr: vector, B_하반기_스포츠/레저_변화_scaled: vector, A_하반기_식품_변화_vecotr: vector, A_하반기_식품_변화_scaled: vector, B_하반기_식품_변화_vecotr: vector, B_하반기_식품_변화_scaled: vector, A_하반기_패션의류_변화_vecotr: vector, A_하반기_패션의류_변화_scaled: vector, B_하반기_패션의류_변화_vecotr: vector, B_하반기_패션의류_변화_scaled: vector, A_하반기_패션잡화_변화_vecotr: vector, A_하반기_패션잡화_변화_scaled: vector, B_하반기_패션잡화_변화_vecotr: vector, B_하반기_패션잡화_변화_scaled: vector, A_하반기_화장품/미용_변화_vecotr: vector, A_하반기_화장품/미용_변화_scaled: vector, B_하반기_화장품/미용_변화_vecotr: vector, B_하반기_화장품/미용_변화_scaled: vector, feature_vector: vector, prediction: double]"
      ]
     },
     "execution_count": 28,
     "metadata": {},
     "output_type": "execute_result"
    }
   ],
   "source": [
    "predictions.cache()\n"
   ]
  },
  {
   "cell_type": "code",
   "execution_count": 29,
   "id": "fba28a36-1f6a-42bf-998e-f910d525a423",
   "metadata": {},
   "outputs": [
    {
     "data": {
      "text/plain": [
       "0.08822398273236283"
      ]
     },
     "execution_count": 29,
     "metadata": {},
     "output_type": "execute_result"
    }
   ],
   "source": [
    "model.summary.rootMeanSquaredError\n"
   ]
  },
  {
   "cell_type": "code",
   "execution_count": 30,
   "id": "771314cf-50ca-4d3c-bab8-f5173a90d0db",
   "metadata": {},
   "outputs": [
    {
     "data": {
      "text/plain": [
       "0.9684577731532277"
      ]
     },
     "execution_count": 30,
     "metadata": {},
     "output_type": "execute_result"
    }
   ],
   "source": [
    "model.summary.r2\n"
   ]
  },
  {
   "cell_type": "code",
   "execution_count": null,
   "id": "130df52b-17c0-4a0c-9f25-1100c6d1d0c9",
   "metadata": {},
   "outputs": [],
   "source": []
  }
 ],
 "metadata": {
  "kernelspec": {
   "display_name": "Python 3 (ipykernel)",
   "language": "python",
   "name": "python3"
  },
  "language_info": {
   "codemirror_mode": {
    "name": "ipython",
    "version": 3
   },
   "file_extension": ".py",
   "mimetype": "text/x-python",
   "name": "python",
   "nbconvert_exporter": "python",
   "pygments_lexer": "ipython3",
   "version": "3.9.10"
  }
 },
 "nbformat": 4,
 "nbformat_minor": 5
}

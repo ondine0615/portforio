{
 "cells": [
  {
   "cell_type": "code",
   "execution_count": 1,
   "metadata": {},
   "outputs": [],
   "source": [
    "import sys\n",
    "import os\n",
    "import pymysql\n",
    "import xmltodict\n",
    "import redis\n",
    "import requests\n",
    "#from datetime import datetime\n",
    "import datetime\n",
    "from collections import namedtuple\n",
    "import logging\n",
    "from time import sleep\n",
    "import time"
   ]
  },
  {
   "cell_type": "code",
   "execution_count": 16,
   "metadata": {},
   "outputs": [
    {
     "data": {
      "text/plain": [
       "'http://plus.kipris.or.kr/openapi/rest/RegistrationService/registrationInfo?registrationNumber=2000642310000&accessKey=Y74vSqogy7fkw71F26g146N4s9Harc7sLqm4ONkWHWE='"
      ]
     },
     "execution_count": 16,
     "metadata": {},
     "output_type": "execute_result"
    }
   ],
   "source": [
    "basic_url=\"http://plus.kipris.or.kr/openapi/rest/RegistrationService/\"\n",
    "taskId=\"registrationInfo\"\n",
    "reg_number='registrationNumber'\n",
    "number='2000642310000'\n",
    "api_key = \"Y74vSqogy7fkw71F26g146N4s9Harc7sLqm4ONkWHWE=\"\n",
    "url =f'{basic_url}{taskId}?{reg_number}={number}&accessKey={api_key}'\n",
    "url"
   ]
  },
  {
   "cell_type": "code",
   "execution_count": 8,
   "metadata": {},
   "outputs": [
    {
     "data": {
      "text/plain": [
       "'http://plus.kipris.or.kr/openapi/rest/RegistrationService/registrationInfo?registrationNumber=2000642310000&accessKey=write your key'"
      ]
     },
     "execution_count": 8,
     "metadata": {},
     "output_type": "execute_result"
    }
   ],
   "source": [
    "test"
   ]
  },
  {
   "cell_type": "code",
   "execution_count": 7,
   "metadata": {},
   "outputs": [],
   "source": [
    "test=\"http://plus.kipris.or.kr/openapi/rest/RegistrationService/registrationInfo?registrationNumber=2000642310000&accessKey=write your key\""
   ]
  },
  {
   "cell_type": "code",
   "execution_count": 13,
   "metadata": {},
   "outputs": [],
   "source": [
    "request_get=requests.get(url)"
   ]
  },
  {
   "cell_type": "code",
   "execution_count": 14,
   "metadata": {},
   "outputs": [
    {
     "data": {
      "text/plain": [
       "<Response [404]>"
      ]
     },
     "execution_count": 14,
     "metadata": {},
     "output_type": "execute_result"
    }
   ],
   "source": [
    "request_get"
   ]
  },
  {
   "cell_type": "code",
   "execution_count": 12,
   "metadata": {},
   "outputs": [],
   "source": [
    "# data information setting\n",
    "def request_get(url):\n",
    "    try:\n",
    "        requests_url=requests.get(url=url)\n",
    "        print(requests_url.status_code)\n",
    "    except:\n",
    "        print('request_get process error')"
   ]
  },
  {
   "cell_type": "code",
   "execution_count": 13,
   "metadata": {},
   "outputs": [
    {
     "name": "stdout",
     "output_type": "stream",
     "text": [
      "404\n"
     ]
    }
   ],
   "source": [
    "request_get(url=url)"
   ]
  }
 ],
 "metadata": {
  "kernelspec": {
   "display_name": "Python 3 (ipykernel)",
   "language": "python",
   "name": "python3"
  },
  "language_info": {
   "codemirror_mode": {
    "name": "ipython",
    "version": 3
   },
   "file_extension": ".py",
   "mimetype": "text/x-python",
   "name": "python",
   "nbconvert_exporter": "python",
   "pygments_lexer": "ipython3",
   "version": "3.8.15"
  },
  "vscode": {
   "interpreter": {
    "hash": "4b4a484f8bd7a9114cc5b01f2f8b77c55d4a4dcecddc66574b60dcb6be20dd27"
   }
  }
 },
 "nbformat": 4,
 "nbformat_minor": 4
}

{
 "cells": [
  {
   "cell_type": "code",
   "execution_count": 1,
   "metadata": {},
   "outputs": [],
   "source": [
    "import sys\n",
    "import os\n",
    "import pymysql\n",
    "import xmltodict\n",
    "import redis\n",
    "import requests\n",
    "#from datetime import datetime\n",
    "import datetime\n",
    "from collections import namedtuple\n",
    "import logging\n",
    "from time import sleep\n",
    "import time"
   ]
  },
  {
   "cell_type": "code",
   "execution_count": 6,
   "metadata": {},
   "outputs": [],
   "source": [
    "import requests\n",
    "import xmltodict"
   ]
  },
  {
   "cell_type": "code",
   "execution_count": 44,
   "metadata": {},
   "outputs": [
    {
     "data": {
      "text/plain": [
       "'http://plus.kipris.or.kr/openapi/rest/RegistrationService/registrationInfo?registrationNumber=1016988410000&accessKey=S5sUeUcewvE0=dLF=a9IKgK72zEAvD5bkiPciv4BIEU='"
      ]
     },
     "execution_count": 44,
     "metadata": {},
     "output_type": "execute_result"
    }
   ],
   "source": [
    "basic_url=\"http://plus.kipris.or.kr/openapi/rest/RegistrationService/\"\n",
    "taskId=\"registrationInfo\"\n",
    "reg_number='registrationNumber'\n",
    "number='1016988410000'\n",
    "api_key = \"Y74vSqogy7fkw71F26g146N4s9Harc7sLqm4ONkWHWE=\"\n",
    "api_key_2= \"S5sUeUcewvE0=dLF=a9IKgK72zEAvD5bkiPciv4BIEU=\"\n",
    "url =f'{basic_url}{taskId}?{reg_number}={number}&accessKey={api_key}'\n",
    "url\n",
    "url_2=f'{basic_url}{taskId}?{reg_number}={number}&accessKey={api_key_2}'\n",
    "url_2"
   ]
  },
  {
   "cell_type": "code",
   "execution_count": 23,
   "metadata": {},
   "outputs": [],
   "source": [
    "xd=xmltodict.parse(con)"
   ]
  },
  {
   "cell_type": "code",
   "execution_count": 47,
   "metadata": {},
   "outputs": [],
   "source": [
    "rr=requests.get(url_2)"
   ]
  },
  {
   "cell_type": "code",
   "execution_count": 49,
   "metadata": {},
   "outputs": [],
   "source": [
    "rrr=rr.content"
   ]
  },
  {
   "cell_type": "code",
   "execution_count": 50,
   "metadata": {},
   "outputs": [],
   "source": [
    "rrrr=xmltodict.parse(rrr)"
   ]
  },
  {
   "cell_type": "code",
   "execution_count": 52,
   "metadata": {},
   "outputs": [],
   "source": [
    "its=list(rrrr['response']['body'])[0]"
   ]
  },
  {
   "cell_type": "code",
   "execution_count": 53,
   "metadata": {},
   "outputs": [],
   "source": [
    "its_xd=rrrr['response']['body'][f'{its}']"
   ]
  },
  {
   "cell_type": "code",
   "execution_count": 68,
   "metadata": {},
   "outputs": [
    {
     "name": "stdout",
     "output_type": "stream",
     "text": [
      "registrationRightInfo\n",
      "registrationRightHolderInfo\n",
      "registrationRightRankInfo\n",
      "registrationFeeInfo\n",
      "registrationLastRightHolderInfo\n"
     ]
    }
   ],
   "source": [
    "for key, item in its_xd['registrationInfo'].items():\n",
    "    print(key)"
   ]
  },
  {
   "cell_type": "code",
   "execution_count": 80,
   "metadata": {},
   "outputs": [],
   "source": [
    "body=list(xmltodict.parse(rrr)['response']['body'])[0]\n",
    "content=xmltodict.parse(rrr)['response']['body'][f'{body}']\n",
    "detail_name=list(content)[0]\n",
    "content=content[detail_name]"
   ]
  },
  {
   "cell_type": "code",
   "execution_count": 87,
   "metadata": {},
   "outputs": [],
   "source": [
    "right_idc_info=list(content['registrationRightInfo'].values())"
   ]
  },
  {
   "cell_type": "code",
   "execution_count": 90,
   "metadata": {},
   "outputs": [
    {
     "data": {
      "text/plain": [
       "['registrationNumber',\n",
       " 'regReferenceNumber',\n",
       " 'registrationDate',\n",
       " 'assessmentDate',\n",
       " 'expirationDate',\n",
       " 'terminationCauseName',\n",
       " 'terminationDate',\n",
       " 'applicationNumber',\n",
       " 'appReferenceNumber',\n",
       " 'applicationDate',\n",
       " 'publicationNumber',\n",
       " 'publicationDate',\n",
       " 'internationRegistrationNumber',\n",
       " 'internationRegistrationDate',\n",
       " 'originalApplicationNumber',\n",
       " 'originalApplicationDate',\n",
       " 'classCode',\n",
       " 'titleOfInvention',\n",
       " 'titleOfInventionEng',\n",
       " 'claimCount',\n",
       " 'priorityCountry',\n",
       " 'priorityDate',\n",
       " 'priorityCount']"
      ]
     },
     "execution_count": 90,
     "metadata": {},
     "output_type": "execute_result"
    }
   ],
   "source": [
    "right_info_=list(content['registrationRightInfo'])\n",
    "right_info_"
   ]
  },
  {
   "cell_type": "code",
   "execution_count": 88,
   "metadata": {},
   "outputs": [
    {
     "data": {
      "text/plain": [
       "['1016988410000',\n",
       " None,\n",
       " '20170117',\n",
       " '20161125',\n",
       " '20350519',\n",
       " None,\n",
       " None,\n",
       " '1020150069853',\n",
       " None,\n",
       " '20150519',\n",
       " None,\n",
       " '20170123',\n",
       " None,\n",
       " None,\n",
       " None,\n",
       " None,\n",
       " 'D06F 58/26',\n",
       " '건조 장치',\n",
       " 'Drying device',\n",
       " '11',\n",
       " None,\n",
       " None,\n",
       " '0']"
      ]
     },
     "execution_count": 88,
     "metadata": {},
     "output_type": "execute_result"
    }
   ],
   "source": [
    "right_idc_info"
   ]
  },
  {
   "cell_type": "code",
   "execution_count": 91,
   "metadata": {},
   "outputs": [],
   "source": [
    "right_idc_info=list(content['registrationRightInfo'].values())"
   ]
  },
  {
   "cell_type": "code",
   "execution_count": 96,
   "metadata": {},
   "outputs": [
    {
     "data": {
      "text/plain": [
       "['1016988410000',\n",
       " None,\n",
       " '20170117',\n",
       " '20161125',\n",
       " '20350519',\n",
       " None,\n",
       " None,\n",
       " '1020150069853',\n",
       " None,\n",
       " '20150519',\n",
       " None,\n",
       " '20170123',\n",
       " None,\n",
       " None,\n",
       " None,\n",
       " None,\n",
       " 'D06F 58/26',\n",
       " '건조 장치',\n",
       " 'Drying device',\n",
       " '11',\n",
       " None,\n",
       " None,\n",
       " '0']"
      ]
     },
     "execution_count": 96,
     "metadata": {},
     "output_type": "execute_result"
    }
   ],
   "source": [
    "right_idc_info"
   ]
  },
  {
   "cell_type": "code",
   "execution_count": 86,
   "metadata": {},
   "outputs": [
    {
     "ename": "NameError",
     "evalue": "name 'rightholder_info' is not defined",
     "output_type": "error",
     "traceback": [
      "\u001b[0;31m---------------------------------------------------------------------------\u001b[0m",
      "\u001b[0;31mNameError\u001b[0m                                 Traceback (most recent call last)",
      "Cell \u001b[0;32mIn [86], line 69\u001b[0m\n\u001b[1;32m     60\u001b[0m _many\u001b[39m=\u001b[39m{}\n\u001b[1;32m     61\u001b[0m conn_data \u001b[39m=\u001b[39m {\n\u001b[1;32m     62\u001b[0m             \u001b[39m'\u001b[39m\u001b[39mhost\u001b[39m\u001b[39m'\u001b[39m : \u001b[39m'\u001b[39m\u001b[39m127.0.0.1\u001b[39m\u001b[39m'\u001b[39m,\n\u001b[1;32m     63\u001b[0m             \u001b[39m'\u001b[39m\u001b[39mport\u001b[39m\u001b[39m'\u001b[39m : \u001b[39m3306\u001b[39m,\n\u001b[0;32m   (...)\u001b[0m\n\u001b[1;32m     66\u001b[0m             \u001b[39m'\u001b[39m\u001b[39mdatabase\u001b[39m\u001b[39m'\u001b[39m: \u001b[39m\"\u001b[39m\u001b[39mKIPRIS\u001b[39m\u001b[39m\"\u001b[39m\n\u001b[1;32m     67\u001b[0m         }\n\u001b[1;32m     68\u001b[0m match_info \u001b[39m=\u001b[39m {\n\u001b[0;32m---> 69\u001b[0m             \u001b[39m'\u001b[39m\u001b[39mright_info\u001b[39m\u001b[39m'\u001b[39m: [rightholder_info, conn_data],\n\u001b[1;32m     70\u001b[0m             \u001b[39m'\u001b[39m\u001b[39mreg_fee\u001b[39m\u001b[39m'\u001b[39m: [registrationFee_query, conn_data],\n\u001b[1;32m     71\u001b[0m             \u001b[39m'\u001b[39m\u001b[39mreg_rank\u001b[39m\u001b[39m'\u001b[39m: [rightRank_query, conn_data],\n\u001b[1;32m     72\u001b[0m             \u001b[39m'\u001b[39m\u001b[39mreg_rightA\u001b[39m\u001b[39m'\u001b[39m: [rightHolderA_query, conn_data],\n\u001b[1;32m     73\u001b[0m             \u001b[39m'\u001b[39m\u001b[39mreg_rightB\u001b[39m\u001b[39m'\u001b[39m: [rightHolderB_query, conn_data]\n\u001b[1;32m     74\u001b[0m         }\n\u001b[1;32m     75\u001b[0m app_from_reg\u001b[39m=\u001b[39m \u001b[39m\"\"\"\u001b[39m\n\u001b[1;32m     76\u001b[0m \u001b[39m        select applicationNumber\u001b[39m\n\u001b[1;32m     77\u001b[0m \u001b[39m        from KIPO_ADMIN_BIBLIOGRAPHIC\u001b[39m\n\u001b[1;32m     78\u001b[0m \u001b[39m        where registerNumber = \u001b[39m\u001b[39m%s\u001b[39;00m\n\u001b[1;32m     79\u001b[0m \u001b[39m        \u001b[39m\u001b[39m\"\"\"\u001b[39m\n\u001b[1;32m     80\u001b[0m rightHolderA_query \u001b[39m=\u001b[39m \u001b[39m\"\"\"\u001b[39m\n\u001b[1;32m     81\u001b[0m \u001b[39mINSERT INTO REGISTRATION_RIGHT_HOLDER_A(\u001b[39m\n\u001b[1;32m     82\u001b[0m \u001b[39m    RANK_NUMBER,\u001b[39m\n\u001b[0;32m   (...)\u001b[0m\n\u001b[1;32m     95\u001b[0m \u001b[39m    MOD_DT=SYSDATE()\u001b[39m\n\u001b[1;32m     96\u001b[0m \u001b[39m\"\"\"\u001b[39m\n",
      "\u001b[0;31mNameError\u001b[0m: name 'rightholder_info' is not defined"
     ]
    }
   ],
   "source": [
    "def post_db(self, query, data, conn_data,commit=True):\n",
    "    tries=0\n",
    "    while True:\n",
    "        try:\n",
    "            conn = pymysql.connect(host=conn_data['host'],\n",
    "                                    port=conn_data['port'],\n",
    "                                    user = conn_data['user'],\n",
    "                                    password=conn_data['password'],\n",
    "                                    database=conn_data['database'],\n",
    "                                    connect_timeout=60)\n",
    "            with conn.cursor() as curs:\n",
    "                if (type(data[0]) is list) & (len(data) !=1):\n",
    "                    curs.executemany(query,data)\n",
    "                elif (type(data[0]) is list) & (len(data)==1):\n",
    "                    curs.execute(query,data)\n",
    "            if commit:\n",
    "                conn.commit()\n",
    "            conn.close()\n",
    "            return True\n",
    "        except:\n",
    "            if tries ==12:\n",
    "                conn.close()\n",
    "                return False\n",
    "            tries +=1\n",
    "            sleep(5)\n",
    "def add_info(orddict,number=None,only_none=False):\n",
    "    if not only_none:\n",
    "        orddict['number'] = number\n",
    "        orddict['date'] = list(redis.smembers(\"work_date\"))[0]\n",
    "        \n",
    "    for response in orddict.items():\n",
    "        if response[1]==None:\n",
    "            if (response[0] == 'trialNumberr') | (response[0] == 'registrationNumber'):\n",
    "                orddict[f'{response[0]}'] = 'N/A'\n",
    "            orddict[f'{response[0]}'] = ''\n",
    "def post_many(flush=False,target=None,data=None):\n",
    "    if not flush:\n",
    "        if target not in _many.keys():\n",
    "            if isinstance(data, list):\n",
    "                if isinstance(data[0], list):\n",
    "                    _many[target]=data\n",
    "                else:\n",
    "                    print('post_many processing error')\n",
    "            else:\n",
    "                print('post_many data type error')\n",
    "        else:\n",
    "            print('post_many target processing error')\n",
    "        if len(_many[target]) ==100:\n",
    "            post_db(match_info[target][0], _many[target],match_info[target][1])\n",
    "            _many.pop(target)\n",
    "            print('db insert complete, delete info...')\n",
    "    \n",
    "    if flush:\n",
    "        for _key in sorted(_many.keys()):\n",
    "            try:\n",
    "                post_db(match_info[_key][0], _many[_key],match_info[_key][1])\n",
    "            except:\n",
    "                print(_key)\n",
    "                print(_many[_key])\n",
    "_many={}\n",
    "conn_data = {\n",
    "            'host' : '127.0.0.1',\n",
    "            'port' : 3306,\n",
    "            'user': 'root',\n",
    "            'password':'123',\n",
    "            'database': \"KIPRIS\"\n",
    "        }\n",
    "match_info = {\n",
    "            'right_info': [rightholder_info, conn_data],\n",
    "            'reg_fee': [registrationFee_query, conn_data],\n",
    "            'reg_rank': [rightRank_query, conn_data],\n",
    "            'reg_rightA': [rightHolderA_query, conn_data],\n",
    "            'reg_rightB': [rightHolderB_query, conn_data]\n",
    "        }\n",
    "app_from_reg= \"\"\"\n",
    "        select applicationNumber\n",
    "        from KIPO_ADMIN_BIBLIOGRAPHIC\n",
    "        where registerNumber = %s\n",
    "        \"\"\"\n",
    "rightHolderA_query = \"\"\"\n",
    "INSERT INTO REGISTRATION_RIGHT_HOLDER_A(\n",
    "    RANK_NUMBER,\n",
    "    RANK_CORRELATOR_SERIAL_NUMBER,\n",
    "    RANK_CORRELATOR_TYPE,\n",
    "    RANK_CORRELATOR_NAME,\n",
    "    RANK_CORRELATOR_ADDRESS,\n",
    "    REGISTRATION_NUMBER,\n",
    "    TRANSFER_DATE\n",
    ")\n",
    "VALUES (%s, %s, %s, %s, %s,%s, %s)\n",
    "ON DUPLICATE KEY UPDATE\n",
    "    RANK_CORRELATOR_NAME = VALUES(RANK_CORRELATOR_NAME),\n",
    "    RANK_CORRELATOR_ADDRESS= VALUES(RANK_CORELATOR_ADDRESS),\n",
    "    TRANSFER_DATE=VALUES(TRANSFER_DATE),\n",
    "    MOD_DT=SYSDATE()\n",
    "\"\"\"\n",
    "rightHolderB_query=\"\"\"\n",
    "INSERT INTO REGISTRATION_RIGHT_HOLDER_B (\n",
    "    RANK_NUMBER,\n",
    "    DOCUMENT_NAME,\n",
    "    RECEIPT_DATE,\n",
    "    REGISTRATION_CAUSE_NAME,\n",
    "    INDECATION_OF_EVENT,\n",
    "    REGISTRATION_NUMBER,\n",
    "    TRANSFER_DATE            \n",
    ")\n",
    "VALUES (%s,%s,%s,%s,%s,%s,%s)\n",
    "ON DUPLICATE KEY UPDATE\n",
    "    DOCUMENT_NAME = VALUES(DOCUMENT_NAME),\n",
    "    RECEIPT_DATE = VALUES(RECEIPT_DATE),\n",
    "    REGISTRATION_CAUSE_NAME = VALUES(REGISTRATION_CAUSE_NAME),\n",
    "    INDICATION_OF_EVENT = VALUES(INDICATION_OF_EVENT),\n",
    "    TRANSFER_DATE = VALUES(TRANSFER_DATE),\n",
    "    MOD_DT=SYSDATE()\n",
    "\"\"\"\n",
    "\n",
    "rightRank_query = \"\"\"\n",
    "INSERT INTO REGISTRATION_RIGHT_RANK (\n",
    "    RANK_NUMBER\n",
    "    , PERTINENT_PARTITION\n",
    "    , DOCUMENT_NAME\n",
    "    , ORIGINAL_REGISTRATION_NUMBER\n",
    "    , REGISTRATION_PURPOSE\n",
    "    , REGISTRATION_DATE\n",
    "    , REGISTRATION_CAUSE_NAME\n",
    "    , REGISTRATION_CAUSE_DATE\n",
    "    , RECEIPT_NUMBER\n",
    "    , RECEIPT_DATE\n",
    "    , DISAPPEARANCE_FLAG\n",
    "    , DISAPPEARANCE_CAUSE_NAME\n",
    "    , DISAPPEARANCE_DATE\n",
    "    , INTERNATIONAL_REG_RECORD_DATE_MD\n",
    "    , EXPIRATION_DATE_MD\n",
    "    , LATEST_RENEWAL_DATE_MD\n",
    "    , SUB_DESIGNATION_DATE_MD\n",
    "    , REGISTRATION_NUMBER\n",
    "    , TRANSFER_DATE\n",
    "    )\n",
    "VALUES (%s,%s,%s,%s,%s,\n",
    "        %s,%s,%s,%s,%s,\n",
    "        %s,%s,%s,%s,%s,\n",
    "        %s,%s,%s,%s)\n",
    "ON DUPLICATE KEY UPDATE\n",
    "DOCUMENT_NAME = VALUES(DOCUMENT_NAME)\n",
    ", ORIGINAL_REGISTRATION_NUMBER = VALUES(ORIGINAL_REGISTRATION_NUMBER)\n",
    ", REGISTRATION_PURPOSE = VALUES(REGISTRATION_PURPOSE)\n",
    ", REGISTRATION_DATE = VALUES(REGISTRATION_DATE)\n",
    ", REGISTRATION_CAUSE_NAME = VALUES(REGISTRATION_CAUSE_NAME)\n",
    ", REGISTRATION_CAUSE_DATE = VALUES(REGISTRATION_CAUSE_DATE)\n",
    ", RECEIPT_NUMBER = VALUES(RECEIPT_NUMBER)\n",
    ", RECEIPT_DATE = VALUES(RECEIPT_DATE)\n",
    ", DISAPPEARANCE_FLAG = VALUES(DISAPPEARANCE_FLAG)\n",
    ", DISAPPEARANCE_CAUSE_NAME = VALUES(DISAPPEARANCE_CAUSE_NAME)\n",
    ", DISAPPEARANCE_DATE = VALUES(DISAPPEARANCE_DATE)\n",
    ", INTERNATIONAL_REG_RECORD_DATE_MD = VALUES(INTERNATIONAL_REG_RECORD_DATE_MD)\n",
    ", EXPIRATION_DATE_MD = VALUES(EXPIRATION_DATE_MD)\n",
    ", LATEST_RENEWAL_DATE_MD = VALUES(LATEST_RENEWAL_DATE_MD)\n",
    ", SUB_DESIGNATION_DATE_MD = VALUES(SUB_DESIGNATION_DATE_MD)\n",
    ", TRANSFER_DATE = VALUES(TRANSFER_DATE)\n",
    ", MOD_DT = SYSDATE()\n",
    "\"\"\"\n",
    "\n",
    "rightholder_info = '''\n",
    "INSERT INTO RIGHT_HOLDER (\n",
    "    PERTINENT_PARTITION\n",
    "    , RANK_NUMBER\n",
    "    , REGISTRATION_DATE\n",
    "    , RANK_CORRELATOR_SERIAL_NUMBER\n",
    "    , RANK_CORRELATOR_NUMBER\n",
    "    , RANK_CORRELATOR_TYPE\n",
    "    , RANK_CORRELATOR_NAME\n",
    "    , RANK_CORRELATOR_ADDRESS\n",
    "    , TRANSFER_DATE\n",
    "    , REGISTRATION_NUMBER\n",
    ")\n",
    "VALUES (%s,%s,%s,%s,%s,%s,%s,%s,%s,%s)\n",
    "ON DUPLICATE KEY UPDATE\n",
    "    REGISTRATION_NUMBER = VALUES(REGISTRATION_NUMBER)\n",
    "    , PERTINENT_PARTITION = VALUES(PERTINENT_PARTITION)\n",
    "    , RANK_CORRELATOR_TYPE = VALUES(RANK_CORRELATOR_TYPE)\n",
    "    , RANK_CORRELATOR_SERIAL_NUMBER = VALUES(RANK_CORRELATOR_SERIAL_NUMBER)\n",
    "    , RANK_NUMBER = VALUES(RANK_NUMBER)\n",
    "    , RANK_CORRELATOR_NAME = VALUES(RANK_CORRELATOR_NAME)\n",
    "    , RANK_CORRELATOR_ADDRESS = VALUES(RANK_CORRELATOR_ADDRESS)\n",
    "    , RANK_CORRELATOR_NUMBER = VALUES(RANK_CORRELATOR_NUMBER)\n",
    "    , REGISTRATION_DATE = VALUES(REGISTRATION_DATE)\n",
    "    , TRANSFER_DATE = VALUES(TRANSFER_DATE)\n",
    "    , MOD_DT = SYSDATE()\n",
    "'''\n",
    "registrationFee_query = '''\n",
    "INSERT INTO REGISTRATION_FEE (\n",
    "    REGISTRATION_DATE\n",
    "    , START_ANNUAL\n",
    "    , LAST_ANNUAL\n",
    "    , PAYMENT_DEGREE\n",
    "    , PAYMENT_FEE\n",
    "    , PAYMENT_DATE\n",
    "    , REGISTRATION_NUMBER\n",
    "    , TRANSFER_DATE\n",
    ")\n",
    "VALUES (%s,%s,%s,%s,%s,%s,%s,%s)\n",
    "ON DUPLICATE KEY UPDATE\n",
    "    START_ANNUAL = VALUES(START_ANNUAL)\n",
    "    , LAST_ANNUAL = VALUES(LAST_ANNUAL)\n",
    "    , PAYMENT_DEGREE = VALUES(PAYMENT_DEGREE)\n",
    "    , PAYMENT_FEE = VALUES(PAYMENT_FEE)\n",
    "    , PAYMENT_DATE = VALUES(PAYMENT_DATE)\n",
    "    , TRANSFER_DATE = VALUES(TRANSFER_DATE)\n",
    "    , MOD_DT = SYSDATE()\n",
    "        ''' "
   ]
  },
  {
   "cell_type": "code",
   "execution_count": null,
   "metadata": {},
   "outputs": [],
   "source": []
  },
  {
   "cell_type": "code",
   "execution_count": 66,
   "metadata": {},
   "outputs": [
    {
     "data": {
      "text/plain": [
       "{'registrationRightHolderInfoA': {'rankNumber': '1',\n",
       "  'rankCorrelatorSerialNumber': '1',\n",
       "  'rankCorrelatorType': '권리자',\n",
       "  'rankCorrelatorName': '주식회사 코나솔',\n",
       "  'rankCorrelatorAddress': '충청남도 당진...'},\n",
       " 'registrationRightHolderInfoB': {'rankNumber': '1',\n",
       "  'documentName': '설정등록',\n",
       "  'receiptDate': '20170117',\n",
       "  'registrationCauseName': None,\n",
       "  'indicationOfEvent': None}}"
      ]
     },
     "execution_count": 66,
     "metadata": {},
     "output_type": "execute_result"
    }
   ],
   "source": [
    "content['registrationRightHolderInfo']"
   ]
  },
  {
   "cell_type": "code",
   "execution_count": 70,
   "metadata": {},
   "outputs": [
    {
     "data": {
      "text/plain": [
       "dict"
      ]
     },
     "execution_count": 70,
     "metadata": {},
     "output_type": "execute_result"
    }
   ],
   "source": [
    "type(content['registrationRightHolderInfo']['registrationRightHolderInfoA'])"
   ]
  },
  {
   "cell_type": "code",
   "execution_count": 71,
   "metadata": {},
   "outputs": [
    {
     "data": {
      "text/plain": [
       "list"
      ]
     },
     "execution_count": 71,
     "metadata": {},
     "output_type": "execute_result"
    }
   ],
   "source": [
    "type(list(content['registrationRightHolderInfo']['registrationRightHolderInfoA']))"
   ]
  },
  {
   "cell_type": "code",
   "execution_count": 63,
   "metadata": {},
   "outputs": [
    {
     "data": {
      "text/plain": [
       "dict_keys(['registrationRightInfo', 'registrationRightHolderInfo', 'registrationRightRankInfo', 'registrationFeeInfo', 'registrationLastRightHolderInfo'])"
      ]
     },
     "execution_count": 63,
     "metadata": {},
     "output_type": "execute_result"
    }
   ],
   "source": [
    "content.keys()"
   ]
  },
  {
   "cell_type": "code",
   "execution_count": 39,
   "metadata": {},
   "outputs": [],
   "source": [
    "cont=list(xd['response']['body'][f'{its}'])[0]"
   ]
  },
  {
   "cell_type": "code",
   "execution_count": 40,
   "metadata": {},
   "outputs": [
    {
     "data": {
      "text/plain": [
       "'registrationInfo'"
      ]
     },
     "execution_count": 40,
     "metadata": {},
     "output_type": "execute_result"
    }
   ],
   "source": [
    "cont"
   ]
  },
  {
   "cell_type": "code",
   "execution_count": 42,
   "metadata": {},
   "outputs": [],
   "source": [
    "aa=its_xd[cont]"
   ]
  },
  {
   "cell_type": "code",
   "execution_count": 43,
   "metadata": {},
   "outputs": [
    {
     "data": {
      "text/plain": [
       "{'registrationRightHolderInfo': None}"
      ]
     },
     "execution_count": 43,
     "metadata": {},
     "output_type": "execute_result"
    }
   ],
   "source": [
    "aa"
   ]
  },
  {
   "cell_type": "code",
   "execution_count": 18,
   "metadata": {},
   "outputs": [],
   "source": [
    "content=request_get['response']['body']\n",
    "content['items']['registrationInfo']['registrationRightHolderInfo']"
   ]
  },
  {
   "cell_type": "code",
   "execution_count": 7,
   "metadata": {},
   "outputs": [
    {
     "data": {
      "text/plain": [
       "'items'"
      ]
     },
     "execution_count": 7,
     "metadata": {},
     "output_type": "execute_result"
    }
   ],
   "source": [
    "request_get=requests.get(url)\n",
    "request_get=xmltodict.parse(request_get.content)\n",
    "content=request_get['response']['body']\n",
    "detail_name=list(content)[0]\n",
    "detail_name"
   ]
  },
  {
   "cell_type": "code",
   "execution_count": 72,
   "metadata": {},
   "outputs": [
    {
     "data": {
      "text/plain": [
       "['rankNumber',\n",
       " 'rankCorrelatorSerialNumber',\n",
       " 'rankCorrelatorType',\n",
       " 'rankCorrelatorName',\n",
       " 'rankCorrelatorAddress']"
      ]
     },
     "execution_count": 72,
     "metadata": {},
     "output_type": "execute_result"
    }
   ],
   "source": [
    "right_a=list(content['registrationRightHolderInfo']['registrationRightHolderInfoA'])\n",
    "right_a"
   ]
  },
  {
   "cell_type": "code",
   "execution_count": 73,
   "metadata": {},
   "outputs": [],
   "source": [
    "right_info_=list(content['registrationRightInfo'])"
   ]
  },
  {
   "cell_type": "code",
   "execution_count": 74,
   "metadata": {},
   "outputs": [
    {
     "data": {
      "text/plain": [
       "['registrationNumber',\n",
       " 'regReferenceNumber',\n",
       " 'registrationDate',\n",
       " 'assessmentDate',\n",
       " 'expirationDate',\n",
       " 'terminationCauseName',\n",
       " 'terminationDate',\n",
       " 'applicationNumber',\n",
       " 'appReferenceNumber',\n",
       " 'applicationDate',\n",
       " 'publicationNumber',\n",
       " 'publicationDate',\n",
       " 'internationRegistrationNumber',\n",
       " 'internationRegistrationDate',\n",
       " 'originalApplicationNumber',\n",
       " 'originalApplicationDate',\n",
       " 'classCode',\n",
       " 'titleOfInvention',\n",
       " 'titleOfInventionEng',\n",
       " 'claimCount',\n",
       " 'priorityCountry',\n",
       " 'priorityDate',\n",
       " 'priorityCount']"
      ]
     },
     "execution_count": 74,
     "metadata": {},
     "output_type": "execute_result"
    }
   ],
   "source": [
    "right_info_"
   ]
  },
  {
   "cell_type": "code",
   "execution_count": 77,
   "metadata": {},
   "outputs": [],
   "source": [
    "right_idc_info_=list(content['registrationRightInfo'].values())"
   ]
  },
  {
   "cell_type": "code",
   "execution_count": 78,
   "metadata": {},
   "outputs": [
    {
     "data": {
      "text/plain": [
       "['1016988410000',\n",
       " None,\n",
       " '20170117',\n",
       " '20161125',\n",
       " '20350519',\n",
       " None,\n",
       " None,\n",
       " '1020150069853',\n",
       " None,\n",
       " '20150519',\n",
       " None,\n",
       " '20170123',\n",
       " None,\n",
       " None,\n",
       " None,\n",
       " None,\n",
       " 'D06F 58/26',\n",
       " '건조 장치',\n",
       " 'Drying device',\n",
       " '11',\n",
       " None,\n",
       " None,\n",
       " '0']"
      ]
     },
     "execution_count": 78,
     "metadata": {},
     "output_type": "execute_result"
    }
   ],
   "source": [
    "right_idc_info_"
   ]
  },
  {
   "cell_type": "code",
   "execution_count": 79,
   "metadata": {},
   "outputs": [
    {
     "data": {
      "text/plain": [
       "{'lastRightHolderNumber': '120040186134',\n",
       " 'lastRightHolderName': '주식회사 코나솔',\n",
       " 'lastRightHolderAddress': '충청남도 당진...',\n",
       " 'lastRightHolderCountry': None}"
      ]
     },
     "execution_count": 79,
     "metadata": {},
     "output_type": "execute_result"
    }
   ],
   "source": [
    "content['registrationLastRightHolderInfo']"
   ]
  },
  {
   "cell_type": "code",
   "execution_count": 9,
   "metadata": {},
   "outputs": [
    {
     "data": {
      "text/plain": [
       "{'response': {'header': {'resultCode': '22',\n",
       "   'resultMsg': '무료로 사용가능한 요청횟수를 초과하였습니다(Limited number of service request exceeds error)'},\n",
       "  'body': {'items': {'registrationInfo': {'registrationRightHolderInfo': None}}}}}"
      ]
     },
     "execution_count": 9,
     "metadata": {},
     "output_type": "execute_result"
    }
   ],
   "source": [
    "request_get"
   ]
  },
  {
   "cell_type": "code",
   "execution_count": 8,
   "metadata": {},
   "outputs": [
    {
     "data": {
      "text/plain": [
       "{'items': {'registrationInfo': {'registrationRightHolderInfo': None}}}"
      ]
     },
     "execution_count": 8,
     "metadata": {},
     "output_type": "execute_result"
    }
   ],
   "source": [
    "content"
   ]
  },
  {
   "cell_type": "code",
   "execution_count": 4,
   "metadata": {},
   "outputs": [],
   "source": [
    "def item_check(url):\n",
    "    request_get=requests.get(url)\n",
    "    content_xml=request_get.content\n",
    "    body=list(xmltodict.parse(content_xml)['response']['body'])[0]\n",
    "    content=xmltodict.parse(content_xml)['response']['body'][f'{body}']\n",
    "    \n",
    "    if content is None:\n",
    "        print(\"data is None\")\n",
    "    else:\n",
    "        detail_name=list(content)[0]\n",
    "        content=content[detail_name]\n",
    "        return content"
   ]
  },
  {
   "cell_type": "code",
   "execution_count": 5,
   "metadata": {},
   "outputs": [],
   "source": [
    "test=item_check(url)"
   ]
  },
  {
   "cell_type": "code",
   "execution_count": 6,
   "metadata": {},
   "outputs": [
    {
     "data": {
      "text/plain": [
       "dict_keys(['registrationRightHolderInfo'])"
      ]
     },
     "execution_count": 6,
     "metadata": {},
     "output_type": "execute_result"
    }
   ],
   "source": [
    "test.keys()"
   ]
  },
  {
   "cell_type": "code",
   "execution_count": 7,
   "metadata": {},
   "outputs": [
    {
     "data": {
      "text/plain": [
       "{'registrationRightHolderInfo': None}"
      ]
     },
     "execution_count": 7,
     "metadata": {},
     "output_type": "execute_result"
    }
   ],
   "source": [
    "test"
   ]
  },
  {
   "cell_type": "code",
   "execution_count": 7,
   "metadata": {},
   "outputs": [
    {
     "data": {
      "text/plain": [
       "'items'"
      ]
     },
     "execution_count": 7,
     "metadata": {},
     "output_type": "execute_result"
    }
   ],
   "source": [
    "detail_name"
   ]
  },
  {
   "cell_type": "code",
   "execution_count": 8,
   "metadata": {},
   "outputs": [],
   "source": [
    "content=request_get['response']['body']"
   ]
  },
  {
   "cell_type": "code",
   "execution_count": 9,
   "metadata": {},
   "outputs": [],
   "source": [
    "di_content=content['items']['registrationInfo'].keys()"
   ]
  },
  {
   "cell_type": "code",
   "execution_count": 10,
   "metadata": {},
   "outputs": [],
   "source": [
    "aa=content['items']['registrationInfo']"
   ]
  },
  {
   "cell_type": "code",
   "execution_count": 11,
   "metadata": {},
   "outputs": [
    {
     "ename": "TypeError",
     "evalue": "'NoneType' object is not subscriptable",
     "output_type": "error",
     "traceback": [
      "\u001b[0;31m---------------------------------------------------------------------------\u001b[0m",
      "\u001b[0;31mTypeError\u001b[0m                                 Traceback (most recent call last)",
      "Cell \u001b[0;32mIn [11], line 1\u001b[0m\n\u001b[0;32m----> 1\u001b[0m aa[\u001b[39m'\u001b[39;49m\u001b[39mregistrationRightHolderInfo\u001b[39;49m\u001b[39m'\u001b[39;49m][\u001b[39m'\u001b[39;49m\u001b[39mregistrationRightHolderInfoB\u001b[39;49m\u001b[39m'\u001b[39;49m]\n",
      "\u001b[0;31mTypeError\u001b[0m: 'NoneType' object is not subscriptable"
     ]
    }
   ],
   "source": [
    "aa['registrationRightHolderInfo']['registrationRightHolderInfoB']"
   ]
  },
  {
   "cell_type": "code",
   "execution_count": 32,
   "metadata": {},
   "outputs": [
    {
     "data": {
      "text/plain": [
       "dict_keys(['registrationRightInfo', 'registrationRightHolderInfo', 'registrationRightRankInfo', 'registrationFeeInfo', 'registrationLastRightHolderInfo'])"
      ]
     },
     "execution_count": 32,
     "metadata": {},
     "output_type": "execute_result"
    }
   ],
   "source": [
    "di_content"
   ]
  },
  {
   "cell_type": "code",
   "execution_count": 57,
   "metadata": {},
   "outputs": [
    {
     "data": {
      "text/plain": [
       "[{'registrationDate': '19920409',\n",
       "  'startAnnual': '1',\n",
       "  'lastAnnual': '3',\n",
       "  'paymentDegree': '1',\n",
       "  'paymentFee': '31500',\n",
       "  'paymentDate': '19920409'},\n",
       " {'registrationDate': '19950112',\n",
       "  'startAnnual': '4',\n",
       "  'lastAnnual': '4',\n",
       "  'paymentDegree': '1',\n",
       "  'paymentFee': '28000',\n",
       "  'paymentDate': '19950112'},\n",
       " {'registrationDate': '19960115',\n",
       "  'startAnnual': '5',\n",
       "  'lastAnnual': '5',\n",
       "  'paymentDegree': '1',\n",
       "  'paymentFee': '28000',\n",
       "  'paymentDate': '19960115'},\n",
       " {'registrationDate': '19961220',\n",
       "  'startAnnual': '6',\n",
       "  'lastAnnual': '6',\n",
       "  'paymentDegree': '1',\n",
       "  'paymentFee': '28000',\n",
       "  'paymentDate': '19961220'},\n",
       " {'registrationDate': '19980115',\n",
       "  'startAnnual': '7',\n",
       "  'lastAnnual': '7',\n",
       "  'paymentDegree': '1',\n",
       "  'paymentFee': '93000',\n",
       "  'paymentDate': '19980115'},\n",
       " {'registrationDate': '19990715',\n",
       "  'startAnnual': '8',\n",
       "  'lastAnnual': '8',\n",
       "  'paymentDegree': '1',\n",
       "  'paymentFee': '186000',\n",
       "  'paymentDate': '19990716'},\n",
       " {'registrationDate': '20000107',\n",
       "  'startAnnual': '9',\n",
       "  'lastAnnual': '9',\n",
       "  'paymentDegree': '1',\n",
       "  'paymentFee': '93000',\n",
       "  'paymentDate': '20000107'},\n",
       " {'registrationDate': '20001211',\n",
       "  'startAnnual': '10',\n",
       "  'lastAnnual': '10',\n",
       "  'paymentDegree': '1',\n",
       "  'paymentFee': '186000',\n",
       "  'paymentDate': '20001212'},\n",
       " {'registrationDate': '20020114',\n",
       "  'startAnnual': '11',\n",
       "  'lastAnnual': '11',\n",
       "  'paymentDegree': '1',\n",
       "  'paymentFee': '186000',\n",
       "  'paymentDate': '20020115'}]"
      ]
     },
     "execution_count": 57,
     "metadata": {},
     "output_type": "execute_result"
    }
   ],
   "source": [
    "aa['registrationFeeInfo']"
   ]
  },
  {
   "cell_type": "code",
   "execution_count": 15,
   "metadata": {},
   "outputs": [
    {
     "data": {
      "text/plain": [
       "{'registrationNumber': '2000642310000',\n",
       " 'regReferenceNumber': None,\n",
       " 'registrationDate': '19920409',\n",
       " 'assessmentDate': '19920406',\n",
       " 'expirationDate': '20040506',\n",
       " 'terminationCauseName': '등록료불납',\n",
       " 'terminationDate': '20030116',\n",
       " 'applicationNumber': '2019890005971',\n",
       " 'appReferenceNumber': None,\n",
       " 'applicationDate': '19890506',\n",
       " 'publicationNumber': '2019920000384',\n",
       " 'publicationDate': '19920115',\n",
       " 'internationRegistrationNumber': None,\n",
       " 'internationRegistrationDate': None,\n",
       " 'originalApplicationNumber': None,\n",
       " 'originalApplicationDate': None,\n",
       " 'classCode': 'F04D 29/66',\n",
       " 'titleOfInvention': '송풍기의소음저감구조',\n",
       " 'titleOfInventionEng': None,\n",
       " 'claimCount': '1',\n",
       " 'priorityCountry': None,\n",
       " 'priorityDate': None,\n",
       " 'priorityCount': '0'}"
      ]
     },
     "execution_count": 15,
     "metadata": {},
     "output_type": "execute_result"
    }
   ],
   "source": [
    "content['registrationInfo']['registrationRightInfo']"
   ]
  },
  {
   "cell_type": "code",
   "execution_count": 51,
   "metadata": {},
   "outputs": [
    {
     "data": {
      "text/plain": [
       "{'lastRightHolderNumber': '119980032017',\n",
       " 'lastRightHolderName': '주식회사 엑타',\n",
       " 'lastRightHolderAddress': '서울특별시 강남구...',\n",
       " 'lastRightHolderCountry': '대한민국'}"
      ]
     },
     "execution_count": 51,
     "metadata": {},
     "output_type": "execute_result"
    }
   ],
   "source": [
    "aa['registrationLastRightHolderInfo']"
   ]
  }
 ],
 "metadata": {
  "kernelspec": {
   "display_name": "Python 3 (ipykernel)",
   "language": "python",
   "name": "python3"
  },
  "language_info": {
   "codemirror_mode": {
    "name": "ipython",
    "version": 3
   },
   "file_extension": ".py",
   "mimetype": "text/x-python",
   "name": "python",
   "nbconvert_exporter": "python",
   "pygments_lexer": "ipython3",
   "version": "3.8.15"
  },
  "vscode": {
   "interpreter": {
    "hash": "4b4a484f8bd7a9114cc5b01f2f8b77c55d4a4dcecddc66574b60dcb6be20dd27"
   }
  }
 },
 "nbformat": 4,
 "nbformat_minor": 4
}

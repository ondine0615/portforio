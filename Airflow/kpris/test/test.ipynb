{
 "cells": [
  {
   "cell_type": "code",
   "execution_count": 1,
   "metadata": {},
   "outputs": [],
   "source": [
    "import sys\n",
    "import os\n",
    "import pymysql\n",
    "import xmltodict\n",
    "import redis\n",
    "import requests\n",
    "#from datetime import datetime\n",
    "import datetime\n",
    "from collections import namedtuple\n",
    "import logging\n",
    "from time import sleep\n",
    "import time"
   ]
  },
  {
   "cell_type": "code",
   "execution_count": 58,
   "metadata": {},
   "outputs": [
    {
     "data": {
      "text/plain": [
       "'http://plus.kipris.or.kr/openapi/rest/RegistrationService/registrationInfo?registrationNumber=2000642310000&accessKey=Y74vSqogy7fkw71F26g146N4s9Harc7sLqm4ONkWHWE='"
      ]
     },
     "execution_count": 58,
     "metadata": {},
     "output_type": "execute_result"
    }
   ],
   "source": [
    "basic_url=\"http://plus.kipris.or.kr/openapi/rest/RegistrationService/\"\n",
    "taskId=\"registrationInfo\"\n",
    "reg_number='registrationNumber'\n",
    "number='2000642310000'\n",
    "api_key = \"Y74vSqogy7fkw71F26g146N4s9Harc7sLqm4ONkWHWE=\"\n",
    "url =f'{basic_url}{taskId}?{reg_number}={number}&accessKey={api_key}'\n",
    "url"
   ]
  },
  {
   "cell_type": "code",
   "execution_count": 59,
   "metadata": {},
   "outputs": [
    {
     "data": {
      "text/plain": [
       "'items'"
      ]
     },
     "execution_count": 59,
     "metadata": {},
     "output_type": "execute_result"
    }
   ],
   "source": [
    "request_get=requests.get(url)\n",
    "request_get=xmltodict.parse(request_get.content)\n",
    "content=request_get['response']['body']\n",
    "detail_name=list(content)[0]\n",
    "detail_name"
   ]
  },
  {
   "cell_type": "code",
   "execution_count": 60,
   "metadata": {},
   "outputs": [],
   "source": [
    "def item_check(url):\n",
    "    request_get=requests.get(url)\n",
    "    content_xml=request_get.content\n",
    "    body=list(xmltodict.parse(content_xml)['response']['body'])[0]\n",
    "    content=xmltodict.parse(content_xml)['response']['body'][f'{body}']\n",
    "    \n",
    "    if content is None:\n",
    "        print(\"data is None\")\n",
    "    else:\n",
    "        detail_name=list(content)[0]\n",
    "        content=content[detail_name]\n",
    "        return content"
   ]
  },
  {
   "cell_type": "code",
   "execution_count": 64,
   "metadata": {},
   "outputs": [],
   "source": [
    "test=item_check(url)"
   ]
  },
  {
   "cell_type": "code",
   "execution_count": 65,
   "metadata": {},
   "outputs": [
    {
     "data": {
      "text/plain": [
       "dict_keys(['registrationRightInfo', 'registrationRightHolderInfo', 'registrationRightRankInfo', 'registrationFeeInfo', 'registrationLastRightHolderInfo'])"
      ]
     },
     "execution_count": 65,
     "metadata": {},
     "output_type": "execute_result"
    }
   ],
   "source": [
    "test.keys()"
   ]
  },
  {
   "cell_type": "code",
   "execution_count": 66,
   "metadata": {},
   "outputs": [
    {
     "data": {
      "text/plain": [
       "{'registrationRightInfo': {'registrationNumber': '2000642310000',\n",
       "  'regReferenceNumber': None,\n",
       "  'registrationDate': '19920409',\n",
       "  'assessmentDate': '19920406',\n",
       "  'expirationDate': '20040506',\n",
       "  'terminationCauseName': '등록료불납',\n",
       "  'terminationDate': '20030116',\n",
       "  'applicationNumber': '2019890005971',\n",
       "  'appReferenceNumber': None,\n",
       "  'applicationDate': '19890506',\n",
       "  'publicationNumber': '2019920000384',\n",
       "  'publicationDate': '19920115',\n",
       "  'internationRegistrationNumber': None,\n",
       "  'internationRegistrationDate': None,\n",
       "  'originalApplicationNumber': None,\n",
       "  'originalApplicationDate': None,\n",
       "  'classCode': 'F04D 29/66',\n",
       "  'titleOfInvention': '송풍기의소음저감구조',\n",
       "  'titleOfInventionEng': None,\n",
       "  'claimCount': '1',\n",
       "  'priorityCountry': None,\n",
       "  'priorityDate': None,\n",
       "  'priorityCount': '0'},\n",
       " 'registrationRightHolderInfo': {'registrationRightHolderInfoA': [{'rankNumber': '1',\n",
       "    'rankCorrelatorSerialNumber': '1',\n",
       "    'rankCorrelatorType': '권리자',\n",
       "    'rankCorrelatorName': '이성환',\n",
       "    'rankCorrelatorAddress': '서울특별시 서대문구...'},\n",
       "   {'rankNumber': '2',\n",
       "    'rankCorrelatorSerialNumber': '1',\n",
       "    'rankCorrelatorType': '권리자',\n",
       "    'rankCorrelatorName': '주식회사 엑타',\n",
       "    'rankCorrelatorAddress': '서울특별시 강남구...'},\n",
       "   {'rankNumber': '2',\n",
       "    'rankCorrelatorSerialNumber': '1',\n",
       "    'rankCorrelatorType': '의무자',\n",
       "    'rankCorrelatorName': '이성환',\n",
       "    'rankCorrelatorAddress': '서울특별시 서대문구...'}],\n",
       "  'registrationRightHolderInfoB': [{'rankNumber': '1',\n",
       "    'documentName': '설정등록',\n",
       "    'receiptDate': '19920409',\n",
       "    'registrationCauseName': None,\n",
       "    'indicationOfEvent': None},\n",
       "   {'rankNumber': '2',\n",
       "    'documentName': '권리의 이전등록',\n",
       "    'receiptDate': '20001006',\n",
       "    'registrationCauseName': '양도',\n",
       "    'indicationOfEvent': None}]},\n",
       " 'registrationRightRankInfo': [{'rankNumber': '1',\n",
       "   'pertinentPartition': '권리란',\n",
       "   'documentName': '설정등록',\n",
       "   'originalRegistrationNumber': None,\n",
       "   'registrationPurpose': None,\n",
       "   'registrationDate': '19920409',\n",
       "   'registrationCauseName': None,\n",
       "   'registrationCauseDate': None,\n",
       "   'receiptNumber': '999999999999999',\n",
       "   'receiptDate': '19920409',\n",
       "   'disappearanceFlag': 'Y',\n",
       "   'disappearanceCauseName': '등록료불납',\n",
       "   'disappearanceDate': None,\n",
       "   'internationalRegRecordDateMD': None,\n",
       "   'expirationDateMD': None,\n",
       "   'latestRenewalDateMD': None,\n",
       "   'subDesignationDateMD': None},\n",
       "  {'rankNumber': '2',\n",
       "   'pertinentPartition': '권리란',\n",
       "   'documentName': '소멸등록',\n",
       "   'originalRegistrationNumber': None,\n",
       "   'registrationPurpose': None,\n",
       "   'registrationDate': '20031011',\n",
       "   'registrationCauseName': '등록료불납',\n",
       "   'registrationCauseDate': '20030116',\n",
       "   'receiptNumber': '000000000000000',\n",
       "   'receiptDate': '20031011',\n",
       "   'disappearanceFlag': 'N',\n",
       "   'disappearanceCauseName': None,\n",
       "   'disappearanceDate': None,\n",
       "   'internationalRegRecordDateMD': None,\n",
       "   'expirationDateMD': None,\n",
       "   'latestRenewalDateMD': None,\n",
       "   'subDesignationDateMD': None},\n",
       "  {'rankNumber': '2',\n",
       "   'pertinentPartition': '권리자란',\n",
       "   'documentName': '권리의 이전등록',\n",
       "   'originalRegistrationNumber': None,\n",
       "   'registrationPurpose': '권리의 이전등록',\n",
       "   'registrationDate': '20001006',\n",
       "   'registrationCauseName': '양도',\n",
       "   'registrationCauseDate': '20001005',\n",
       "   'receiptNumber': '212000516039526',\n",
       "   'receiptDate': '20001006',\n",
       "   'disappearanceFlag': 'N',\n",
       "   'disappearanceCauseName': None,\n",
       "   'disappearanceDate': None,\n",
       "   'internationalRegRecordDateMD': None,\n",
       "   'expirationDateMD': None,\n",
       "   'latestRenewalDateMD': None,\n",
       "   'subDesignationDateMD': None},\n",
       "  {'rankNumber': '1',\n",
       "   'pertinentPartition': '전용권자란',\n",
       "   'documentName': '전용실시권의 설정등록',\n",
       "   'originalRegistrationNumber': None,\n",
       "   'registrationPurpose': None,\n",
       "   'registrationDate': '19921106',\n",
       "   'registrationCauseName': '설정계약',\n",
       "   'registrationCauseDate': '19921106',\n",
       "   'receiptNumber': '211992000006910',\n",
       "   'receiptDate': '19921106',\n",
       "   'disappearanceFlag': 'N',\n",
       "   'disappearanceCauseName': None,\n",
       "   'disappearanceDate': None,\n",
       "   'internationalRegRecordDateMD': None,\n",
       "   'expirationDateMD': None,\n",
       "   'latestRenewalDateMD': None,\n",
       "   'subDesignationDateMD': None},\n",
       "  {'rankNumber': '1',\n",
       "   'pertinentPartition': '권리자란',\n",
       "   'documentName': '설정등록',\n",
       "   'originalRegistrationNumber': None,\n",
       "   'registrationPurpose': None,\n",
       "   'registrationDate': '19920409',\n",
       "   'registrationCauseName': None,\n",
       "   'registrationCauseDate': None,\n",
       "   'receiptNumber': '211992000458618',\n",
       "   'receiptDate': '19920409',\n",
       "   'disappearanceFlag': 'Y',\n",
       "   'disappearanceCauseName': '양도',\n",
       "   'disappearanceDate': None,\n",
       "   'internationalRegRecordDateMD': None,\n",
       "   'expirationDateMD': None,\n",
       "   'latestRenewalDateMD': None,\n",
       "   'subDesignationDateMD': None}],\n",
       " 'registrationFeeInfo': [{'registrationDate': '19920409',\n",
       "   'startAnnual': '1',\n",
       "   'lastAnnual': '3',\n",
       "   'paymentDegree': '1',\n",
       "   'paymentFee': '31500',\n",
       "   'paymentDate': '19920409'},\n",
       "  {'registrationDate': '19950112',\n",
       "   'startAnnual': '4',\n",
       "   'lastAnnual': '4',\n",
       "   'paymentDegree': '1',\n",
       "   'paymentFee': '28000',\n",
       "   'paymentDate': '19950112'},\n",
       "  {'registrationDate': '19960115',\n",
       "   'startAnnual': '5',\n",
       "   'lastAnnual': '5',\n",
       "   'paymentDegree': '1',\n",
       "   'paymentFee': '28000',\n",
       "   'paymentDate': '19960115'},\n",
       "  {'registrationDate': '19961220',\n",
       "   'startAnnual': '6',\n",
       "   'lastAnnual': '6',\n",
       "   'paymentDegree': '1',\n",
       "   'paymentFee': '28000',\n",
       "   'paymentDate': '19961220'},\n",
       "  {'registrationDate': '19980115',\n",
       "   'startAnnual': '7',\n",
       "   'lastAnnual': '7',\n",
       "   'paymentDegree': '1',\n",
       "   'paymentFee': '93000',\n",
       "   'paymentDate': '19980115'},\n",
       "  {'registrationDate': '19990715',\n",
       "   'startAnnual': '8',\n",
       "   'lastAnnual': '8',\n",
       "   'paymentDegree': '1',\n",
       "   'paymentFee': '186000',\n",
       "   'paymentDate': '19990716'},\n",
       "  {'registrationDate': '20000107',\n",
       "   'startAnnual': '9',\n",
       "   'lastAnnual': '9',\n",
       "   'paymentDegree': '1',\n",
       "   'paymentFee': '93000',\n",
       "   'paymentDate': '20000107'},\n",
       "  {'registrationDate': '20001211',\n",
       "   'startAnnual': '10',\n",
       "   'lastAnnual': '10',\n",
       "   'paymentDegree': '1',\n",
       "   'paymentFee': '186000',\n",
       "   'paymentDate': '20001212'},\n",
       "  {'registrationDate': '20020114',\n",
       "   'startAnnual': '11',\n",
       "   'lastAnnual': '11',\n",
       "   'paymentDegree': '1',\n",
       "   'paymentFee': '186000',\n",
       "   'paymentDate': '20020115'}],\n",
       " 'registrationLastRightHolderInfo': {'lastRightHolderNumber': '119980032017',\n",
       "  'lastRightHolderName': '주식회사 엑타',\n",
       "  'lastRightHolderAddress': '서울특별시 강남구...',\n",
       "  'lastRightHolderCountry': '대한민국'}}"
      ]
     },
     "execution_count": 66,
     "metadata": {},
     "output_type": "execute_result"
    }
   ],
   "source": [
    "test"
   ]
  },
  {
   "cell_type": "code",
   "execution_count": 7,
   "metadata": {},
   "outputs": [
    {
     "data": {
      "text/plain": [
       "'items'"
      ]
     },
     "execution_count": 7,
     "metadata": {},
     "output_type": "execute_result"
    }
   ],
   "source": [
    "detail_name"
   ]
  },
  {
   "cell_type": "code",
   "execution_count": 25,
   "metadata": {},
   "outputs": [],
   "source": [
    "content=request_get['response']['body']"
   ]
  },
  {
   "cell_type": "code",
   "execution_count": 31,
   "metadata": {},
   "outputs": [],
   "source": [
    "di_content=content['items']['registrationInfo'].keys()"
   ]
  },
  {
   "cell_type": "code",
   "execution_count": 39,
   "metadata": {},
   "outputs": [],
   "source": [
    "aa=content['items']['registrationInfo']"
   ]
  },
  {
   "cell_type": "code",
   "execution_count": 43,
   "metadata": {},
   "outputs": [
    {
     "data": {
      "text/plain": [
       "[{'rankNumber': '1',\n",
       "  'documentName': '설정등록',\n",
       "  'receiptDate': '19920409',\n",
       "  'registrationCauseName': None,\n",
       "  'indicationOfEvent': None},\n",
       " {'rankNumber': '2',\n",
       "  'documentName': '권리의 이전등록',\n",
       "  'receiptDate': '20001006',\n",
       "  'registrationCauseName': '양도',\n",
       "  'indicationOfEvent': None}]"
      ]
     },
     "execution_count": 43,
     "metadata": {},
     "output_type": "execute_result"
    }
   ],
   "source": [
    "aa['registrationRightHolderInfo']['registrationRightHolderInfoB']"
   ]
  },
  {
   "cell_type": "code",
   "execution_count": 32,
   "metadata": {},
   "outputs": [
    {
     "data": {
      "text/plain": [
       "dict_keys(['registrationRightInfo', 'registrationRightHolderInfo', 'registrationRightRankInfo', 'registrationFeeInfo', 'registrationLastRightHolderInfo'])"
      ]
     },
     "execution_count": 32,
     "metadata": {},
     "output_type": "execute_result"
    }
   ],
   "source": [
    "di_content"
   ]
  },
  {
   "cell_type": "code",
   "execution_count": 57,
   "metadata": {},
   "outputs": [
    {
     "data": {
      "text/plain": [
       "[{'registrationDate': '19920409',\n",
       "  'startAnnual': '1',\n",
       "  'lastAnnual': '3',\n",
       "  'paymentDegree': '1',\n",
       "  'paymentFee': '31500',\n",
       "  'paymentDate': '19920409'},\n",
       " {'registrationDate': '19950112',\n",
       "  'startAnnual': '4',\n",
       "  'lastAnnual': '4',\n",
       "  'paymentDegree': '1',\n",
       "  'paymentFee': '28000',\n",
       "  'paymentDate': '19950112'},\n",
       " {'registrationDate': '19960115',\n",
       "  'startAnnual': '5',\n",
       "  'lastAnnual': '5',\n",
       "  'paymentDegree': '1',\n",
       "  'paymentFee': '28000',\n",
       "  'paymentDate': '19960115'},\n",
       " {'registrationDate': '19961220',\n",
       "  'startAnnual': '6',\n",
       "  'lastAnnual': '6',\n",
       "  'paymentDegree': '1',\n",
       "  'paymentFee': '28000',\n",
       "  'paymentDate': '19961220'},\n",
       " {'registrationDate': '19980115',\n",
       "  'startAnnual': '7',\n",
       "  'lastAnnual': '7',\n",
       "  'paymentDegree': '1',\n",
       "  'paymentFee': '93000',\n",
       "  'paymentDate': '19980115'},\n",
       " {'registrationDate': '19990715',\n",
       "  'startAnnual': '8',\n",
       "  'lastAnnual': '8',\n",
       "  'paymentDegree': '1',\n",
       "  'paymentFee': '186000',\n",
       "  'paymentDate': '19990716'},\n",
       " {'registrationDate': '20000107',\n",
       "  'startAnnual': '9',\n",
       "  'lastAnnual': '9',\n",
       "  'paymentDegree': '1',\n",
       "  'paymentFee': '93000',\n",
       "  'paymentDate': '20000107'},\n",
       " {'registrationDate': '20001211',\n",
       "  'startAnnual': '10',\n",
       "  'lastAnnual': '10',\n",
       "  'paymentDegree': '1',\n",
       "  'paymentFee': '186000',\n",
       "  'paymentDate': '20001212'},\n",
       " {'registrationDate': '20020114',\n",
       "  'startAnnual': '11',\n",
       "  'lastAnnual': '11',\n",
       "  'paymentDegree': '1',\n",
       "  'paymentFee': '186000',\n",
       "  'paymentDate': '20020115'}]"
      ]
     },
     "execution_count": 57,
     "metadata": {},
     "output_type": "execute_result"
    }
   ],
   "source": [
    "aa['registrationFeeInfo']"
   ]
  },
  {
   "cell_type": "code",
   "execution_count": 15,
   "metadata": {},
   "outputs": [
    {
     "data": {
      "text/plain": [
       "{'registrationNumber': '2000642310000',\n",
       " 'regReferenceNumber': None,\n",
       " 'registrationDate': '19920409',\n",
       " 'assessmentDate': '19920406',\n",
       " 'expirationDate': '20040506',\n",
       " 'terminationCauseName': '등록료불납',\n",
       " 'terminationDate': '20030116',\n",
       " 'applicationNumber': '2019890005971',\n",
       " 'appReferenceNumber': None,\n",
       " 'applicationDate': '19890506',\n",
       " 'publicationNumber': '2019920000384',\n",
       " 'publicationDate': '19920115',\n",
       " 'internationRegistrationNumber': None,\n",
       " 'internationRegistrationDate': None,\n",
       " 'originalApplicationNumber': None,\n",
       " 'originalApplicationDate': None,\n",
       " 'classCode': 'F04D 29/66',\n",
       " 'titleOfInvention': '송풍기의소음저감구조',\n",
       " 'titleOfInventionEng': None,\n",
       " 'claimCount': '1',\n",
       " 'priorityCountry': None,\n",
       " 'priorityDate': None,\n",
       " 'priorityCount': '0'}"
      ]
     },
     "execution_count": 15,
     "metadata": {},
     "output_type": "execute_result"
    }
   ],
   "source": [
    "content['registrationInfo']['registrationRightInfo']"
   ]
  },
  {
   "cell_type": "code",
   "execution_count": 51,
   "metadata": {},
   "outputs": [
    {
     "data": {
      "text/plain": [
       "{'lastRightHolderNumber': '119980032017',\n",
       " 'lastRightHolderName': '주식회사 엑타',\n",
       " 'lastRightHolderAddress': '서울특별시 강남구...',\n",
       " 'lastRightHolderCountry': '대한민국'}"
      ]
     },
     "execution_count": 51,
     "metadata": {},
     "output_type": "execute_result"
    }
   ],
   "source": [
    "aa['registrationLastRightHolderInfo']"
   ]
  }
 ],
 "metadata": {
  "kernelspec": {
   "display_name": "Python 3 (ipykernel)",
   "language": "python",
   "name": "python3"
  },
  "language_info": {
   "codemirror_mode": {
    "name": "ipython",
    "version": 3
   },
   "file_extension": ".py",
   "mimetype": "text/x-python",
   "name": "python",
   "nbconvert_exporter": "python",
   "pygments_lexer": "ipython3",
   "version": "3.8.15"
  },
  "vscode": {
   "interpreter": {
    "hash": "4b4a484f8bd7a9114cc5b01f2f8b77c55d4a4dcecddc66574b60dcb6be20dd27"
   }
  }
 },
 "nbformat": 4,
 "nbformat_minor": 4
}

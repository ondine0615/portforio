{
 "cells": [
  {
   "cell_type": "code",
   "execution_count": 32,
   "id": "c42c2201-bc24-4997-a38c-ad0951ae4017",
   "metadata": {
    "jupyter": {
     "source_hidden": true
    },
    "tags": []
   },
   "outputs": [],
   "source": [
    "import sys\n",
    "import os\n",
    "import pymysql\n",
    "import xmltodict\n",
    "import redis\n",
    "import requests\n",
    "#from datetime import datetime\n",
    "import datetime\n",
    "from collections import namedtuple\n",
    "import logging\n",
    "from time import sleep\n",
    "import time\n",
    "\n",
    "class Kipris(object):\n",
    "    \n",
    "    def __init__(self):\n",
    "        \n",
    "        # DB setting\n",
    "            # redis\n",
    "        self.redis=redis.StrictRedis(host='127.0.0.1',port=6379,db=3,decode_responses=True)\n",
    "        self.api_key_ = \"Y74vSqogy7fkw71F26g146N4s9Harc7sLqm4ONkWHWE=\"\n",
    "        self.api_key = \"S5sUeUcewvE0=dLF=a9IKgK72zEAvD5bkiPciv4BIEU=\"\n",
    "        #mysql_reg_database(등록번호 기반)\n",
    "        self.conn_data = {\n",
    "            'host' : '127.0.0.1',\n",
    "            'port' : 3306,\n",
    "            'user': 'root',\n",
    "            'password':'123',\n",
    "            'database': \"KIPRIS\"\n",
    "        }\n",
    "        # mysql_patent_database(출원번호 기반; 예정)\n",
    "        self.conn_data_patent= None\n",
    "        {\n",
    "            'host':'127.0.0.1',\n",
    "            'port': 3306,\n",
    "            'user': 'root',\n",
    "            'password': '123',\n",
    "            'database': 'patent'\n",
    "        }\n",
    "        \n",
    "        \n",
    "        #Logger setting\n",
    "        #self.formatter = logging.Formatter('%(asctime)s - %(name)s - %(levelname)s - %(message)s')\n",
    "        #self.logger=logging.FileHandler('./error_logs/err_output.log',mode='w')\n",
    "        #self.logger.setFormatter(self.formatter)\n",
    "        #self.logger.addHandler(self.logger)\n",
    "        \n",
    "        \n",
    "        \n",
    "        # data list setting\n",
    "        self.list_services=namedtuple('list_services',\n",
    "                                      ['task_id','url','type','searchType','key','date'])\n",
    "        \n",
    "        self.bib=self.list_services(\"registrationTransferListInfo\",\n",
    "                          'http://plus.kipris.or.kr/openapi/rest/RegistrationService/',\n",
    "                          'reg',\n",
    "                          'BIB',\n",
    "                          self.api_key,\n",
    "                          (datetime.datetime.now()-datetime.timedelta(10)).strftime('%Y%m%d'))\n",
    "\n",
    "        self.ord=self.list_services(\"registrationTransferListInfo\",\n",
    "                          'http://plus.kipris.or.kr/openapi/rest/RegistrationService/',\n",
    "                          'reg',\n",
    "                          'ORD',\n",
    "                          self.api_key,\n",
    "                          (datetime.datetime.now()-datetime.timedelta(10)).strftime('%Y%m%d'))\n",
    "\n",
    "        self.hld=self.list_services(\"registrationTransferListInfo\",\n",
    "                          'http://plus.kipris.or.kr/openapi/rest/RegistrationService/',\n",
    "                          'reg',\n",
    "                          'HLD',\n",
    "                          self.api_key,\n",
    "                          (datetime.datetime.now()-datetime.timedelta(10)).strftime('%Y%m%d'))\n",
    "        \n",
    "        self.searchtype_services=[self.bib,self.ord,self.hld]\n",
    "        \n",
    "        self._many={}    \n",
    "\n",
    "        # mysql query\n",
    "        self.app_from_reg= \"\"\"\n",
    "        select applicationNumber\n",
    "        from KIPO_ADMIN_BIBLIOGRAPHIC\n",
    "        where registerNumber = %s\n",
    "        \"\"\"\n",
    "        self.rightHolderA_query = \"\"\"\n",
    "        INSERT INTO REGISTRATION_RIGHT_HOLDER_A(\n",
    "            RANK_NUMBER,\n",
    "            RANK_CORRELATOR_SERIAL_NUMBER,\n",
    "            RANK_CORRELATOR_TYPE,\n",
    "            RANK_CORRELATOR_NAME,\n",
    "            RANK_CORRELATOR_ADDRESS,\n",
    "            REGISTRATION_NUMBER,\n",
    "            TRANSFER_DATE\n",
    "        )\n",
    "        VALUES (%s, %s, %s, %s, %s,%s, %s)\n",
    "        ON DUPLICATE KEY UPDATE\n",
    "            RANK_CORRELATOR_NAME = VALUES(RANK_CORRELATOR_NAME),\n",
    "            RANK_CORRELATOR_ADDRESS= VALUES(RANK_CORELATOR_ADDRESS),\n",
    "            TRANSFER_DATE=VALUES(TRANSFER_DATE),\n",
    "            MOD_DT=SYSDATE()\n",
    "        \"\"\"\n",
    "        self.rightHolderB_query=\"\"\"\n",
    "        INSERT INTO REGISTRATION_RIGHT_HOLDER_B (\n",
    "            RANK_NUMBER,\n",
    "            DOCUMENT_NAME,\n",
    "            RECEIPT_DATE,\n",
    "            REGISTRATION_CAUSE_NAME,\n",
    "            INDECATION_OF_EVENT,\n",
    "            REGISTRATION_NUMBER,\n",
    "            TRANSFER_DATE            \n",
    "        )\n",
    "        VALUES (%s,%s,%s,%s,%s,%s,%s)\n",
    "        ON DUPLICATE KEY UPDATE\n",
    "            DOCUMENT_NAME = VALUES(DOCUMENT_NAME),\n",
    "            RECEIPT_DATE = VALUES(RECEIPT_DATE),\n",
    "            REGISTRATION_CAUSE_NAME = VALUES(REGISTRATION_CAUSE_NAME),\n",
    "            INDICATION_OF_EVENT = VALUES(INDICATION_OF_EVENT),\n",
    "            TRANSFER_DATE = VALUES(TRANSFER_DATE),\n",
    "            MOD_DT=SYSDATE()\n",
    "        \"\"\"\n",
    "        \n",
    "        self.rightRank_query = \"\"\"\n",
    "        INSERT INTO REGISTRATION_RIGHT_RANK (\n",
    "            RANK_NUMBER\n",
    "            , PERTINENT_PARTITION\n",
    "            , DOCUMENT_NAME\n",
    "            , ORIGINAL_REGISTRATION_NUMBER\n",
    "            , REGISTRATION_PURPOSE\n",
    "            , REGISTRATION_DATE\n",
    "            , REGISTRATION_CAUSE_NAME\n",
    "            , REGISTRATION_CAUSE_DATE\n",
    "            , RECEIPT_NUMBER\n",
    "            , RECEIPT_DATE\n",
    "            , DISAPPEARANCE_FLAG\n",
    "            , DISAPPEARANCE_CAUSE_NAME\n",
    "            , DISAPPEARANCE_DATE\n",
    "            , INTERNATIONAL_REG_RECORD_DATE_MD\n",
    "            , EXPIRATION_DATE_MD\n",
    "            , LATEST_RENEWAL_DATE_MD\n",
    "            , SUB_DESIGNATION_DATE_MD\n",
    "            , REGISTRATION_NUMBER\n",
    "            , TRANSFER_DATE\n",
    "            )\n",
    "        VALUES (%s,%s,%s,%s,%s,\n",
    "                %s,%s,%s,%s,%s,\n",
    "                %s,%s,%s,%s,%s,\n",
    "                %s,%s,%s,%s)\n",
    "    ON DUPLICATE KEY UPDATE\n",
    "        DOCUMENT_NAME = VALUES(DOCUMENT_NAME)\n",
    "        , ORIGINAL_REGISTRATION_NUMBER = VALUES(ORIGINAL_REGISTRATION_NUMBER)\n",
    "        , REGISTRATION_PURPOSE = VALUES(REGISTRATION_PURPOSE)\n",
    "        , REGISTRATION_DATE = VALUES(REGISTRATION_DATE)\n",
    "        , REGISTRATION_CAUSE_NAME = VALUES(REGISTRATION_CAUSE_NAME)\n",
    "        , REGISTRATION_CAUSE_DATE = VALUES(REGISTRATION_CAUSE_DATE)\n",
    "        , RECEIPT_NUMBER = VALUES(RECEIPT_NUMBER)\n",
    "        , RECEIPT_DATE = VALUES(RECEIPT_DATE)\n",
    "        , DISAPPEARANCE_FLAG = VALUES(DISAPPEARANCE_FLAG)\n",
    "        , DISAPPEARANCE_CAUSE_NAME = VALUES(DISAPPEARANCE_CAUSE_NAME)\n",
    "        , DISAPPEARANCE_DATE = VALUES(DISAPPEARANCE_DATE)\n",
    "        , INTERNATIONAL_REG_RECORD_DATE_MD = VALUES(INTERNATIONAL_REG_RECORD_DATE_MD)\n",
    "        , EXPIRATION_DATE_MD = VALUES(EXPIRATION_DATE_MD)\n",
    "        , LATEST_RENEWAL_DATE_MD = VALUES(LATEST_RENEWAL_DATE_MD)\n",
    "        , SUB_DESIGNATION_DATE_MD = VALUES(SUB_DESIGNATION_DATE_MD)\n",
    "        , TRANSFER_DATE = VALUES(TRANSFER_DATE)\n",
    "        , MOD_DT = SYSDATE()\n",
    "        \"\"\"\n",
    "        self.rightholder_info = '''\n",
    "        INSERT INTO RIGHT_HOLDER (\n",
    "            PERTINENT_PARTITION\n",
    "            , RANK_NUMBER\n",
    "            , REGISTRATION_DATE\n",
    "            , RANK_CORRELATOR_SERIAL_NUMBER\n",
    "            , RANK_CORRELATOR_NUMBER\n",
    "            , RANK_CORRELATOR_TYPE\n",
    "            , RANK_CORRELATOR_NAME\n",
    "            , RANK_CORRELATOR_ADDRESS\n",
    "            , TRANSFER_DATE\n",
    "            , REGISTRATION_NUMBER\n",
    "        )\n",
    "        VALUES (%s,%s,%s,%s,%s,%s,%s,%s,%s,%s)\n",
    "        ON DUPLICATE KEY UPDATE\n",
    "            REGISTRATION_NUMBER = VALUES(REGISTRATION_NUMBER)\n",
    "            , PERTINENT_PARTITION = VALUES(PERTINENT_PARTITION)\n",
    "            , RANK_CORRELATOR_TYPE = VALUES(RANK_CORRELATOR_TYPE)\n",
    "            , RANK_CORRELATOR_SERIAL_NUMBER = VALUES(RANK_CORRELATOR_SERIAL_NUMBER)\n",
    "            , RANK_NUMBER = VALUES(RANK_NUMBER)\n",
    "            , RANK_CORRELATOR_NAME = VALUES(RANK_CORRELATOR_NAME)\n",
    "            , RANK_CORRELATOR_ADDRESS = VALUES(RANK_CORRELATOR_ADDRESS)\n",
    "            , RANK_CORRELATOR_NUMBER = VALUES(RANK_CORRELATOR_NUMBER)\n",
    "            , REGISTRATION_DATE = VALUES(REGISTRATION_DATE)\n",
    "            , TRANSFER_DATE = VALUES(TRANSFER_DATE)\n",
    "            , MOD_DT = SYSDATE()\n",
    "        '''\n",
    "        self.registrationFee_query = '''\n",
    "        INSERT INTO REGISTRATION_FEE (\n",
    "            REGISTRATION_DATE\n",
    "            , START_ANNUAL\n",
    "            , LAST_ANNUAL\n",
    "            , PAYMENT_DEGREE\n",
    "            , PAYMENT_FEE\n",
    "            , PAYMENT_DATE\n",
    "            , REGISTRATION_NUMBER\n",
    "            , TRANSFER_DATE\n",
    "        )\n",
    "        VALUES (%s,%s,%s,%s,%s,%s,%s,%s)\n",
    "        ON DUPLICATE KEY UPDATE\n",
    "            START_ANNUAL = VALUES(START_ANNUAL)\n",
    "            , LAST_ANNUAL = VALUES(LAST_ANNUAL)\n",
    "            , PAYMENT_DEGREE = VALUES(PAYMENT_DEGREE)\n",
    "            , PAYMENT_FEE = VALUES(PAYMENT_FEE)\n",
    "            , PAYMENT_DATE = VALUES(PAYMENT_DATE)\n",
    "            , TRANSFER_DATE = VALUES(TRANSFER_DATE)\n",
    "            , MOD_DT = SYSDATE()\n",
    "        ''' \n",
    "        self.match_info = {\n",
    "            'right_info': [self.rightholder_info, self.conn_data],\n",
    "            'reg_fee': [self.registrationFee_query, self.conn_data],\n",
    "            'reg_rank': [self.rightRank_query, self.conn_data],\n",
    "            'reg_rightA': [self.rightHolderA_query, self.conn_data],\n",
    "            'reg_rightB': [self.rightHolderB_query, self.conn_data]\n",
    "        }\n",
    "        \n",
    "    # params setting\n",
    "    def get_searchtype(self):\n",
    "        task_id_list=[]    \n",
    "        tmp_app_list=[]\n",
    "        for services in self.searchtype_services:\n",
    "            target_url=f\"{services.url}/{services.task_id}?transferDate={services.date}&searchType={services.searchType}&accessKey={services.key}\"\n",
    "            #1. 데이터를 가지고 오는 단계\n",
    "            content_dict=self.item_check(target_url)\n",
    "            sleep(1)\n",
    "            #print(content_dict)\n",
    "            #print(content_dict['registrationTransferListInfo'])\n",
    "            #print(len((content_dict['registrationTransferListInfo'].keys())))\n",
    "            # 데이터 검증단계 \n",
    "            transferCount='0'\n",
    "            tmpList=[]\n",
    "            \n",
    "            if  len(content_dict.keys())!=1:\n",
    "                transferCount=content_dict['transferCount']\n",
    "                tmpList=content_dict['transferList']\n",
    "            else:\n",
    "                try:\n",
    "                    transferCount=content_dict[f\"{services.task_id}\"]['transferCount']\n",
    "                    tmpList=content_dict[f\"{services.task_id}\"]['transferList']\n",
    "                    #print(transferCount)\n",
    "                    #print(tmpList)\n",
    "                except:\n",
    "                    print('error')\n",
    "                    \n",
    "            if transferCount!=0:\n",
    "                tmpList=tmpList.split('|')[:-1]\n",
    "            else:\n",
    "                print(\"no data here\")\n",
    "                \n",
    "            if int(transferCount)!=len(tmpList):\n",
    "                print(\"data transfer count incorrect\")\n",
    "            ############ 이 부분에서 Stage 1 종료. 변경사항이 있는 특허-실용 등록번호를 redis에 일시 저장한 뒤 하나씩 꺼내 진짜 데이터 추출에 활용############\n",
    "            else:\n",
    "                transferList=[number for number in tmpList if number.startswith('10')| number.startswith('20')]\n",
    "                \n",
    "                for number in transferList:\n",
    "                    self.redis.sadd(f\"{services.task_id}\",number)\n",
    "                    #print(number)\n",
    "            \n",
    "            if services.type == 'reg':\n",
    "                task_id_list.append(services.task_id)\n",
    "            union_transferList=self.redis.sunion(task_id_list)\n",
    "            self.redis.delete(services.task_id)\n",
    "            \n",
    "            for number in union_transferList:\n",
    "                self.redis.sadd(f'{services.type}_working',number)\n",
    "                \n",
    "                ##########이 부분 해결해야 함 ###################\n",
    "                # app_num=self.get_db(self.app_from_reg, self.conn_data_patent, number)\n",
    "                \n",
    "                # if not len(app_num):\n",
    "                #     continue\n",
    "                \n",
    "                # tmp_app_list.append(app_num[0][0])\n",
    "                # for app_num in tmp_app_list:\n",
    "                #    self.redis.sadd(\"app_working\",app_num)\n",
    "\n",
    "    def process_working(self, list_type, other=None,err_date=None):\n",
    "        start = time.time()\n",
    "        list_name= f'{list_type}_working'\n",
    "        \n",
    "        number_check = None\n",
    "        while True:\n",
    "            number = self.redis.spop(list_name) # key가 reg_working인 data를 하나씩 뽑아 씀. \n",
    "            #if not number:\n",
    "            #    break\n",
    "            if number != number_check: # 당연히 같지 않다. \n",
    "                if list_type=='reg':\n",
    "                    self.registration(number)\n",
    "                    number_check=number # 중복을 방지하기 위해\n",
    "        \n",
    "            else:\n",
    "                # 원래 이 부분에 출원정보 관련한 코드를 넣으려 했음. \n",
    "                print('something is wrong in working porocess..')\n",
    "                continue\n",
    "            duration = time.time() - start\n",
    "            if duration < 0.5:\n",
    "                time.sleep(0.5 - duration)\n",
    "            self.post_many(flush=True)\n",
    "            #self.post_many(flush=True)\n",
    "            print('process working complete')\n",
    "    \n",
    "    \n",
    "    # 등록사항 data input\n",
    "    \n",
    "    def registration(self,number):\n",
    "        try:\n",
    "            basic_url=\"http://plus.kipris.or.kr/openapi/rest/RegistrationService/\"\n",
    "            taskId=\"registrationInfo\"\n",
    "            reg_number='registrationNumber'\n",
    "            #url =f'{basic_url}{taskId}?{reg_number}={number}&accessKey={api_key}'\n",
    "            url =f'{basic_url}{taskId}?{reg_number}={number}&accessKey={self.api_key}'\n",
    "            url_2=f'{basic_url}{taskId}?{reg_number}={number}&accessKey={self.api_key_2}'\n",
    "\n",
    "            if not self.code_check(url)==None:\n",
    "                content=self.item_check(url)\n",
    "            else:\n",
    "                content=self.item_check(url_2)\n",
    "            if len(content) !=0:\n",
    "                for key,item in content.items():\n",
    "                    if key=='registrationRightInfo':\n",
    "                        item['date'] = list(self.redis.smembers('word_date'))[0]\n",
    "                        self.add_info(item, only_none=True)\n",
    "                    elif key == 'registrationRightHolderInfo':\n",
    "                        if type(item['registrationRightHolderInfoA']) is list:\n",
    "                            for _item in item['registrationRightHolderInfoA']:\n",
    "                                self.add_info(_item, number)\n",
    "                        else:\n",
    "                            self.add_info(item['registrationRightHolderInfoA'], number)\n",
    "                        if type(item['registrationRightHolderInfoB']) is list:\n",
    "                            for _item in item['registrationRightHolderInfoB']:\n",
    "                                self.add_info(_item, number)\n",
    "                        else:\n",
    "                            self.add_info(item['registrationRightHolderInfoB'], number)\n",
    "                    else:\n",
    "                        if type(item) is not list:\n",
    "                            item = [item]\n",
    "                        for _item in item:\n",
    "                            self.add_info(_item, number)\n",
    "        except:\n",
    "            print('patent registration content input -> error')\n",
    "        \n",
    "    # insert ---\n",
    "        try:\n",
    "            \n",
    "            \n",
    "            rank_info=[]\n",
    "            _last_info=[]\n",
    "            fee_info=[]\n",
    "            right_a=[]\n",
    "            right_b=[]\n",
    "\n",
    "\n",
    "            #right_info_=list(content['registrationRightInfo'])\n",
    "            #print(right_info_)\n",
    "            right_idc_info=list(content['registrationRightInfo'].values())\n",
    "            print(right_idc_info)\n",
    "            \n",
    "            del right_idc_info[1]\n",
    "            del right_idc_info[7]\n",
    "            del right_idc_info[-1]\n",
    "            \n",
    "            \n",
    "            if type(content['registrationLastRightHolderInfo']) is not list:\n",
    "                _last_info = list(content['registrationLastRightHolderInfo'].values())\n",
    "            else:\n",
    "                _last_info= [list(data.values()) for data in content['registrationLastRightHolderInfo']]\n",
    "            if type(content['registrationRightRankInfo']) is not list:\n",
    "                rank_info= list(content['registrationRightRankInfo'].values())\n",
    "            else:\n",
    "                rank_info = [list(data.values()) for data in content['registrationRightRankInfo']]\n",
    "            if type(content['registrationFeeInfo']) is not list:\n",
    "                fee_info=list(content['registrationFeeInfo'].values())\n",
    "            else:\n",
    "                fee_info=[list(data.values()) for data in content['registrationFeeInfo']]\n",
    "            if type(content['registrationRightHolderInfo']['registrationRightHolderInfoA'] is not list):\n",
    "                right_a=list(content['registrationRightHolderInfo']['registrationRightHolderInfoA'])\n",
    "            else:\n",
    "                right_a=[list(data.values()) for data in content['registrationRightHolderInfo']['registrationRightHolderInfoA']]\n",
    "            if type(content['registrationRightHolderInfo']['registrationRightHolderInfoB']) is not list:\n",
    "                right_b=list(content['registrationRightHolderInfo']['registrationRightHolderInfoB'])\n",
    "            else:\n",
    "                right_b=[list(data.values()) for data in content['registrationRightHolderInfo']['registrationRightHolderInfoB']]\n",
    "            self.post_many('reg_right_a',right_a)\n",
    "            self.post_many('reg_right_b',right_b)\n",
    "            self.post_many('reg_rank',rank_info)\n",
    "            self.post_many('reg_fee',fee_info)\n",
    "            self.post_many('reg_last',_last_info)\n",
    "            self.post_many('reg_update',[number, list(self.redis.smembers('work_date'))[0]])\n",
    "            print(\"complete\")\n",
    "        except ValueError:\n",
    "            print('something wrong in content_values')\n",
    "            \n",
    "\n",
    "    \n",
    "    \n",
    "    \n",
    "     #----------------------------------------------------------------------\n",
    "       #--------------------------- 사용 함수 ---------------------------------\n",
    "       #----------------------------------------------------------------------                \n",
    "       # mysql connection setting\n",
    "       \n",
    "    def get_db(self,query,commit=False,retry=24):\n",
    "        tries=0\n",
    "        conn=pymysql.connect(host=self.conn_data['host'],\n",
    "                             port=self.conn_data['port'],\n",
    "                             user=self.conn_data['user'],\n",
    "                             password=self.conn_data['password'],\n",
    "                             database=self.conn_data['database'],\n",
    "                             connect_timeout=60\n",
    "                             )\n",
    "        try:\n",
    "            with conn.cursor() as curs:\n",
    "                curs.execute(query)\n",
    "                data = curs.fetchall()\n",
    "                if commit:\n",
    "                    conn.commit()\n",
    "                conn.close()\n",
    "                return data\n",
    "        except:\n",
    "            if tries==retry:\n",
    "                conn.close()\n",
    "            tries+=1\n",
    "            sleep(5)\n",
    "    def add_info(self,orddict,number=None,only_none=False):\n",
    "        if not only_none:\n",
    "            orddict['number'] = number\n",
    "            orddict['date'] = list(self.redis.smembers(\"work_date\"))[0]\n",
    "            \n",
    "        for response in orddict.items():\n",
    "            if response[1]==None:\n",
    "                if (response[0] == 'trialNumberr') | (response[0] == 'registrationNumber'):\n",
    "                    orddict[f'{response[0]}'] = 'N/A'\n",
    "                orddict[f'{response[0]}'] = ''\n",
    "\n",
    "        \n",
    "\n",
    "\n",
    "\n",
    "\n",
    "    # data information setting\n",
    "    \n",
    "    # data xml input \n",
    "    def code_check(self, url):\n",
    "        try:\n",
    "            request_get=requests.get(url)\n",
    "            content_xml=request_get.content\n",
    "            body=list(xmltodict.parse(content_xml)['response']['body'])[0]\n",
    "            content=xmltodict.parse(content_xml)['response']['body'][f'{body}']\n",
    "            \n",
    "            return content\n",
    "\n",
    "            \n",
    "        except:\n",
    "            print(' error in api_code check process')\n",
    "    \n",
    "    def item_check(self,url):\n",
    "        try:\n",
    "            request_get=requests.get(url)\n",
    "            content_xml=request_get.content\n",
    "            body=list(xmltodict.parse(content_xml)['response']['body'])[0]\n",
    "            content=xmltodict.parse(content_xml)['response']['body'][f'{body}']\n",
    "            detail_name=list(content)[0]\n",
    "            content=content[detail_name]\n",
    "            return content\n",
    "        except:\n",
    "            print(\"item_check process error\")\n",
    "\n",
    "\n",
    "    # def post_manay(self, flush=False):\n",
    "    #     if flush:\n",
    "    #         for _key in sorted(self._many.keys()):\n",
    "    #             try:\n",
    "    #                 post_db()\n",
    "\n",
    "    def post_db(self, query, data, conn_data,commit=True):\n",
    "        tries=0\n",
    "        while True:\n",
    "            try:\n",
    "                conn = pymysql.connect(host=conn_data['host'],\n",
    "                                       port=conn_data['port'],\n",
    "                                       user = conn_data['user'],\n",
    "                                       password=conn_data['password'],\n",
    "                                       database=conn_data['database'],\n",
    "                                       connect_timeout=60)\n",
    "                with conn.cursor() as curs:\n",
    "                    if (type(data[0]) is list) & (len(data) !=1):\n",
    "                        curs.executemany(query,data)\n",
    "                    elif (type(data[0]) is list) & (len(data)==1):\n",
    "                        curs.execute(query,data)\n",
    "                if commit:\n",
    "                    conn.commit()\n",
    "                conn.close()\n",
    "                return True\n",
    "            except:\n",
    "                if tries ==12:\n",
    "                    conn.close()\n",
    "                    return False\n",
    "                tries +=1\n",
    "                sleep(5)\n",
    "    \n",
    "    def post_many(self,flush=False,target=None,data=None):\n",
    "        if not flush:\n",
    "            if target not in self._many.keys():\n",
    "                if isinstance(data, list):\n",
    "                    if isinstance(data[0], list):\n",
    "                        self._many[target]=data\n",
    "                    else:\n",
    "                        print('post_many processing error')\n",
    "                else:\n",
    "                    print('post_many data type error')\n",
    "            else:\n",
    "                print('post_many target processing error')\n",
    "            if len(self._many[target]) ==100:\n",
    "                self.post_db(self.match_info[target][0], self._many[target],self.match_info[target][1])\n",
    "                self._many.pop(target)\n",
    "                print('db insert complete, delete info...')\n",
    "        \n",
    "        if flush:\n",
    "            for _key in sorted(self._many.keys()):\n",
    "                try:\n",
    "                    self.post_db(self.match_info[_key][0], self._many[_key],self.match_info[_key][1])\n",
    "                except:\n",
    "                    print(_key)\n",
    "                    print(self._many[_key])\n",
    "                \n",
    "#if __name__ == '__main__':\n",
    "#    run = Kipris()\n",
    "    #logging.debug('debug')\n",
    "    #logging.info('info')\n",
    "    #print(run.get_searchtype())\n",
    "#    run.get_searchtype()\n",
    "    #run.process_working('reg')\n",
    "    #print(run.process_working('reg'))\n",
    "    #print(run.get_searchtype())\n"
   ]
  },
  {
   "cell_type": "code",
   "execution_count": 30,
   "id": "f0bae431-e624-4843-a542-8e04d4d8b698",
   "metadata": {},
   "outputs": [],
   "source": [
    "run = Kipris()\n",
    "run.get_searchtype()"
   ]
  },
  {
   "cell_type": "code",
   "execution_count": 31,
   "id": "010370ea-24bf-4977-9b7f-037a10bfee76",
   "metadata": {},
   "outputs": [
    {
     "name": "stdout",
     "output_type": "stream",
     "text": [
      "None\n"
     ]
    }
   ],
   "source": [
    "print(run.get_searchtype())"
   ]
  },
  {
   "cell_type": "code",
   "execution_count": 34,
   "id": "a7147ad8-4682-443f-b9c4-88a363525b6d",
   "metadata": {
    "collapsed": true,
    "jupyter": {
     "outputs_hidden": true
    },
    "tags": []
   },
   "outputs": [
    {
     "ename": "DataError",
     "evalue": "Invalid input of type: 'NoneType'. Convert to a bytes, string, int or float first.",
     "output_type": "error",
     "traceback": [
      "\u001b[0;31m---------------------------------------------------------------------------\u001b[0m",
      "\u001b[0;31mDataError\u001b[0m                                 Traceback (most recent call last)",
      "Cell \u001b[0;32mIn[34], line 1\u001b[0m\n\u001b[0;32m----> 1\u001b[0m \u001b[38;5;28mprint\u001b[39m(\u001b[43mrun\u001b[49m\u001b[38;5;241;43m.\u001b[39;49m\u001b[43mprocess_working\u001b[49m\u001b[43m(\u001b[49m\u001b[38;5;124;43m'\u001b[39;49m\u001b[38;5;124;43mreg\u001b[39;49m\u001b[38;5;124;43m'\u001b[39;49m\u001b[43m)\u001b[49m)\n",
      "Cell \u001b[0;32mIn[32], line 290\u001b[0m, in \u001b[0;36mKipris.process_working\u001b[0;34m(self, list_type, other, err_date)\u001b[0m\n\u001b[1;32m    288\u001b[0m number_check \u001b[38;5;241m=\u001b[39m \u001b[38;5;28;01mNone\u001b[39;00m\n\u001b[1;32m    289\u001b[0m \u001b[38;5;28;01mwhile\u001b[39;00m \u001b[38;5;28;01mTrue\u001b[39;00m:\n\u001b[0;32m--> 290\u001b[0m     number \u001b[38;5;241m=\u001b[39m \u001b[38;5;28;43mself\u001b[39;49m\u001b[38;5;241;43m.\u001b[39;49m\u001b[43mredis\u001b[49m\u001b[38;5;241;43m.\u001b[39;49m\u001b[43mspop\u001b[49m\u001b[43m(\u001b[49m\u001b[43mlist_name\u001b[49m\u001b[43m)\u001b[49m \u001b[38;5;66;03m# key가 reg_working인 data를 하나씩 뽑아 씀. \u001b[39;00m\n\u001b[1;32m    291\u001b[0m     \u001b[38;5;66;03m#if not number:\u001b[39;00m\n\u001b[1;32m    292\u001b[0m     \u001b[38;5;66;03m#    break\u001b[39;00m\n\u001b[1;32m    293\u001b[0m     \u001b[38;5;28;01mif\u001b[39;00m number \u001b[38;5;241m!=\u001b[39m number_check: \u001b[38;5;66;03m# 당연히 같지 않다. \u001b[39;00m\n",
      "File \u001b[0;32m~/anaconda3/envs/airflow/lib/python3.8/site-packages/redis/commands/core.py:3313\u001b[0m, in \u001b[0;36mSetCommands.spop\u001b[0;34m(self, name, count)\u001b[0m\n\u001b[1;32m   3307\u001b[0m \u001b[38;5;124;03m\"\"\"\u001b[39;00m\n\u001b[1;32m   3308\u001b[0m \u001b[38;5;124;03mRemove and return a random member of set ``name``\u001b[39;00m\n\u001b[1;32m   3309\u001b[0m \n\u001b[1;32m   3310\u001b[0m \u001b[38;5;124;03mFor more information see https://redis.io/commands/spop\u001b[39;00m\n\u001b[1;32m   3311\u001b[0m \u001b[38;5;124;03m\"\"\"\u001b[39;00m\n\u001b[1;32m   3312\u001b[0m args \u001b[38;5;241m=\u001b[39m (count \u001b[38;5;129;01mis\u001b[39;00m \u001b[38;5;129;01mnot\u001b[39;00m \u001b[38;5;28;01mNone\u001b[39;00m) \u001b[38;5;129;01mand\u001b[39;00m [count] \u001b[38;5;129;01mor\u001b[39;00m []\n\u001b[0;32m-> 3313\u001b[0m \u001b[38;5;28;01mreturn\u001b[39;00m \u001b[38;5;28;43mself\u001b[39;49m\u001b[38;5;241;43m.\u001b[39;49m\u001b[43mexecute_command\u001b[49m\u001b[43m(\u001b[49m\u001b[38;5;124;43m\"\u001b[39;49m\u001b[38;5;124;43mSPOP\u001b[39;49m\u001b[38;5;124;43m\"\u001b[39;49m\u001b[43m,\u001b[49m\u001b[43m \u001b[49m\u001b[43mname\u001b[49m\u001b[43m,\u001b[49m\u001b[43m \u001b[49m\u001b[38;5;241;43m*\u001b[39;49m\u001b[43margs\u001b[49m\u001b[43m)\u001b[49m\n",
      "File \u001b[0;32m~/anaconda3/envs/airflow/lib/python3.8/site-packages/redis/client.py:1258\u001b[0m, in \u001b[0;36mRedis.execute_command\u001b[0;34m(self, *args, **options)\u001b[0m\n\u001b[1;32m   1255\u001b[0m conn \u001b[38;5;241m=\u001b[39m \u001b[38;5;28mself\u001b[39m\u001b[38;5;241m.\u001b[39mconnection \u001b[38;5;129;01mor\u001b[39;00m pool\u001b[38;5;241m.\u001b[39mget_connection(command_name, \u001b[38;5;241m*\u001b[39m\u001b[38;5;241m*\u001b[39moptions)\n\u001b[1;32m   1257\u001b[0m \u001b[38;5;28;01mtry\u001b[39;00m:\n\u001b[0;32m-> 1258\u001b[0m     \u001b[38;5;28;01mreturn\u001b[39;00m \u001b[43mconn\u001b[49m\u001b[38;5;241;43m.\u001b[39;49m\u001b[43mretry\u001b[49m\u001b[38;5;241;43m.\u001b[39;49m\u001b[43mcall_with_retry\u001b[49m\u001b[43m(\u001b[49m\n\u001b[1;32m   1259\u001b[0m \u001b[43m        \u001b[49m\u001b[38;5;28;43;01mlambda\u001b[39;49;00m\u001b[43m:\u001b[49m\u001b[43m \u001b[49m\u001b[38;5;28;43mself\u001b[39;49m\u001b[38;5;241;43m.\u001b[39;49m\u001b[43m_send_command_parse_response\u001b[49m\u001b[43m(\u001b[49m\n\u001b[1;32m   1260\u001b[0m \u001b[43m            \u001b[49m\u001b[43mconn\u001b[49m\u001b[43m,\u001b[49m\u001b[43m \u001b[49m\u001b[43mcommand_name\u001b[49m\u001b[43m,\u001b[49m\u001b[43m \u001b[49m\u001b[38;5;241;43m*\u001b[39;49m\u001b[43margs\u001b[49m\u001b[43m,\u001b[49m\u001b[43m \u001b[49m\u001b[38;5;241;43m*\u001b[39;49m\u001b[38;5;241;43m*\u001b[39;49m\u001b[43moptions\u001b[49m\n\u001b[1;32m   1261\u001b[0m \u001b[43m        \u001b[49m\u001b[43m)\u001b[49m\u001b[43m,\u001b[49m\n\u001b[1;32m   1262\u001b[0m \u001b[43m        \u001b[49m\u001b[38;5;28;43;01mlambda\u001b[39;49;00m\u001b[43m \u001b[49m\u001b[43merror\u001b[49m\u001b[43m:\u001b[49m\u001b[43m \u001b[49m\u001b[38;5;28;43mself\u001b[39;49m\u001b[38;5;241;43m.\u001b[39;49m\u001b[43m_disconnect_raise\u001b[49m\u001b[43m(\u001b[49m\u001b[43mconn\u001b[49m\u001b[43m,\u001b[49m\u001b[43m \u001b[49m\u001b[43merror\u001b[49m\u001b[43m)\u001b[49m\u001b[43m,\u001b[49m\n\u001b[1;32m   1263\u001b[0m \u001b[43m    \u001b[49m\u001b[43m)\u001b[49m\n\u001b[1;32m   1264\u001b[0m \u001b[38;5;28;01mfinally\u001b[39;00m:\n\u001b[1;32m   1265\u001b[0m     \u001b[38;5;28;01mif\u001b[39;00m \u001b[38;5;129;01mnot\u001b[39;00m \u001b[38;5;28mself\u001b[39m\u001b[38;5;241m.\u001b[39mconnection:\n",
      "File \u001b[0;32m~/anaconda3/envs/airflow/lib/python3.8/site-packages/redis/retry.py:46\u001b[0m, in \u001b[0;36mRetry.call_with_retry\u001b[0;34m(self, do, fail)\u001b[0m\n\u001b[1;32m     44\u001b[0m \u001b[38;5;28;01mwhile\u001b[39;00m \u001b[38;5;28;01mTrue\u001b[39;00m:\n\u001b[1;32m     45\u001b[0m     \u001b[38;5;28;01mtry\u001b[39;00m:\n\u001b[0;32m---> 46\u001b[0m         \u001b[38;5;28;01mreturn\u001b[39;00m \u001b[43mdo\u001b[49m\u001b[43m(\u001b[49m\u001b[43m)\u001b[49m\n\u001b[1;32m     47\u001b[0m     \u001b[38;5;28;01mexcept\u001b[39;00m \u001b[38;5;28mself\u001b[39m\u001b[38;5;241m.\u001b[39m_supported_errors \u001b[38;5;28;01mas\u001b[39;00m error:\n\u001b[1;32m     48\u001b[0m         failures \u001b[38;5;241m+\u001b[39m\u001b[38;5;241m=\u001b[39m \u001b[38;5;241m1\u001b[39m\n",
      "File \u001b[0;32m~/anaconda3/envs/airflow/lib/python3.8/site-packages/redis/client.py:1259\u001b[0m, in \u001b[0;36mRedis.execute_command.<locals>.<lambda>\u001b[0;34m()\u001b[0m\n\u001b[1;32m   1255\u001b[0m conn \u001b[38;5;241m=\u001b[39m \u001b[38;5;28mself\u001b[39m\u001b[38;5;241m.\u001b[39mconnection \u001b[38;5;129;01mor\u001b[39;00m pool\u001b[38;5;241m.\u001b[39mget_connection(command_name, \u001b[38;5;241m*\u001b[39m\u001b[38;5;241m*\u001b[39moptions)\n\u001b[1;32m   1257\u001b[0m \u001b[38;5;28;01mtry\u001b[39;00m:\n\u001b[1;32m   1258\u001b[0m     \u001b[38;5;28;01mreturn\u001b[39;00m conn\u001b[38;5;241m.\u001b[39mretry\u001b[38;5;241m.\u001b[39mcall_with_retry(\n\u001b[0;32m-> 1259\u001b[0m         \u001b[38;5;28;01mlambda\u001b[39;00m: \u001b[38;5;28;43mself\u001b[39;49m\u001b[38;5;241;43m.\u001b[39;49m\u001b[43m_send_command_parse_response\u001b[49m\u001b[43m(\u001b[49m\n\u001b[1;32m   1260\u001b[0m \u001b[43m            \u001b[49m\u001b[43mconn\u001b[49m\u001b[43m,\u001b[49m\u001b[43m \u001b[49m\u001b[43mcommand_name\u001b[49m\u001b[43m,\u001b[49m\u001b[43m \u001b[49m\u001b[38;5;241;43m*\u001b[39;49m\u001b[43margs\u001b[49m\u001b[43m,\u001b[49m\u001b[43m \u001b[49m\u001b[38;5;241;43m*\u001b[39;49m\u001b[38;5;241;43m*\u001b[39;49m\u001b[43moptions\u001b[49m\n\u001b[1;32m   1261\u001b[0m \u001b[43m        \u001b[49m\u001b[43m)\u001b[49m,\n\u001b[1;32m   1262\u001b[0m         \u001b[38;5;28;01mlambda\u001b[39;00m error: \u001b[38;5;28mself\u001b[39m\u001b[38;5;241m.\u001b[39m_disconnect_raise(conn, error),\n\u001b[1;32m   1263\u001b[0m     )\n\u001b[1;32m   1264\u001b[0m \u001b[38;5;28;01mfinally\u001b[39;00m:\n\u001b[1;32m   1265\u001b[0m     \u001b[38;5;28;01mif\u001b[39;00m \u001b[38;5;129;01mnot\u001b[39;00m \u001b[38;5;28mself\u001b[39m\u001b[38;5;241m.\u001b[39mconnection:\n",
      "File \u001b[0;32m~/anaconda3/envs/airflow/lib/python3.8/site-packages/redis/client.py:1234\u001b[0m, in \u001b[0;36mRedis._send_command_parse_response\u001b[0;34m(self, conn, command_name, *args, **options)\u001b[0m\n\u001b[1;32m   1230\u001b[0m \u001b[38;5;28;01mdef\u001b[39;00m \u001b[38;5;21m_send_command_parse_response\u001b[39m(\u001b[38;5;28mself\u001b[39m, conn, command_name, \u001b[38;5;241m*\u001b[39margs, \u001b[38;5;241m*\u001b[39m\u001b[38;5;241m*\u001b[39moptions):\n\u001b[1;32m   1231\u001b[0m     \u001b[38;5;124;03m\"\"\"\u001b[39;00m\n\u001b[1;32m   1232\u001b[0m \u001b[38;5;124;03m    Send a command and parse the response\u001b[39;00m\n\u001b[1;32m   1233\u001b[0m \u001b[38;5;124;03m    \"\"\"\u001b[39;00m\n\u001b[0;32m-> 1234\u001b[0m     \u001b[43mconn\u001b[49m\u001b[38;5;241;43m.\u001b[39;49m\u001b[43msend_command\u001b[49m\u001b[43m(\u001b[49m\u001b[38;5;241;43m*\u001b[39;49m\u001b[43margs\u001b[49m\u001b[43m)\u001b[49m\n\u001b[1;32m   1235\u001b[0m     \u001b[38;5;28;01mreturn\u001b[39;00m \u001b[38;5;28mself\u001b[39m\u001b[38;5;241m.\u001b[39mparse_response(conn, command_name, \u001b[38;5;241m*\u001b[39m\u001b[38;5;241m*\u001b[39moptions)\n",
      "File \u001b[0;32m~/anaconda3/envs/airflow/lib/python3.8/site-packages/redis/connection.py:788\u001b[0m, in \u001b[0;36mConnection.send_command\u001b[0;34m(self, *args, **kwargs)\u001b[0m\n\u001b[1;32m    785\u001b[0m \u001b[38;5;28;01mdef\u001b[39;00m \u001b[38;5;21msend_command\u001b[39m(\u001b[38;5;28mself\u001b[39m, \u001b[38;5;241m*\u001b[39margs, \u001b[38;5;241m*\u001b[39m\u001b[38;5;241m*\u001b[39mkwargs):\n\u001b[1;32m    786\u001b[0m     \u001b[38;5;124;03m\"\"\"Pack and send a command to the Redis server\"\"\"\u001b[39;00m\n\u001b[1;32m    787\u001b[0m     \u001b[38;5;28mself\u001b[39m\u001b[38;5;241m.\u001b[39msend_packed_command(\n\u001b[0;32m--> 788\u001b[0m         \u001b[38;5;28;43mself\u001b[39;49m\u001b[38;5;241;43m.\u001b[39;49m\u001b[43mpack_command\u001b[49m\u001b[43m(\u001b[49m\u001b[38;5;241;43m*\u001b[39;49m\u001b[43margs\u001b[49m\u001b[43m)\u001b[49m, check_health\u001b[38;5;241m=\u001b[39mkwargs\u001b[38;5;241m.\u001b[39mget(\u001b[38;5;124m\"\u001b[39m\u001b[38;5;124mcheck_health\u001b[39m\u001b[38;5;124m\"\u001b[39m, \u001b[38;5;28;01mTrue\u001b[39;00m)\n\u001b[1;32m    789\u001b[0m     )\n",
      "File \u001b[0;32m~/anaconda3/envs/airflow/lib/python3.8/site-packages/redis/connection.py:846\u001b[0m, in \u001b[0;36mConnection.pack_command\u001b[0;34m(self, *args)\u001b[0m\n\u001b[1;32m    843\u001b[0m buff \u001b[38;5;241m=\u001b[39m SYM_EMPTY\u001b[38;5;241m.\u001b[39mjoin((SYM_STAR, \u001b[38;5;28mstr\u001b[39m(\u001b[38;5;28mlen\u001b[39m(args))\u001b[38;5;241m.\u001b[39mencode(), SYM_CRLF))\n\u001b[1;32m    845\u001b[0m buffer_cutoff \u001b[38;5;241m=\u001b[39m \u001b[38;5;28mself\u001b[39m\u001b[38;5;241m.\u001b[39m_buffer_cutoff\n\u001b[0;32m--> 846\u001b[0m \u001b[38;5;28;01mfor\u001b[39;00m arg \u001b[38;5;129;01min\u001b[39;00m \u001b[38;5;28mmap\u001b[39m(\u001b[38;5;28mself\u001b[39m\u001b[38;5;241m.\u001b[39mencoder\u001b[38;5;241m.\u001b[39mencode, args):\n\u001b[1;32m    847\u001b[0m     \u001b[38;5;66;03m# to avoid large string mallocs, chunk the command into the\u001b[39;00m\n\u001b[1;32m    848\u001b[0m     \u001b[38;5;66;03m# output list if we're sending large values or memoryviews\u001b[39;00m\n\u001b[1;32m    849\u001b[0m     arg_length \u001b[38;5;241m=\u001b[39m \u001b[38;5;28mlen\u001b[39m(arg)\n\u001b[1;32m    850\u001b[0m     \u001b[38;5;28;01mif\u001b[39;00m (\n\u001b[1;32m    851\u001b[0m         \u001b[38;5;28mlen\u001b[39m(buff) \u001b[38;5;241m>\u001b[39m buffer_cutoff\n\u001b[1;32m    852\u001b[0m         \u001b[38;5;129;01mor\u001b[39;00m arg_length \u001b[38;5;241m>\u001b[39m buffer_cutoff\n\u001b[1;32m    853\u001b[0m         \u001b[38;5;129;01mor\u001b[39;00m \u001b[38;5;28misinstance\u001b[39m(arg, \u001b[38;5;28mmemoryview\u001b[39m)\n\u001b[1;32m    854\u001b[0m     ):\n",
      "File \u001b[0;32m~/anaconda3/envs/airflow/lib/python3.8/site-packages/redis/connection.py:107\u001b[0m, in \u001b[0;36mEncoder.encode\u001b[0;34m(self, value)\u001b[0m\n\u001b[1;32m    104\u001b[0m \u001b[38;5;28;01melif\u001b[39;00m \u001b[38;5;129;01mnot\u001b[39;00m \u001b[38;5;28misinstance\u001b[39m(value, \u001b[38;5;28mstr\u001b[39m):\n\u001b[1;32m    105\u001b[0m     \u001b[38;5;66;03m# a value we don't know how to deal with. throw an error\u001b[39;00m\n\u001b[1;32m    106\u001b[0m     typename \u001b[38;5;241m=\u001b[39m \u001b[38;5;28mtype\u001b[39m(value)\u001b[38;5;241m.\u001b[39m\u001b[38;5;18m__name__\u001b[39m\n\u001b[0;32m--> 107\u001b[0m     \u001b[38;5;28;01mraise\u001b[39;00m DataError(\n\u001b[1;32m    108\u001b[0m         \u001b[38;5;124mf\u001b[39m\u001b[38;5;124m\"\u001b[39m\u001b[38;5;124mInvalid input of type: \u001b[39m\u001b[38;5;124m'\u001b[39m\u001b[38;5;132;01m{\u001b[39;00mtypename\u001b[38;5;132;01m}\u001b[39;00m\u001b[38;5;124m'\u001b[39m\u001b[38;5;124m. \u001b[39m\u001b[38;5;124m\"\u001b[39m\n\u001b[1;32m    109\u001b[0m         \u001b[38;5;124mf\u001b[39m\u001b[38;5;124m\"\u001b[39m\u001b[38;5;124mConvert to a bytes, string, int or float first.\u001b[39m\u001b[38;5;124m\"\u001b[39m\n\u001b[1;32m    110\u001b[0m     )\n\u001b[1;32m    111\u001b[0m \u001b[38;5;28;01mif\u001b[39;00m \u001b[38;5;28misinstance\u001b[39m(value, \u001b[38;5;28mstr\u001b[39m):\n\u001b[1;32m    112\u001b[0m     value \u001b[38;5;241m=\u001b[39m value\u001b[38;5;241m.\u001b[39mencode(\u001b[38;5;28mself\u001b[39m\u001b[38;5;241m.\u001b[39mencoding, \u001b[38;5;28mself\u001b[39m\u001b[38;5;241m.\u001b[39mencoding_errors)\n",
      "\u001b[0;31mDataError\u001b[0m: Invalid input of type: 'NoneType'. Convert to a bytes, string, int or float first."
     ]
    }
   ],
   "source": [
    "print(run.process_working('reg'))"
   ]
  },
  {
   "cell_type": "code",
   "execution_count": 35,
   "id": "17759889-6b5b-4f63-9d9e-c525124d4d91",
   "metadata": {},
   "outputs": [
    {
     "data": {
      "text/plain": [
       "'http://plus.kipris.or.kr/openapi/rest/RegistrationService/registrationInfo?registrationNumber=1016988410000&accessKey=S5sUeUcewvE0=dLF=a9IKgK72zEAvD5bkiPciv4BIEU='"
      ]
     },
     "execution_count": 35,
     "metadata": {},
     "output_type": "execute_result"
    }
   ],
   "source": [
    "basic_url=\"http://plus.kipris.or.kr/openapi/rest/RegistrationService/\"\n",
    "taskId=\"registrationInfo\"\n",
    "reg_number='registrationNumber'\n",
    "number='1016988410000'\n",
    "api_key = \"Y74vSqogy7fkw71F26g146N4s9Harc7sLqm4ONkWHWE=\"\n",
    "api_key_2= \"S5sUeUcewvE0=dLF=a9IKgK72zEAvD5bkiPciv4BIEU=\"\n",
    "url =f'{basic_url}{taskId}?{reg_number}={number}&accessKey={api_key}'\n",
    "url\n",
    "url_2=f'{basic_url}{taskId}?{reg_number}={number}&accessKey={api_key_2}'\n",
    "url_2"
   ]
  },
  {
   "cell_type": "code",
   "execution_count": 36,
   "id": "8bd7fa83-d6f3-4860-b62f-4dd5a02d113c",
   "metadata": {},
   "outputs": [],
   "source": [
    "re=requests.get(url_2)"
   ]
  },
  {
   "cell_type": "code",
   "execution_count": 37,
   "id": "8c77dc17-7477-40bd-bdfb-99e4c6a8e27f",
   "metadata": {},
   "outputs": [
    {
     "data": {
      "text/plain": [
       "<Response [200]>"
      ]
     },
     "execution_count": 37,
     "metadata": {},
     "output_type": "execute_result"
    }
   ],
   "source": [
    "re"
   ]
  },
  {
   "cell_type": "code",
   "execution_count": 38,
   "id": "3e017f0b-e43d-4ab7-80e4-bb7b62671b4b",
   "metadata": {},
   "outputs": [],
   "source": [
    "content_xml=re.content"
   ]
  },
  {
   "cell_type": "code",
   "execution_count": 39,
   "id": "445cd360-652d-4f66-9fdf-435213a67b23",
   "metadata": {},
   "outputs": [],
   "source": [
    "xd=xmltodict.parse(content)"
   ]
  },
  {
   "cell_type": "code",
   "execution_count": 44,
   "id": "0d94e05a-e028-45da-81ea-bbdf18105b18",
   "metadata": {},
   "outputs": [],
   "source": [
    "content=xd['response']['body']['items']"
   ]
  },
  {
   "cell_type": "code",
   "execution_count": 49,
   "id": "b3a85a96-04fd-441d-b090-2ff96cd9dac2",
   "metadata": {},
   "outputs": [],
   "source": [
    "content_xml=re.content\n",
    "body=list(xmltodict.parse(content_xml)['response']['body'])[0]\n",
    "content=xmltodict.parse(content_xml)['response']['body'][f'{body}']\n",
    "detail_name=list(content)[0]\n",
    "content=content[detail_name]"
   ]
  },
  {
   "cell_type": "code",
   "execution_count": 54,
   "id": "2cd3912a-a443-4c5d-b5a2-7907563587f3",
   "metadata": {},
   "outputs": [
    {
     "data": {
      "text/plain": [
       "['registrationRightInfo',\n",
       " 'registrationRightHolderInfo',\n",
       " 'registrationRightRankInfo',\n",
       " 'registrationFeeInfo',\n",
       " 'registrationLastRightHolderInfo']"
      ]
     },
     "execution_count": 54,
     "metadata": {},
     "output_type": "execute_result"
    }
   ],
   "source": [
    "list(content.keys())"
   ]
  },
  {
   "cell_type": "code",
   "execution_count": 55,
   "id": "0a50d023-bd1e-4216-b317-bf6f81a1bc32",
   "metadata": {},
   "outputs": [
    {
     "data": {
      "text/plain": [
       "[{'registrationDate': '20170117',\n",
       "  'startAnnual': '1',\n",
       "  'lastAnnual': '3',\n",
       "  'paymentDegree': '1',\n",
       "  'paymentFee': '474000',\n",
       "  'paymentDate': '20170117'},\n",
       " {'registrationDate': '20200116',\n",
       "  'startAnnual': '4',\n",
       "  'lastAnnual': '4',\n",
       "  'paymentDegree': '1',\n",
       "  'paymentFee': '141000',\n",
       "  'paymentDate': '20200117'},\n",
       " {'registrationDate': '20210104',\n",
       "  'startAnnual': '5',\n",
       "  'lastAnnual': '5',\n",
       "  'paymentDegree': '1',\n",
       "  'paymentFee': '141000',\n",
       "  'paymentDate': '20210105'},\n",
       " {'registrationDate': '20220104',\n",
       "  'startAnnual': '6',\n",
       "  'lastAnnual': '6',\n",
       "  'paymentDegree': '1',\n",
       "  'paymentFee': '141000',\n",
       "  'paymentDate': '20220104'},\n",
       " {'registrationDate': '20221228',\n",
       "  'startAnnual': '7',\n",
       "  'lastAnnual': '7',\n",
       "  'paymentDegree': '1',\n",
       "  'paymentFee': '259000',\n",
       "  'paymentDate': '20221228'}]"
      ]
     },
     "execution_count": 55,
     "metadata": {},
     "output_type": "execute_result"
    }
   ],
   "source": [
    "content['registrationFeeInfo']"
   ]
  },
  {
   "cell_type": "code",
   "execution_count": 57,
   "id": "b0400f1b-c437-4182-a3a1-5e4cfbafab17",
   "metadata": {},
   "outputs": [
    {
     "data": {
      "text/plain": [
       "dict_keys(['registrationRightHolderInfoA', 'registrationRightHolderInfoB'])"
      ]
     },
     "execution_count": 57,
     "metadata": {},
     "output_type": "execute_result"
    }
   ],
   "source": [
    "content['registrationRightHolderInfo'].keys()"
   ]
  },
  {
   "cell_type": "code",
   "execution_count": 48,
   "id": "c7c4f9cd-155c-4d7f-b064-bcae2c95c6a5",
   "metadata": {},
   "outputs": [
    {
     "data": {
      "text/plain": [
       "{'registrationNumber': '1016988410000',\n",
       " 'regReferenceNumber': None,\n",
       " 'registrationDate': '20170117',\n",
       " 'assessmentDate': '20161125',\n",
       " 'expirationDate': '20350519',\n",
       " 'terminationCauseName': None,\n",
       " 'terminationDate': None,\n",
       " 'applicationNumber': '1020150069853',\n",
       " 'appReferenceNumber': None,\n",
       " 'applicationDate': '20150519',\n",
       " 'publicationNumber': None,\n",
       " 'publicationDate': '20170123',\n",
       " 'internationRegistrationNumber': None,\n",
       " 'internationRegistrationDate': None,\n",
       " 'originalApplicationNumber': None,\n",
       " 'originalApplicationDate': None,\n",
       " 'classCode': 'D06F 58/26',\n",
       " 'titleOfInvention': '건조 장치',\n",
       " 'titleOfInventionEng': 'Drying device',\n",
       " 'claimCount': '11',\n",
       " 'priorityCountry': None,\n",
       " 'priorityDate': None,\n",
       " 'priorityCount': '0'}"
      ]
     },
     "execution_count": 48,
     "metadata": {},
     "output_type": "execute_result"
    }
   ],
   "source": [
    "content['registrationInfo']['registrationRightInfo']"
   ]
  },
  {
   "cell_type": "code",
   "execution_count": 58,
   "id": "a8334432-c8cf-4876-86b7-d8de0f76038e",
   "metadata": {},
   "outputs": [
    {
     "data": {
      "text/plain": [
       "dict"
      ]
     },
     "execution_count": 58,
     "metadata": {},
     "output_type": "execute_result"
    }
   ],
   "source": [
    "type(content['registrationLastRightHolderInfo'])"
   ]
  },
  {
   "cell_type": "code",
   "execution_count": 61,
   "id": "e6285762-5a9a-4390-8dc7-2f38eea1d9ea",
   "metadata": {},
   "outputs": [],
   "source": [
    "if type(content['registrationLastRightHolderInfo']) is not list:\n",
    "            _last_info = list(content['registrationLastRightHolderInfo'].values())\n",
    "else:\n",
    "    _last_info= [list(data.values()) for data in content['registrationLastRightHolderInfo']]"
   ]
  },
  {
   "cell_type": "code",
   "execution_count": 102,
   "id": "156a7c23-48fc-45dc-bc57-1a08789248ac",
   "metadata": {},
   "outputs": [
    {
     "data": {
      "text/plain": [
       "['120040186134', '주식회사 코나솔', '충청남도 당진...', None]"
      ]
     },
     "execution_count": 102,
     "metadata": {},
     "output_type": "execute_result"
    }
   ],
   "source": [
    "_last_info"
   ]
  },
  {
   "cell_type": "code",
   "execution_count": 103,
   "id": "821c2d19-b1dd-4fc5-9c1c-5eaf7cf0fbb9",
   "metadata": {},
   "outputs": [],
   "source": [
    "target='reg_last'\n",
    "data=_last_info"
   ]
  },
  {
   "cell_type": "code",
   "execution_count": 142,
   "id": "a89265b7-cf1a-46bf-931c-52115e406643",
   "metadata": {},
   "outputs": [],
   "source": [
    "_many={}"
   ]
  },
  {
   "cell_type": "code",
   "execution_count": 81,
   "id": "a9a7d6e8-e15d-4e8a-a3bf-25746ffbc55e",
   "metadata": {},
   "outputs": [],
   "source": [
    "_many[target]=None"
   ]
  },
  {
   "cell_type": "code",
   "execution_count": 83,
   "id": "42fb3637-2930-4c26-a883-925b0b18adff",
   "metadata": {},
   "outputs": [],
   "source": [
    "_many[target]=_last_info"
   ]
  },
  {
   "cell_type": "code",
   "execution_count": 85,
   "id": "70caff28-ac97-4f4b-8c47-025f8cc65ff0",
   "metadata": {},
   "outputs": [
    {
     "data": {
      "text/plain": [
       "{'reg_last': ['120040186134', '주식회사 코나솔', '충청남도 당진...', None]}"
      ]
     },
     "execution_count": 85,
     "metadata": {},
     "output_type": "execute_result"
    }
   ],
   "source": [
    "_many"
   ]
  },
  {
   "cell_type": "code",
   "execution_count": 86,
   "id": "d1c66da3-b9dc-4145-bcfe-ecd412b49617",
   "metadata": {},
   "outputs": [
    {
     "data": {
      "text/plain": [
       "{'lastRightHolderNumber': '120040186134',\n",
       " 'lastRightHolderName': '주식회사 코나솔',\n",
       " 'lastRightHolderAddress': '충청남도 당진...',\n",
       " 'lastRightHolderCountry': None}"
      ]
     },
     "execution_count": 86,
     "metadata": {},
     "output_type": "execute_result"
    }
   ],
   "source": [
    "content['registrationLastRightHolderInfo']"
   ]
  },
  {
   "cell_type": "code",
   "execution_count": 94,
   "id": "77a1e8f8-e599-41ee-9d58-00f6218ed88d",
   "metadata": {},
   "outputs": [
    {
     "data": {
      "text/plain": [
       "['120040186134', '주식회사 코나솔', '충청남도 당진...', None]"
      ]
     },
     "execution_count": 94,
     "metadata": {},
     "output_type": "execute_result"
    }
   ],
   "source": [
    "list(content['registrationLastRightHolderInfo'].values())"
   ]
  },
  {
   "cell_type": "code",
   "execution_count": 105,
   "id": "2a286fd9-ef4d-49b1-beff-6243124f68a8",
   "metadata": {},
   "outputs": [],
   "source": [
    "if target not in _many.keys():\n",
    "    _many[target]=[data]"
   ]
  },
  {
   "cell_type": "code",
   "execution_count": 108,
   "id": "81db56a7-7e91-431f-ab9b-5ba4ac5ec090",
   "metadata": {},
   "outputs": [],
   "source": [
    "right_a=list(content['registrationRightHolderInfo']['registrationRightHolderInfoA'])"
   ]
  },
  {
   "cell_type": "code",
   "execution_count": 114,
   "id": "6023b554-70ac-492d-b7df-fdd7efd6f6a4",
   "metadata": {},
   "outputs": [
    {
     "data": {
      "text/plain": [
       "['1', '1', '권리자', '주식회사 코나솔', '충청남도 당진...']"
      ]
     },
     "execution_count": 114,
     "metadata": {},
     "output_type": "execute_result"
    }
   ],
   "source": [
    "list(content['registrationRightHolderInfo']['registrationRightHolderInfoA'].values())"
   ]
  },
  {
   "cell_type": "code",
   "execution_count": 139,
   "id": "dd6262a8-8f48-428c-ab2e-452a9b385de9",
   "metadata": {},
   "outputs": [],
   "source": [
    "target='reg_right_a'\n",
    "data=list(content['registrationRightHolderInfo']['registrationRightHolderInfoA'].values())"
   ]
  },
  {
   "cell_type": "code",
   "execution_count": 143,
   "id": "670bf9bd-cbba-493c-a4f2-83a0dd2eab75",
   "metadata": {},
   "outputs": [],
   "source": [
    "_many[target]=data"
   ]
  },
  {
   "cell_type": "code",
   "execution_count": 145,
   "id": "431af3f3-b783-425c-be9d-1c85bf3a29bb",
   "metadata": {},
   "outputs": [
    {
     "data": {
      "text/plain": [
       "5"
      ]
     },
     "execution_count": 145,
     "metadata": {},
     "output_type": "execute_result"
    }
   ],
   "source": [
    "len(_many[target])"
   ]
  },
  {
   "cell_type": "code",
   "execution_count": 146,
   "id": "b4cb8987-8506-443e-85c0-41ded76ce81b",
   "metadata": {},
   "outputs": [
    {
     "ename": "NameError",
     "evalue": "name 'self' is not defined",
     "output_type": "error",
     "traceback": [
      "\u001b[0;31m---------------------------------------------------------------------------\u001b[0m",
      "\u001b[0;31mNameError\u001b[0m                                 Traceback (most recent call last)",
      "Cell \u001b[0;32mIn[146], line 2\u001b[0m\n\u001b[1;32m      1\u001b[0m match_info \u001b[38;5;241m=\u001b[39m {\n\u001b[0;32m----> 2\u001b[0m             \u001b[38;5;124m'\u001b[39m\u001b[38;5;124mright_info\u001b[39m\u001b[38;5;124m'\u001b[39m: [\u001b[38;5;28;43mself\u001b[39;49m\u001b[38;5;241m.\u001b[39mrightholder_info, \u001b[38;5;28mself\u001b[39m\u001b[38;5;241m.\u001b[39mconn_data],\n\u001b[1;32m      3\u001b[0m             \u001b[38;5;124m'\u001b[39m\u001b[38;5;124mreg_fee\u001b[39m\u001b[38;5;124m'\u001b[39m: [\u001b[38;5;28mself\u001b[39m\u001b[38;5;241m.\u001b[39mregistrationFee_query, \u001b[38;5;28mself\u001b[39m\u001b[38;5;241m.\u001b[39mconn_data],\n\u001b[1;32m      4\u001b[0m             \u001b[38;5;124m'\u001b[39m\u001b[38;5;124mreg_rank\u001b[39m\u001b[38;5;124m'\u001b[39m: [\u001b[38;5;28mself\u001b[39m\u001b[38;5;241m.\u001b[39mrightRank_query, \u001b[38;5;28mself\u001b[39m\u001b[38;5;241m.\u001b[39mconn_data],\n\u001b[1;32m      5\u001b[0m             \u001b[38;5;124m'\u001b[39m\u001b[38;5;124mreg_right_a\u001b[39m\u001b[38;5;124m'\u001b[39m: [\u001b[38;5;28mself\u001b[39m\u001b[38;5;241m.\u001b[39mrightHolderA_query, \u001b[38;5;28mself\u001b[39m\u001b[38;5;241m.\u001b[39mconn_data],\n\u001b[1;32m      6\u001b[0m             \u001b[38;5;124m'\u001b[39m\u001b[38;5;124mreg_right_b\u001b[39m\u001b[38;5;124m'\u001b[39m: [\u001b[38;5;28mself\u001b[39m\u001b[38;5;241m.\u001b[39mrightHolderB_query, \u001b[38;5;28mself\u001b[39m\u001b[38;5;241m.\u001b[39mconn_data],\n\u001b[1;32m      7\u001b[0m             \u001b[38;5;124m'\u001b[39m\u001b[38;5;124mreg_last\u001b[39m\u001b[38;5;124m'\u001b[39m: [\u001b[38;5;28mself\u001b[39m\u001b[38;5;241m.\u001b[39mlastRightHolder_insert_query, \u001b[38;5;28mself\u001b[39m\u001b[38;5;241m.\u001b[39mconn_data],\n\u001b[1;32m      8\u001b[0m             \u001b[38;5;124m'\u001b[39m\u001b[38;5;124mreg_idc\u001b[39m\u001b[38;5;124m'\u001b[39m: [\u001b[38;5;28mself\u001b[39m\u001b[38;5;241m.\u001b[39mregistration_idc_query, \u001b[38;5;28mself\u001b[39m\u001b[38;5;241m.\u001b[39mconn_data_patent],\n\u001b[1;32m      9\u001b[0m         }\n",
      "\u001b[0;31mNameError\u001b[0m: name 'self' is not defined"
     ]
    }
   ],
   "source": [
    "match_info = {\n",
    "            'right_info': [self.rightholder_info, self.conn_data],\n",
    "            'reg_fee': [self.registrationFee_query, self.conn_data],\n",
    "            'reg_rank': [self.rightRank_query, self.conn_data],\n",
    "            'reg_right_a': [self.rightHolderA_query, self.conn_data],\n",
    "            'reg_right_b': [self.rightHolderB_query, self.conn_data],\n",
    "            'reg_last': [self.lastRightHolder_insert_query, self.conn_data],\n",
    "            'reg_idc': [self.registration_idc_query, self.conn_data_patent],\n",
    "        }"
   ]
  },
  {
   "cell_type": "code",
   "execution_count": null,
   "id": "04e7f8f1-ea70-4347-9ca8-9009962fbba9",
   "metadata": {},
   "outputs": [],
   "source": []
  }
 ],
 "metadata": {
  "kernelspec": {
   "display_name": "Python 3 (ipykernel)",
   "language": "python",
   "name": "python3"
  },
  "language_info": {
   "codemirror_mode": {
    "name": "ipython",
    "version": 3
   },
   "file_extension": ".py",
   "mimetype": "text/x-python",
   "name": "python",
   "nbconvert_exporter": "python",
   "pygments_lexer": "ipython3",
   "version": "3.8.15"
  }
 },
 "nbformat": 4,
 "nbformat_minor": 5
}

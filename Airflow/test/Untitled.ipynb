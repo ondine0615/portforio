{
 "cells": [
  {
   "cell_type": "code",
   "execution_count": null,
   "id": "abd64bd4-7cf9-4e50-af5c-28d7e24f2aa7",
   "metadata": {},
   "outputs": [],
   "source": [
    "#params = {\"searchType\":'BIB',\n",
    "#          \"transferDate\":\"2021002\",\n",
    "#          \"accessKey\":\"Y74vSqogy7fkw71F26g146N4s9Harc7sLqm4ONkWHWE=\"}"
   ]
  },
  {
   "cell_type": "code",
   "execution_count": 84,
   "id": "1aa6aad6-a86c-4633-a50b-28e55c20f01c",
   "metadata": {},
   "outputs": [],
   "source": [
    "import requests\n",
    "import xmltodict\n",
    "url=\"http://plus.kipris.or.kr/openapi/rest/RegistrationService/registrationTransferListInfo?transferDate=20220523&searchType=BIB&accessKey=Y74vSqogy7fkw71F26g146N4s9Harc7sLqm4ONkWHWE=\"\n",
    "\n",
    "re=requests.get(url=url)\n",
    "content = re.content\n",
    "\n",
    "xd = xmltodict.parse(content)\n",
    "\n",
    "response=xd['response']['body']['items']['registrationTransferListInfo']['transferList']"
   ]
  },
  {
   "cell_type": "code",
   "execution_count": 85,
   "id": "abd1ec1c-00ac-4495-9617-267f2b72dfcc",
   "metadata": {},
   "outputs": [
    {
     "data": {
      "text/plain": [
       "'1008240260000|1008346620000|4102209740000|4102209820000|4102209960000|4102209970000|4008897390000|2004658360000|3004318270000|4002256460000|4008896130000|4008896940000|4008896990000|4008897120000|4008897240000|4008897320000|3004317320000|4100030920000|4102210000000|4102210020000|4102210320000|4002255800000|4002255890000|4008896260000|4008896290000|4008896830000|4008896850000|4008897420000|4102209900000|4102210010000|4102210190000|1004314020000|1004640630000|1007616020000|1008950410000|2004683320000|4002255970000|4008896590000|4008896720000|4008897200000|4008897380000|4008897410000|1004239550000|1008421980000|1008832850000|4100151140000|4102209910000|4102209920000|4102209950000|4500369380000|2004658350000|2004679230000|3004317810000|1004164060000|1004203660000|1004585990000|1004853300000|4008896240000|4008896530000|4008896700000|4008896840000|4008896860000|4008896960000|4008897130000|4008897190000|1008551110000|1004276090000|1004306060000|1004458260000|1004753520000|1007682890000|4102209810000|4102209940000|4102210310000|3004318310000|4002256030000|4008896560000|4008896630000|4008897360000|4102209720000|4102210170000|4102210210000|4500369410000|3004317820000|4008896330000|4008896520000|4008896580000|4008896600000|4008897340000|4008897490000|4008897520000|1007995220000|4008896730000|4008897000000|4008897070000|3004318280000|4008896340000|4008896710000|4008897030000|4008897330000|4008897400000|4008896550000|4008896610000|4008896910000|4008896950000|4008896980000|4100030930000|4102209730000|4102209770000|4102209890000|4102209930000|4102210270000|1004427030000|1004553380000|1004585970000|4102210030000|4102210290000|1008338080000|1008548470000|4102209800000|2004687600000|2004709650000|1008985310000|4100030910000|2004633400000|3004317600000|4102209830000|4008896250000|4008896540000|4002256200000|'"
      ]
     },
     "execution_count": 85,
     "metadata": {},
     "output_type": "execute_result"
    }
   ],
   "source": [
    "response"
   ]
  },
  {
   "cell_type": "code",
   "execution_count": 90,
   "id": "8c292b4b-fa1d-4be9-addf-155e0e64c759",
   "metadata": {},
   "outputs": [],
   "source": [
    "numberList=[]\n",
    "pipe=response.split('|')    \n",
    "for p in pipe:\n",
    "    numberList.append(p)"
   ]
  },
  {
   "cell_type": "code",
   "execution_count": 93,
   "id": "da8c083d-6d05-421a-878a-ed5a3f924916",
   "metadata": {},
   "outputs": [],
   "source": [
    "reg_number=numberList[0]"
   ]
  },
  {
   "cell_type": "code",
   "execution_count": 97,
   "id": "ea280253-7d49-4851-ab35-9c5344e5bb6b",
   "metadata": {},
   "outputs": [
    {
     "data": {
      "text/plain": [
       "'1008240260000'"
      ]
     },
     "execution_count": 97,
     "metadata": {},
     "output_type": "execute_result"
    }
   ],
   "source": [
    "reg_number"
   ]
  },
  {
   "cell_type": "code",
   "execution_count": 95,
   "id": "526ed363-a7be-450d-a2ef-302f614dfcee",
   "metadata": {},
   "outputs": [],
   "source": [
    "url2=f'http://plus.kipris.or.kr/openapi/rest/RegistrationService/registrationInfo?registrationNumber={reg_number}&accessKey=Y74vSqogy7fkw71F26g146N4s9Harc7sLqm4ONkWHWE='"
   ]
  },
  {
   "cell_type": "code",
   "execution_count": 96,
   "id": "6eefa0f8-c6ec-4a6f-943a-8f1f0363aa81",
   "metadata": {},
   "outputs": [
    {
     "data": {
      "text/plain": [
       "'http://plus.kipris.or.kr/openapi/rest/RegistrationService/registrationInfo?registrationNumber=1008240260000&accessKey=Y74vSqogy7fkw71F26g146N4s9Harc7sLqm4ONkWHWE='"
      ]
     },
     "execution_count": 96,
     "metadata": {},
     "output_type": "execute_result"
    }
   ],
   "source": [
    "url2"
   ]
  },
  {
   "cell_type": "code",
   "execution_count": 98,
   "id": "2676a0c1-fae9-42d3-bfe5-aed8de0c5eef",
   "metadata": {},
   "outputs": [],
   "source": [
    "re2=requests.get(url=url2)\n",
    "con2=re2.content\n",
    "\n",
    "con2=xmltodict.parse(con2)"
   ]
  },
  {
   "cell_type": "code",
   "execution_count": 107,
   "id": "ccaa6c68-85c3-4d5c-8006-b92c7a77d131",
   "metadata": {},
   "outputs": [
    {
     "name": "stdout",
     "output_type": "stream",
     "text": [
      "registrationNumber 1008240260000\n",
      "regReferenceNumber None\n",
      "registrationDate 20080415\n",
      "assessmentDate 20080116\n",
      "expirationDate 20211121\n",
      "terminationCauseName 존속기간만료\n",
      "terminationDate 20211122\n",
      "applicationNumber 1020037006957\n",
      "appReferenceNumber None\n",
      "applicationDate 20030523\n",
      "publicationNumber None\n",
      "publicationDate 20080421\n",
      "internationRegistrationNumber None\n",
      "internationRegistrationDate None\n",
      "originalApplicationNumber None\n",
      "originalApplicationDate None\n",
      "classCode H01L 29/78\n",
      "titleOfInvention 전계 효과 트랜지스터 및 전계 효과 물질 및 이들의 제조방법\n",
      "titleOfInventionEng Field effect transistors and materials and methods fortheir manufacture\n",
      "claimCount 6\n",
      "priorityCountry GB\n",
      "priorityDate 20001128\n",
      "priorityCount 1\n"
     ]
    }
   ],
   "source": [
    "item=con2['response']['body']['items']['registrationInfo']['registrationRightInfo']\n",
    "\n",
    "for key,value in item.items():\n",
    "    print(key,value)"
   ]
  },
  {
   "cell_type": "code",
   "execution_count": 100,
   "id": "0b7991f6-de0b-48bc-a1e3-65da34c315bd",
   "metadata": {},
   "outputs": [
    {
     "ename": "KeyError",
     "evalue": "'registrationTransferListInfo'",
     "output_type": "error",
     "traceback": [
      "\u001b[0;31m---------------------------------------------------------------------------\u001b[0m",
      "\u001b[0;31mKeyError\u001b[0m                                  Traceback (most recent call last)",
      "Cell \u001b[0;32mIn [100], line 1\u001b[0m\n\u001b[0;32m----> 1\u001b[0m \u001b[43mcon2\u001b[49m\u001b[43m[\u001b[49m\u001b[38;5;124;43m'\u001b[39;49m\u001b[38;5;124;43mresponse\u001b[39;49m\u001b[38;5;124;43m'\u001b[39;49m\u001b[43m]\u001b[49m\u001b[43m[\u001b[49m\u001b[38;5;124;43m'\u001b[39;49m\u001b[38;5;124;43mbody\u001b[39;49m\u001b[38;5;124;43m'\u001b[39;49m\u001b[43m]\u001b[49m\u001b[43m[\u001b[49m\u001b[38;5;124;43m'\u001b[39;49m\u001b[38;5;124;43mitems\u001b[39;49m\u001b[38;5;124;43m'\u001b[39;49m\u001b[43m]\u001b[49m\u001b[43m[\u001b[49m\u001b[38;5;124;43m'\u001b[39;49m\u001b[38;5;124;43mregistrationTransferListInfo\u001b[39;49m\u001b[38;5;124;43m'\u001b[39;49m\u001b[43m]\u001b[49m[\u001b[38;5;124m'\u001b[39m\u001b[38;5;124mtransferList\u001b[39m\u001b[38;5;124m'\u001b[39m]\n",
      "\u001b[0;31mKeyError\u001b[0m: 'registrationTransferListInfo'"
     ]
    }
   ],
   "source": [
    "con2['response']['body']['items']['registrationTransferListInfo']['transferList']"
   ]
  },
  {
   "cell_type": "code",
   "execution_count": null,
   "id": "88e3c03c-ee3b-4b40-83df-581ffc78bebc",
   "metadata": {},
   "outputs": [],
   "source": []
  }
 ],
 "metadata": {
  "kernelspec": {
   "display_name": "Python 3 (ipykernel)",
   "language": "python",
   "name": "python3"
  },
  "language_info": {
   "codemirror_mode": {
    "name": "ipython",
    "version": 3
   },
   "file_extension": ".py",
   "mimetype": "text/x-python",
   "name": "python",
   "nbconvert_exporter": "python",
   "pygments_lexer": "ipython3",
   "version": "3.8.15"
  }
 },
 "nbformat": 4,
 "nbformat_minor": 5
}

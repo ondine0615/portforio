{
 "cells": [
  {
   "cell_type": "code",
   "execution_count": 141,
   "id": "c87440a7-4125-4b67-9402-69313e4542b0",
   "metadata": {},
   "outputs": [],
   "source": [
    "from kafka import KafkaProducer\n",
    "import requests\n",
    "from bs4 import BeautifulSoup as bs\n",
    "import re\n",
    "from time import sleep\n",
    "import redis \n",
    "from selenium import webdriver\n",
    "import chromedriver_autoinstaller\n",
    "import os\n",
    "\n",
    "rd=redis.StrictRedis(host='127.0.0.1',port=6379,db=2)\n",
    "url=\"http://cafe.naver.com/ArticleList.nhn?search.clubid=10050146&search.menuid=334&search.boardtype=L\"\n",
    "my_arr=[]\n",
    "recentSubject=\"\"\n",
    "is_first=True\n",
    "target=[\"삼성\",\"엘지\",\"레노버\",\"델\",\"한성\",\"애플\"]\n",
    "excepts=[\"삽니다\",\"매입\",\"구매\",\"구입\"]\n",
    "TOPIC_NAME=\"test\"\n",
    "\n",
    "\n",
    "def get_table_number(target_page):\n",
    "    with requests.Session() as s:\n",
    "        res=s.get(target_page)\n",
    "        if res.status_code==requests.codes.ok:\n",
    "            par_soup=bs(res.text, 'html.parser')\n",
    "            number=par_soup.select_one(\"#main-area > div:nth-child(4) > table > tbody > tr:nth-child(1) > td.td_article > div.board-number > div\").text\n",
    "            return number\n",
    "        else:\n",
    "            print(\"HTTP GET error!!\")\n",
    "\n",
    "def clean_text(text):\n",
    "    #cleaned_text = re.sub('[a-zA-Z]','',text)\n",
    "    cleaned_text = re.sub('[\\{\\}\\[\\]\\/?.,;:|\\)*~`!^\\-_+<>@\\#$%&\\\\\\=\\(\\'\\\"]', '', text)\n",
    "    return cleaned_text\n",
    "\n",
    "def brand_sorting(text):\n",
    "    target_brand=''\n",
    "    if '애플' in text or \"맥\" in text or \"맥북\" in text:\n",
    "        target_brand='애플'\n",
    "    elif '삼성' in text or '갤럭시' in text:\n",
    "        target_brand='삼성'\n",
    "    elif '엘지' in text or 'LG' in text:\n",
    "        target_brand='엘지'\n",
    "    elif '아수스' in text or \"에이수스\" in text or \"ASUS\" in text or \"asus\" in text:\n",
    "        target_brand='아수스'\n",
    "    elif '레노버' in text or 'lenovo' in text or 'LENOVO':\n",
    "        target_brand='레노버'\n",
    "    elif 'dell' in text or '델' in text or \"DELL\" in text:\n",
    "        target_brand='DELL'\n",
    "    elif '한성' in text:\n",
    "        target_brand='한성'\n",
    "    else:\n",
    "        target_brand='기타 브랜드'\n",
    "    return target_brand  \n"
   ]
  },
  {
   "cell_type": "code",
   "execution_count": 108,
   "id": "9b9ebb27-b263-460f-8aa4-19ad13648dbc",
   "metadata": {},
   "outputs": [
    {
     "data": {
      "text/plain": [
       "'957407005'"
      ]
     },
     "execution_count": 108,
     "metadata": {},
     "output_type": "execute_result"
    }
   ],
   "source": [
    "get_table_number(url)"
   ]
  },
  {
   "cell_type": "code",
   "execution_count": 44,
   "id": "e5a3e875-3ec9-41ac-b486-58882b6e99c5",
   "metadata": {},
   "outputs": [],
   "source": [
    "brands=[\"애플\",\"삼성\",\"에이수스\",\"아수스\",\"asus\",\"레노버\",\"lenovo\",\"한성\",\"dell\",'델']"
   ]
  },
  {
   "cell_type": "code",
   "execution_count": 79,
   "id": "ea50ba38-2440-4493-a2f9-50f62b58e7da",
   "metadata": {
    "tags": []
   },
   "outputs": [],
   "source": [
    "#while True:\n",
    "with requests.Session() as s:\n",
    "    res=s.get(url)\n",
    "    if res.status_code==requests.codes.ok:\n",
    "        par_soup=bs(res.text, 'html.parser')\n",
    "        tr_arr=par_soup.select_one(\"#main-area > div:nth-child(4) > table > tbody > tr\")\n",
    "        a_tag=tr_arr.select_one('td.td_article > div.board-list > div > a')\n",
    "        map = {\n",
    "        \"title\":a_tag.text.strip(),\n",
    "        \"url\":'https://cafe.naver.com' + a_tag[\"href\"],\n",
    "        #\"brand\": brand_sorting(a_tag.text.strip())\n",
    "        }"
   ]
  },
  {
   "cell_type": "code",
   "execution_count": 126,
   "id": "b0b5e07c-9402-44ba-8107-cae9ae1c3413",
   "metadata": {},
   "outputs": [
    {
     "data": {
      "text/plain": [
       "'/home/ondine0615/workplace/portforio/kafka/when_I_need_chanel_handbags/test'"
      ]
     },
     "execution_count": 126,
     "metadata": {},
     "output_type": "execute_result"
    }
   ],
   "source": [
    "pwd"
   ]
  },
  {
   "cell_type": "code",
   "execution_count": 132,
   "id": "9e1a2f1c-3d32-404c-ad40-ccf2cb4c2654",
   "metadata": {},
   "outputs": [
    {
     "name": "stdout",
     "output_type": "stream",
     "text": [
      "Collecting pyvirtualdisplay\n",
      "  Using cached PyVirtualDisplay-3.0-py3-none-any.whl (15 kB)\n",
      "Installing collected packages: pyvirtualdisplay\n",
      "Successfully installed pyvirtualdisplay-3.0\n"
     ]
    }
   ],
   "source": [
    "!pip install pyvirtualdisplay "
   ]
  },
  {
   "cell_type": "code",
   "execution_count": 135,
   "id": "8f39da5b-e41c-4cd2-8aaa-2092a8a96f7d",
   "metadata": {},
   "outputs": [
    {
     "name": "stdout",
     "output_type": "stream",
     "text": [
      "Collecting xlrd\n",
      "  Downloading xlrd-2.0.1-py2.py3-none-any.whl (96 kB)\n",
      "\u001b[2K     \u001b[90m━━━━━━━━━━━━━━━━━━━━━━━━━━━━━━━━━━━━━━━━\u001b[0m \u001b[32m96.5/96.5 kB\u001b[0m \u001b[31m10.2 MB/s\u001b[0m eta \u001b[36m0:00:00\u001b[0m\n",
      "\u001b[?25hInstalling collected packages: xlrd\n",
      "Successfully installed xlrd-2.0.1\n"
     ]
    }
   ],
   "source": [
    "!pip install xlrd"
   ]
  },
  {
   "cell_type": "code",
   "execution_count": 137,
   "id": "ed9fb8b0-e81d-4603-8851-7ace7cbd39c9",
   "metadata": {},
   "outputs": [
    {
     "name": "stdout",
     "output_type": "stream",
     "text": [
      "\u001b[31mERROR: Could not find a version that satisfies the requirement Xvfb (from versions: none)\u001b[0m\u001b[31m\n",
      "\u001b[0m\u001b[31mERROR: No matching distribution found for Xvfb\u001b[0m\u001b[31m\n",
      "\u001b[0m"
     ]
    }
   ],
   "source": [
    "!pip install Xvfb"
   ]
  },
  {
   "cell_type": "code",
   "execution_count": 139,
   "id": "41db1244-29a1-4706-ad2f-450a9e0f7b3f",
   "metadata": {},
   "outputs": [
    {
     "name": "stdout",
     "output_type": "stream",
     "text": [
      "Collecting xvfbwrapper\n",
      "  Downloading xvfbwrapper-0.2.9.tar.gz (5.6 kB)\n",
      "  Preparing metadata (setup.py) ... \u001b[?25ldone\n",
      "\u001b[?25hBuilding wheels for collected packages: xvfbwrapper\n",
      "  Building wheel for xvfbwrapper (setup.py) ... \u001b[?25ldone\n",
      "\u001b[?25h  Created wheel for xvfbwrapper: filename=xvfbwrapper-0.2.9-py3-none-any.whl size=5009 sha256=3611a4eece5392e134a0976e9b045e8eb16a83f0cce52b16c3491a41b052078c\n",
      "  Stored in directory: /home/ondine0615/.cache/pip/wheels/e1/da/b4/57ac130c024104997ae76f389fe0e7e43922ec3cfdffaf1b1e\n",
      "Successfully built xvfbwrapper\n",
      "Installing collected packages: xvfbwrapper\n",
      "Successfully installed xvfbwrapper-0.2.9\n",
      "Note: you may need to restart the kernel to use updated packages.\n"
     ]
    }
   ],
   "source": [
    "pip install xvfbwrapper"
   ]
  },
  {
   "cell_type": "code",
   "execution_count": 147,
   "id": "79ee5a39-ff6f-4397-a692-fb86718e8d9a",
   "metadata": {},
   "outputs": [
    {
     "data": {
      "text/plain": [
       "'108'"
      ]
     },
     "execution_count": 147,
     "metadata": {},
     "output_type": "execute_result"
    }
   ],
   "source": [
    "from selenium import webdriver\n",
    "import chromedriver_autoinstaller\n",
    "import os\n",
    "\n",
    "# Check if chrome driver is installed or not\n",
    "chrome_ver = chromedriver_autoinstaller.get_chrome_version().split('.')[0]\n",
    "chrome_ver"
   ]
  },
  {
   "cell_type": "code",
   "execution_count": 179,
   "id": "462b5c71-4a0c-45f8-bf23-89e7a7233153",
   "metadata": {},
   "outputs": [
    {
     "name": "stdout",
     "output_type": "stream",
     "text": [
      "install the chrome driver(ver: 108)\n"
     ]
    },
    {
     "name": "stderr",
     "output_type": "stream",
     "text": [
      "/tmp/ipykernel_2668/1410878988.py:17: DeprecationWarning: executable_path has been deprecated, please pass in a Service object\n",
      "  driver = webdriver.Chrome(driver_path)\n",
      "/home/ondine0615/anaconda3/envs/hyunJ/lib/python3.8/site-packages/selenium/webdriver/common/linux/selenium-manager: error while loading shared libraries: libssl.so.1.1: cannot open shared object file: No such file or directory\n"
     ]
    },
    {
     "ename": "WebDriverException",
     "evalue": "Message: 'chromedriver.exe' executable needs to be in PATH. Please see https://chromedriver.chromium.org/home\n",
     "output_type": "error",
     "traceback": [
      "\u001b[0;31m---------------------------------------------------------------------------\u001b[0m",
      "\u001b[0;31mWebDriverException\u001b[0m                        Traceback (most recent call last)",
      "File \u001b[0;32m~/anaconda3/envs/hyunJ/lib/python3.8/site-packages/selenium/webdriver/common/service.py:96\u001b[0m, in \u001b[0;36mService.start\u001b[0;34m(self)\u001b[0m\n\u001b[1;32m     95\u001b[0m \u001b[38;5;28;01mtry\u001b[39;00m:\n\u001b[0;32m---> 96\u001b[0m     path \u001b[38;5;241m=\u001b[39m \u001b[43mSeleniumManager\u001b[49m\u001b[38;5;241;43m.\u001b[39;49m\u001b[43mdriver_location\u001b[49m\u001b[43m(\u001b[49m\u001b[43mbrowser\u001b[49m\u001b[43m)\u001b[49m\n\u001b[1;32m     97\u001b[0m \u001b[38;5;28;01mexcept\u001b[39;00m WebDriverException \u001b[38;5;28;01mas\u001b[39;00m new_err:\n",
      "File \u001b[0;32m~/anaconda3/envs/hyunJ/lib/python3.8/site-packages/selenium/webdriver/common/selenium_manager.py:68\u001b[0m, in \u001b[0;36mSeleniumManager.driver_location\u001b[0;34m(browser)\u001b[0m\n\u001b[1;32m     67\u001b[0m args \u001b[38;5;241m=\u001b[39m (\u001b[38;5;28mstr\u001b[39m(SeleniumManager\u001b[38;5;241m.\u001b[39mget_binary()), \u001b[38;5;124m\"\u001b[39m\u001b[38;5;124m--browser\u001b[39m\u001b[38;5;124m\"\u001b[39m, browser)\n\u001b[0;32m---> 68\u001b[0m result \u001b[38;5;241m=\u001b[39m \u001b[43mSeleniumManager\u001b[49m\u001b[38;5;241;43m.\u001b[39;49m\u001b[43mrun\u001b[49m\u001b[43m(\u001b[49m\u001b[43margs\u001b[49m\u001b[43m)\u001b[49m\n\u001b[1;32m     69\u001b[0m command \u001b[38;5;241m=\u001b[39m result\u001b[38;5;241m.\u001b[39msplit(\u001b[38;5;124m\"\u001b[39m\u001b[38;5;130;01m\\t\u001b[39;00m\u001b[38;5;124m\"\u001b[39m)[\u001b[38;5;241m-\u001b[39m\u001b[38;5;241m1\u001b[39m]\u001b[38;5;241m.\u001b[39mstrip()\n",
      "File \u001b[0;32m~/anaconda3/envs/hyunJ/lib/python3.8/site-packages/selenium/webdriver/common/selenium_manager.py:85\u001b[0m, in \u001b[0;36mSeleniumManager.run\u001b[0;34m(args)\u001b[0m\n\u001b[1;32m     84\u001b[0m \u001b[38;5;28;01mif\u001b[39;00m \u001b[38;5;129;01mnot\u001b[39;00m re\u001b[38;5;241m.\u001b[39mmatch(\u001b[38;5;124m\"\u001b[39m\u001b[38;5;124m^INFO\u001b[39m\u001b[38;5;130;01m\\t\u001b[39;00m\u001b[38;5;124m\"\u001b[39m, result):\n\u001b[0;32m---> 85\u001b[0m     \u001b[38;5;28;01mraise\u001b[39;00m WebDriverException(\u001b[38;5;124mf\u001b[39m\u001b[38;5;124m\"\u001b[39m\u001b[38;5;124mUnsuccessful command executed: \u001b[39m\u001b[38;5;132;01m{\u001b[39;00margs\u001b[38;5;132;01m}\u001b[39;00m\u001b[38;5;124m\"\u001b[39m)\n\u001b[1;32m     87\u001b[0m \u001b[38;5;28;01mreturn\u001b[39;00m result\n",
      "\u001b[0;31mWebDriverException\u001b[0m: Message: Unsuccessful command executed: ('/home/ondine0615/anaconda3/envs/hyunJ/lib/python3.8/site-packages/selenium/webdriver/common/linux/selenium-manager', '--browser', 'chrome')\n",
      "\nDuring handling of the above exception, another exception occurred:\n",
      "\u001b[0;31mWebDriverException\u001b[0m                        Traceback (most recent call last)",
      "Cell \u001b[0;32mIn [179], line 17\u001b[0m\n\u001b[1;32m     14\u001b[0m     chromedriver_autoinstaller\u001b[38;5;241m.\u001b[39minstall(\u001b[38;5;28;01mTrue\u001b[39;00m)\n\u001b[1;32m     16\u001b[0m \u001b[38;5;66;03m# Get driver and open url\u001b[39;00m\n\u001b[0;32m---> 17\u001b[0m driver \u001b[38;5;241m=\u001b[39m \u001b[43mwebdriver\u001b[49m\u001b[38;5;241;43m.\u001b[39;49m\u001b[43mChrome\u001b[49m\u001b[43m(\u001b[49m\u001b[43mdriver_path\u001b[49m\u001b[43m)\u001b[49m\n\u001b[1;32m     18\u001b[0m driver\u001b[38;5;241m.\u001b[39mget(\u001b[38;5;124m\"\u001b[39m\u001b[38;5;124mhttps://google.com\u001b[39m\u001b[38;5;124m\"\u001b[39m)\n",
      "File \u001b[0;32m~/anaconda3/envs/hyunJ/lib/python3.8/site-packages/selenium/webdriver/chrome/webdriver.py:81\u001b[0m, in \u001b[0;36mWebDriver.__init__\u001b[0;34m(self, executable_path, port, options, service_args, desired_capabilities, service_log_path, chrome_options, service, keep_alive)\u001b[0m\n\u001b[1;32m     78\u001b[0m \u001b[38;5;28;01mif\u001b[39;00m \u001b[38;5;129;01mnot\u001b[39;00m service:\n\u001b[1;32m     79\u001b[0m     service \u001b[38;5;241m=\u001b[39m Service(executable_path, port, service_args, service_log_path)\n\u001b[0;32m---> 81\u001b[0m \u001b[38;5;28;43msuper\u001b[39;49m\u001b[43m(\u001b[49m\u001b[43m)\u001b[49m\u001b[38;5;241;43m.\u001b[39;49m\u001b[38;5;21;43m__init__\u001b[39;49m\u001b[43m(\u001b[49m\n\u001b[1;32m     82\u001b[0m \u001b[43m    \u001b[49m\u001b[43mDesiredCapabilities\u001b[49m\u001b[38;5;241;43m.\u001b[39;49m\u001b[43mCHROME\u001b[49m\u001b[43m[\u001b[49m\u001b[38;5;124;43m\"\u001b[39;49m\u001b[38;5;124;43mbrowserName\u001b[39;49m\u001b[38;5;124;43m\"\u001b[39;49m\u001b[43m]\u001b[49m\u001b[43m,\u001b[49m\n\u001b[1;32m     83\u001b[0m \u001b[43m    \u001b[49m\u001b[38;5;124;43m\"\u001b[39;49m\u001b[38;5;124;43mgoog\u001b[39;49m\u001b[38;5;124;43m\"\u001b[39;49m\u001b[43m,\u001b[49m\n\u001b[1;32m     84\u001b[0m \u001b[43m    \u001b[49m\u001b[43mport\u001b[49m\u001b[43m,\u001b[49m\n\u001b[1;32m     85\u001b[0m \u001b[43m    \u001b[49m\u001b[43moptions\u001b[49m\u001b[43m,\u001b[49m\n\u001b[1;32m     86\u001b[0m \u001b[43m    \u001b[49m\u001b[43mservice_args\u001b[49m\u001b[43m,\u001b[49m\n\u001b[1;32m     87\u001b[0m \u001b[43m    \u001b[49m\u001b[43mdesired_capabilities\u001b[49m\u001b[43m,\u001b[49m\n\u001b[1;32m     88\u001b[0m \u001b[43m    \u001b[49m\u001b[43mservice_log_path\u001b[49m\u001b[43m,\u001b[49m\n\u001b[1;32m     89\u001b[0m \u001b[43m    \u001b[49m\u001b[43mservice\u001b[49m\u001b[43m,\u001b[49m\n\u001b[1;32m     90\u001b[0m \u001b[43m    \u001b[49m\u001b[43mkeep_alive\u001b[49m\u001b[43m,\u001b[49m\n\u001b[1;32m     91\u001b[0m \u001b[43m\u001b[49m\u001b[43m)\u001b[49m\n",
      "File \u001b[0;32m~/anaconda3/envs/hyunJ/lib/python3.8/site-packages/selenium/webdriver/chromium/webdriver.py:103\u001b[0m, in \u001b[0;36mChromiumDriver.__init__\u001b[0;34m(self, browser_name, vendor_prefix, port, options, service_args, desired_capabilities, service_log_path, service, keep_alive)\u001b[0m\n\u001b[1;32m    100\u001b[0m     \u001b[38;5;28;01mraise\u001b[39;00m \u001b[38;5;167;01mAttributeError\u001b[39;00m(\u001b[38;5;124m\"\u001b[39m\u001b[38;5;124mservice cannot be None\u001b[39m\u001b[38;5;124m\"\u001b[39m)\n\u001b[1;32m    102\u001b[0m \u001b[38;5;28mself\u001b[39m\u001b[38;5;241m.\u001b[39mservice \u001b[38;5;241m=\u001b[39m service\n\u001b[0;32m--> 103\u001b[0m \u001b[38;5;28;43mself\u001b[39;49m\u001b[38;5;241;43m.\u001b[39;49m\u001b[43mservice\u001b[49m\u001b[38;5;241;43m.\u001b[39;49m\u001b[43mstart\u001b[49m\u001b[43m(\u001b[49m\u001b[43m)\u001b[49m\n\u001b[1;32m    105\u001b[0m \u001b[38;5;28;01mtry\u001b[39;00m:\n\u001b[1;32m    106\u001b[0m     \u001b[38;5;28msuper\u001b[39m()\u001b[38;5;241m.\u001b[39m\u001b[38;5;21m__init__\u001b[39m(\n\u001b[1;32m    107\u001b[0m         command_executor\u001b[38;5;241m=\u001b[39mChromiumRemoteConnection(\n\u001b[1;32m    108\u001b[0m             remote_server_addr\u001b[38;5;241m=\u001b[39m\u001b[38;5;28mself\u001b[39m\u001b[38;5;241m.\u001b[39mservice\u001b[38;5;241m.\u001b[39mservice_url,\n\u001b[0;32m   (...)\u001b[0m\n\u001b[1;32m    114\u001b[0m         options\u001b[38;5;241m=\u001b[39moptions,\n\u001b[1;32m    115\u001b[0m     )\n",
      "File \u001b[0;32m~/anaconda3/envs/hyunJ/lib/python3.8/site-packages/selenium/webdriver/common/service.py:99\u001b[0m, in \u001b[0;36mService.start\u001b[0;34m(self)\u001b[0m\n\u001b[1;32m     97\u001b[0m         \u001b[38;5;28;01mexcept\u001b[39;00m WebDriverException \u001b[38;5;28;01mas\u001b[39;00m new_err:\n\u001b[1;32m     98\u001b[0m             logger\u001b[38;5;241m.\u001b[39mdebug(\u001b[38;5;124m\"\u001b[39m\u001b[38;5;124mUnable to obtain driver using Selenium Manager: \u001b[39m\u001b[38;5;124m\"\u001b[39m \u001b[38;5;241m+\u001b[39m new_err\u001b[38;5;241m.\u001b[39mmsg)\n\u001b[0;32m---> 99\u001b[0m             \u001b[38;5;28;01mraise\u001b[39;00m err\n\u001b[1;32m    101\u001b[0m         \u001b[38;5;28mself\u001b[39m\u001b[38;5;241m.\u001b[39m_start_process(path)\n\u001b[1;32m    103\u001b[0m count \u001b[38;5;241m=\u001b[39m \u001b[38;5;241m0\u001b[39m\n",
      "File \u001b[0;32m~/anaconda3/envs/hyunJ/lib/python3.8/site-packages/selenium/webdriver/common/service.py:90\u001b[0m, in \u001b[0;36mService.start\u001b[0;34m(self)\u001b[0m\n\u001b[1;32m     82\u001b[0m \u001b[38;5;124;03m\"\"\"\u001b[39;00m\n\u001b[1;32m     83\u001b[0m \u001b[38;5;124;03mStarts the Service.\u001b[39;00m\n\u001b[1;32m     84\u001b[0m \n\u001b[0;32m   (...)\u001b[0m\n\u001b[1;32m     87\u001b[0m \u001b[38;5;124;03m   or when it can't connect to the service\u001b[39;00m\n\u001b[1;32m     88\u001b[0m \u001b[38;5;124;03m\"\"\"\u001b[39;00m\n\u001b[1;32m     89\u001b[0m \u001b[38;5;28;01mtry\u001b[39;00m:\n\u001b[0;32m---> 90\u001b[0m     \u001b[38;5;28;43mself\u001b[39;49m\u001b[38;5;241;43m.\u001b[39;49m\u001b[43m_start_process\u001b[49m\u001b[43m(\u001b[49m\u001b[38;5;28;43mself\u001b[39;49m\u001b[38;5;241;43m.\u001b[39;49m\u001b[43mpath\u001b[49m\u001b[43m)\u001b[49m\n\u001b[1;32m     91\u001b[0m \u001b[38;5;28;01mexcept\u001b[39;00m WebDriverException \u001b[38;5;28;01mas\u001b[39;00m err:\n\u001b[1;32m     92\u001b[0m     \u001b[38;5;28;01mif\u001b[39;00m \u001b[38;5;124m\"\u001b[39m\u001b[38;5;124mexecutable needs to be in PATH\u001b[39m\u001b[38;5;124m\"\u001b[39m \u001b[38;5;129;01min\u001b[39;00m err\u001b[38;5;241m.\u001b[39mmsg:\n",
      "File \u001b[0;32m~/anaconda3/envs/hyunJ/lib/python3.8/site-packages/selenium/webdriver/common/service.py:212\u001b[0m, in \u001b[0;36mService._start_process\u001b[0;34m(self, path)\u001b[0m\n\u001b[1;32m    210\u001b[0m \u001b[38;5;28;01mexcept\u001b[39;00m \u001b[38;5;167;01mOSError\u001b[39;00m \u001b[38;5;28;01mas\u001b[39;00m err:\n\u001b[1;32m    211\u001b[0m     \u001b[38;5;28;01mif\u001b[39;00m err\u001b[38;5;241m.\u001b[39merrno \u001b[38;5;241m==\u001b[39m errno\u001b[38;5;241m.\u001b[39mENOENT:\n\u001b[0;32m--> 212\u001b[0m         \u001b[38;5;28;01mraise\u001b[39;00m WebDriverException(\n\u001b[1;32m    213\u001b[0m             \u001b[38;5;124mf\u001b[39m\u001b[38;5;124m\"\u001b[39m\u001b[38;5;124m'\u001b[39m\u001b[38;5;132;01m{\u001b[39;00mos\u001b[38;5;241m.\u001b[39mpath\u001b[38;5;241m.\u001b[39mbasename(\u001b[38;5;28mself\u001b[39m\u001b[38;5;241m.\u001b[39mpath)\u001b[38;5;132;01m}\u001b[39;00m\u001b[38;5;124m'\u001b[39m\u001b[38;5;124m executable needs to be in PATH. \u001b[39m\u001b[38;5;132;01m{\u001b[39;00m\u001b[38;5;28mself\u001b[39m\u001b[38;5;241m.\u001b[39mstart_error_message\u001b[38;5;132;01m}\u001b[39;00m\u001b[38;5;124m\"\u001b[39m\n\u001b[1;32m    214\u001b[0m         )\n\u001b[1;32m    215\u001b[0m     \u001b[38;5;28;01melif\u001b[39;00m err\u001b[38;5;241m.\u001b[39merrno \u001b[38;5;241m==\u001b[39m errno\u001b[38;5;241m.\u001b[39mEACCES:\n\u001b[1;32m    216\u001b[0m         \u001b[38;5;28;01mraise\u001b[39;00m WebDriverException(\n\u001b[1;32m    217\u001b[0m             \u001b[38;5;124mf\u001b[39m\u001b[38;5;124m\"\u001b[39m\u001b[38;5;124m'\u001b[39m\u001b[38;5;132;01m{\u001b[39;00mos\u001b[38;5;241m.\u001b[39mpath\u001b[38;5;241m.\u001b[39mbasename(\u001b[38;5;28mself\u001b[39m\u001b[38;5;241m.\u001b[39mpath)\u001b[38;5;132;01m}\u001b[39;00m\u001b[38;5;124m'\u001b[39m\u001b[38;5;124m executable may have wrong permissions. \u001b[39m\u001b[38;5;132;01m{\u001b[39;00m\u001b[38;5;28mself\u001b[39m\u001b[38;5;241m.\u001b[39mstart_error_message\u001b[38;5;132;01m}\u001b[39;00m\u001b[38;5;124m\"\u001b[39m\n\u001b[1;32m    218\u001b[0m         )\n",
      "\u001b[0;31mWebDriverException\u001b[0m: Message: 'chromedriver.exe' executable needs to be in PATH. Please see https://chromedriver.chromium.org/home\n"
     ]
    }
   ],
   "source": [
    "from selenium import webdriver\n",
    "import chromedriver_autoinstaller\n",
    "import os\n",
    "\n",
    "# Check if chrome driver is installed or not\n",
    "chrome_ver = chromedriver_autoinstaller.get_chrome_version().split('.')[0]\n",
    "#driver_path = f'./{chrome_ver}/chromedriver.exe'\n",
    "\n",
    "driver_path='chromedriver.exe'\n",
    "if os.path.exists(driver_path):\n",
    "    print(f\"chrom driver is insatlled: {driver_path}\")\n",
    "else:\n",
    "    print(f\"install the chrome driver(ver: {chrome_ver})\")\n",
    "    chromedriver_autoinstaller.install(True)\n",
    "\n",
    "# Get driver and open url\n",
    "driver = webdriver.Chrome(driver_path)\n",
    "driver.get(\"https://google.com\")"
   ]
  },
  {
   "cell_type": "code",
   "execution_count": null,
   "id": "440941f0-f76d-47d9-9ee0-51165b545594",
   "metadata": {},
   "outputs": [],
   "source": []
  },
  {
   "cell_type": "code",
   "execution_count": null,
   "id": "49a2c23d-a3d8-49b3-a742-494236bbaf78",
   "metadata": {},
   "outputs": [],
   "source": []
  },
  {
   "cell_type": "code",
   "execution_count": 195,
   "id": "a6409744-9995-4423-950a-871dd38672a4",
   "metadata": {},
   "outputs": [],
   "source": [
    "from selenium import webdriver\n",
    "from pyvirtualdisplay import Display\n",
    "from selenium.webdriver.common.by import By\n",
    "display=Display(visible=0, size=(1920,1080))\n",
    "display.start()\n",
    "\n",
    "path=\"chromedriver\"\n",
    "driver=webdriver.Chrome(path)\n",
    "\n",
    "driver.get(\"https://cafe.naver.com/joonggonara?iframe_url_utf8=%2FArticleRead.nhn%253Fclubid%3D10050146%2526page%3D1%2526menuid%3D334%2526boardtype%3DL%2526articleid%3D957385220%2526referrerAllArticles%3Dfalse\")"
   ]
  },
  {
   "cell_type": "code",
   "execution_count": 199,
   "id": "1b1c1227-7c1b-40d0-bbb3-89adedcf9bf0",
   "metadata": {},
   "outputs": [
    {
     "ename": "InvalidSelectorException",
     "evalue": "Message: invalid selector: Unable to locate an element with the xpath expression #app > div > div > div.ArticleContentBox > div.article_container > div.article_viewer > div.SaleInfo > div.product_section > div.product_area > div.product_detail > div.product_detail_box > div because of the following error:\nSyntaxError: Failed to execute 'evaluate' on 'Document': The string '#app > div > div > div.ArticleContentBox > div.article_container > div.article_viewer > div.SaleInfo > div.product_section > div.product_area > div.product_detail > div.product_detail_box > div' is not a valid XPath expression.\n  (Session info: chrome=108.0.5359.71)\nStacktrace:\n#0 0x559637f3e563 <unknown>\n#1 0x559637cfd667 <unknown>\n#2 0x559637d010b8 <unknown>\n#3 0x559637d00e82 <unknown>\n#4 0x559637d0118c <unknown>\n#5 0x559637d39b37 <unknown>\n#6 0x559637d3a071 <unknown>\n#7 0x559637d73d34 <unknown>\n#8 0x559637d5a14d <unknown>\n#9 0x559637d71a7c <unknown>\n#10 0x559637d59ef3 <unknown>\n#11 0x559637d2d49e <unknown>\n#12 0x559637d2e5ae <unknown>\n#13 0x559637f8dfde <unknown>\n#14 0x559637f914c4 <unknown>\n#15 0x559637f7478e <unknown>\n#16 0x559637f92393 <unknown>\n#17 0x559637f67665 <unknown>\n#18 0x559637fb3108 <unknown>\n#19 0x559637fb3296 <unknown>\n#20 0x559637fce183 <unknown>\n#21 0x7ffa332796c2 start_thread\n",
     "output_type": "error",
     "traceback": [
      "\u001b[0;31m---------------------------------------------------------------------------\u001b[0m",
      "\u001b[0;31mInvalidSelectorException\u001b[0m                  Traceback (most recent call last)",
      "Cell \u001b[0;32mIn [199], line 1\u001b[0m\n\u001b[0;32m----> 1\u001b[0m content \u001b[38;5;241m=\u001b[39m \u001b[43mdriver\u001b[49m\u001b[38;5;241;43m.\u001b[39;49m\u001b[43mfind_element\u001b[49m\u001b[43m(\u001b[49m\u001b[43mBy\u001b[49m\u001b[38;5;241;43m.\u001b[39;49m\u001b[43mXPATH\u001b[49m\u001b[43m,\u001b[49m\u001b[38;5;124;43m'\u001b[39;49m\u001b[38;5;124;43m#app > div > div > div.ArticleContentBox > div.article_container > div.article_viewer > div.SaleInfo > div.product_section > div.product_area > div.product_detail > div.product_detail_box > div\u001b[39;49m\u001b[38;5;124;43m'\u001b[39;49m\u001b[43m)\u001b[49m\n",
      "File \u001b[0;32m~/anaconda3/envs/hyunJ/lib/python3.8/site-packages/selenium/webdriver/remote/webdriver.py:861\u001b[0m, in \u001b[0;36mWebDriver.find_element\u001b[0;34m(self, by, value)\u001b[0m\n\u001b[1;32m    858\u001b[0m     by \u001b[38;5;241m=\u001b[39m By\u001b[38;5;241m.\u001b[39mCSS_SELECTOR\n\u001b[1;32m    859\u001b[0m     value \u001b[38;5;241m=\u001b[39m \u001b[38;5;124m'\u001b[39m\u001b[38;5;124m[name=\u001b[39m\u001b[38;5;124m\"\u001b[39m\u001b[38;5;132;01m%s\u001b[39;00m\u001b[38;5;124m\"\u001b[39m\u001b[38;5;124m]\u001b[39m\u001b[38;5;124m'\u001b[39m \u001b[38;5;241m%\u001b[39m value\n\u001b[0;32m--> 861\u001b[0m \u001b[38;5;28;01mreturn\u001b[39;00m \u001b[38;5;28;43mself\u001b[39;49m\u001b[38;5;241;43m.\u001b[39;49m\u001b[43mexecute\u001b[49m\u001b[43m(\u001b[49m\u001b[43mCommand\u001b[49m\u001b[38;5;241;43m.\u001b[39;49m\u001b[43mFIND_ELEMENT\u001b[49m\u001b[43m,\u001b[49m\u001b[43m \u001b[49m\u001b[43m{\u001b[49m\u001b[38;5;124;43m\"\u001b[39;49m\u001b[38;5;124;43musing\u001b[39;49m\u001b[38;5;124;43m\"\u001b[39;49m\u001b[43m:\u001b[49m\u001b[43m \u001b[49m\u001b[43mby\u001b[49m\u001b[43m,\u001b[49m\u001b[43m \u001b[49m\u001b[38;5;124;43m\"\u001b[39;49m\u001b[38;5;124;43mvalue\u001b[39;49m\u001b[38;5;124;43m\"\u001b[39;49m\u001b[43m:\u001b[49m\u001b[43m \u001b[49m\u001b[43mvalue\u001b[49m\u001b[43m}\u001b[49m\u001b[43m)\u001b[49m[\u001b[38;5;124m\"\u001b[39m\u001b[38;5;124mvalue\u001b[39m\u001b[38;5;124m\"\u001b[39m]\n",
      "File \u001b[0;32m~/anaconda3/envs/hyunJ/lib/python3.8/site-packages/selenium/webdriver/remote/webdriver.py:444\u001b[0m, in \u001b[0;36mWebDriver.execute\u001b[0;34m(self, driver_command, params)\u001b[0m\n\u001b[1;32m    442\u001b[0m response \u001b[38;5;241m=\u001b[39m \u001b[38;5;28mself\u001b[39m\u001b[38;5;241m.\u001b[39mcommand_executor\u001b[38;5;241m.\u001b[39mexecute(driver_command, params)\n\u001b[1;32m    443\u001b[0m \u001b[38;5;28;01mif\u001b[39;00m response:\n\u001b[0;32m--> 444\u001b[0m     \u001b[38;5;28;43mself\u001b[39;49m\u001b[38;5;241;43m.\u001b[39;49m\u001b[43merror_handler\u001b[49m\u001b[38;5;241;43m.\u001b[39;49m\u001b[43mcheck_response\u001b[49m\u001b[43m(\u001b[49m\u001b[43mresponse\u001b[49m\u001b[43m)\u001b[49m\n\u001b[1;32m    445\u001b[0m     response[\u001b[38;5;124m\"\u001b[39m\u001b[38;5;124mvalue\u001b[39m\u001b[38;5;124m\"\u001b[39m] \u001b[38;5;241m=\u001b[39m \u001b[38;5;28mself\u001b[39m\u001b[38;5;241m.\u001b[39m_unwrap_value(response\u001b[38;5;241m.\u001b[39mget(\u001b[38;5;124m\"\u001b[39m\u001b[38;5;124mvalue\u001b[39m\u001b[38;5;124m\"\u001b[39m, \u001b[38;5;28;01mNone\u001b[39;00m))\n\u001b[1;32m    446\u001b[0m     \u001b[38;5;28;01mreturn\u001b[39;00m response\n",
      "File \u001b[0;32m~/anaconda3/envs/hyunJ/lib/python3.8/site-packages/selenium/webdriver/remote/errorhandler.py:249\u001b[0m, in \u001b[0;36mErrorHandler.check_response\u001b[0;34m(self, response)\u001b[0m\n\u001b[1;32m    247\u001b[0m         alert_text \u001b[38;5;241m=\u001b[39m value[\u001b[38;5;124m\"\u001b[39m\u001b[38;5;124malert\u001b[39m\u001b[38;5;124m\"\u001b[39m]\u001b[38;5;241m.\u001b[39mget(\u001b[38;5;124m\"\u001b[39m\u001b[38;5;124mtext\u001b[39m\u001b[38;5;124m\"\u001b[39m)\n\u001b[1;32m    248\u001b[0m     \u001b[38;5;28;01mraise\u001b[39;00m exception_class(message, screen, stacktrace, alert_text)  \u001b[38;5;66;03m# type: ignore[call-arg]  # mypy is not smart enough here\u001b[39;00m\n\u001b[0;32m--> 249\u001b[0m \u001b[38;5;28;01mraise\u001b[39;00m exception_class(message, screen, stacktrace)\n",
      "\u001b[0;31mInvalidSelectorException\u001b[0m: Message: invalid selector: Unable to locate an element with the xpath expression #app > div > div > div.ArticleContentBox > div.article_container > div.article_viewer > div.SaleInfo > div.product_section > div.product_area > div.product_detail > div.product_detail_box > div because of the following error:\nSyntaxError: Failed to execute 'evaluate' on 'Document': The string '#app > div > div > div.ArticleContentBox > div.article_container > div.article_viewer > div.SaleInfo > div.product_section > div.product_area > div.product_detail > div.product_detail_box > div' is not a valid XPath expression.\n  (Session info: chrome=108.0.5359.71)\nStacktrace:\n#0 0x559637f3e563 <unknown>\n#1 0x559637cfd667 <unknown>\n#2 0x559637d010b8 <unknown>\n#3 0x559637d00e82 <unknown>\n#4 0x559637d0118c <unknown>\n#5 0x559637d39b37 <unknown>\n#6 0x559637d3a071 <unknown>\n#7 0x559637d73d34 <unknown>\n#8 0x559637d5a14d <unknown>\n#9 0x559637d71a7c <unknown>\n#10 0x559637d59ef3 <unknown>\n#11 0x559637d2d49e <unknown>\n#12 0x559637d2e5ae <unknown>\n#13 0x559637f8dfde <unknown>\n#14 0x559637f914c4 <unknown>\n#15 0x559637f7478e <unknown>\n#16 0x559637f92393 <unknown>\n#17 0x559637f67665 <unknown>\n#18 0x559637fb3108 <unknown>\n#19 0x559637fb3296 <unknown>\n#20 0x559637fce183 <unknown>\n#21 0x7ffa332796c2 start_thread\n"
     ]
    }
   ],
   "source": [
    "content = driver.find_element(By.XPATH,'#app > div > div > div.ArticleContentBox > div.article_container > div.article_viewer > div.SaleInfo > div.product_section > div.product_area > div.product_detail > div.product_detail_box > div')"
   ]
  },
  {
   "cell_type": "code",
   "execution_count": null,
   "id": "15ab7712-757a-4eab-91de-44a645426b42",
   "metadata": {},
   "outputs": [],
   "source": []
  },
  {
   "cell_type": "code",
   "execution_count": 169,
   "id": "b5e1b5e7-22be-49b8-bf5f-886a6440b867",
   "metadata": {},
   "outputs": [
    {
     "ename": "SyntaxError",
     "evalue": "invalid syntax (825578981.py, line 1)",
     "output_type": "error",
     "traceback": [
      "\u001b[0;36m  Cell \u001b[0;32mIn [169], line 1\u001b[0;36m\u001b[0m\n\u001b[0;31m    price=driver.find_elements(By.XPATH,\"//*[@id=\"app\"]/div/div/div[2]/div[2]/div[1]/div[1]/div[2]/div[2]/div[1]/div[1]/div[2]/strong\")\u001b[0m\n\u001b[0m                                                  ^\u001b[0m\n\u001b[0;31mSyntaxError\u001b[0m\u001b[0;31m:\u001b[0m invalid syntax\n"
     ]
    }
   ],
   "source": [
    "price=driver.find_elements(By.XPATH,\"//*[@id=\"app\"]/div/div/div[2]/div[2]/div[1]/div[1]/div[2]/div[2]/div[1]/div[1]/div[2]/strong\")"
   ]
  },
  {
   "cell_type": "code",
   "execution_count": null,
   "id": "22001aa5-f196-4ba1-8c85-4d5f612a8c3a",
   "metadata": {},
   "outputs": [],
   "source": [
    "//*[@id=\"app\"]/div/div/div[2]/div[2]/div[1]/div[1]/div[2]/div[2]/div[1]/div[1]/div[2]/strong"
   ]
  },
  {
   "cell_type": "code",
   "execution_count": null,
   "id": "75e8c847-240b-4b94-862c-70084f229bb6",
   "metadata": {},
   "outputs": [],
   "source": []
  },
  {
   "cell_type": "code",
   "execution_count": null,
   "id": "f2d899b5-2d64-4ab0-97f0-46e63688c7f6",
   "metadata": {},
   "outputs": [],
   "source": []
  },
  {
   "cell_type": "code",
   "execution_count": null,
   "id": "5d1b1ee8-3471-4120-bf04-e8fcab135322",
   "metadata": {},
   "outputs": [],
   "source": []
  },
  {
   "cell_type": "code",
   "execution_count": null,
   "id": "cf12af46-9795-49f3-b3dc-4e0294c1f5cf",
   "metadata": {},
   "outputs": [],
   "source": []
  },
  {
   "cell_type": "code",
   "execution_count": null,
   "id": "404a18cb-1784-4c36-875a-ea8e70297a06",
   "metadata": {},
   "outputs": [],
   "source": []
  },
  {
   "cell_type": "code",
   "execution_count": null,
   "id": "f372badc-692d-4808-9954-ec53b61fd5b7",
   "metadata": {},
   "outputs": [],
   "source": []
  },
  {
   "cell_type": "code",
   "execution_count": null,
   "id": "f4e08391-5a10-4b0c-819a-bbf427f5bd50",
   "metadata": {},
   "outputs": [],
   "source": []
  },
  {
   "cell_type": "code",
   "execution_count": null,
   "id": "b6457757-d257-4ad6-a402-e764b794405b",
   "metadata": {},
   "outputs": [
    {
     "data": {
      "text/plain": [
       "'https://cafe.naver.com/ArticleRead.nhn?clubid=10050146&page=1&menuid=334&boardtype=L&articleid=957385874&referrerAllArticles=false'"
      ]
     },
     "execution_count": 90,
     "metadata": {},
     "output_type": "execute_result"
    }
   ],
   "source": [
    "mrl=map['url']\n",
    "mrl"
   ]
  },
  {
   "cell_type": "code",
   "execution_count": 105,
   "id": "9d8b3afe-7105-4e0d-8a62-b3782e9a1644",
   "metadata": {},
   "outputs": [],
   "source": [
    "URL=\"https://cafe.naver.com/ArticleRead.nhn?clubid=10050146&page=1&menuid=334&boardtype=L&articleid=957385874&referrerAllArticles=false\"\n",
    "rr=requests.get(URL).text"
   ]
  },
  {
   "cell_type": "code",
   "execution_count": 106,
   "id": "ded60bb3-14a5-4a7e-8246-264c86713e55",
   "metadata": {},
   "outputs": [
    {
     "data": {
      "text/plain": [
       "'<!DOCTYPE html><html lang=ko><head><meta charset=utf-8><meta http-equiv=Content-Type content=\"text/html; charset=utf-8\"><meta http-equiv=X-UA-Compatible content=\"IE=edge\"><meta name=robots content=\"noindex, nofollow\"><meta name=viewport content=\"width=device-width,initial-scale=1\"><link rel=icon href=https://ca-fe.pstatic.net/web-pc/favicon.ico><title>네이버 카페</title><link href=https://ca-fe.pstatic.net/web-pc/css/app.510b7c75.css rel=stylesheet></head><body><noscript><strong>We\\'re sorry but web-pc doesn\\'t work properly without JavaScript enabled. Please enable it to continue.</strong></noscript><div id=app></div><script src=https://ca-fe.pstatic.net/web-pc/js/chunk-vendors.cc4a3b61.js></script><script src=https://ca-fe.pstatic.net/web-pc/js/app.91e4a330.js></script></body></html>'"
      ]
     },
     "execution_count": 106,
     "metadata": {},
     "output_type": "execute_result"
    }
   ],
   "source": [
    "rr"
   ]
  },
  {
   "cell_type": "code",
   "execution_count": 103,
   "id": "bf85d125-c13b-447d-bb32-252a7a78c4be",
   "metadata": {},
   "outputs": [
    {
     "data": {
      "text/plain": [
       "<Response [200]>"
      ]
     },
     "execution_count": 103,
     "metadata": {},
     "output_type": "execute_result"
    }
   ],
   "source": [
    "resp=requests.get(mrl)\n",
    "resp"
   ]
  },
  {
   "cell_type": "code",
   "execution_count": 104,
   "id": "e9e79f77-924e-47c3-a20d-1c596218a312",
   "metadata": {},
   "outputs": [
    {
     "data": {
      "text/plain": [
       "[]"
      ]
     },
     "execution_count": 104,
     "metadata": {},
     "output_type": "execute_result"
    }
   ],
   "source": [
    "resp=requests.get(mrl).text\n",
    "soup=bs(resp,'html.parser')\n",
    "money=soup.select('.produt_name .price')\n",
    "money"
   ]
  },
  {
   "cell_type": "code",
   "execution_count": 93,
   "id": "95b47e9c-d08a-415a-b31f-120382b4a9c4",
   "metadata": {},
   "outputs": [
    {
     "data": {
      "text/plain": [
       "<!DOCTYPE html>\n",
       "<html lang=\"ko\"><head><meta charset=\"utf-8\"/><meta content=\"text/html; charset=utf-8\" http-equiv=\"Content-Type\"/><meta content=\"IE=edge\" http-equiv=\"X-UA-Compatible\"/><meta content=\"noindex, nofollow\" name=\"robots\"/><meta content=\"width=device-width,initial-scale=1\" name=\"viewport\"/><link href=\"https://ca-fe.pstatic.net/web-pc/favicon.ico\" rel=\"icon\"/><title>네이버 카페</title><link href=\"https://ca-fe.pstatic.net/web-pc/css/app.510b7c75.css\" rel=\"stylesheet\"/></head><body><noscript><strong>We're sorry but web-pc doesn't work properly without JavaScript enabled. Please enable it to continue.</strong></noscript><div id=\"app\"></div><script src=\"https://ca-fe.pstatic.net/web-pc/js/chunk-vendors.cc4a3b61.js\"></script><script src=\"https://ca-fe.pstatic.net/web-pc/js/app.91e4a330.js\"></script></body></html>"
      ]
     },
     "execution_count": 93,
     "metadata": {},
     "output_type": "execute_result"
    }
   ],
   "source": [
    "drl=\"https://cafe.naver.com/joonggonara?iframe_url_utf8=%2FArticleRead.nhn%253Fclubid%3D10050146%2526page%3D1%2526menuid%3D334%2526boardtype%3DL%2526articleid%3D957386038%2526referrerAllArticles%3Dfalse\"\n",
    "soup=bs(resp.text,'html.parser')\n",
    "soup"
   ]
  }
 ],
 "metadata": {
  "kernelspec": {
   "display_name": "Python 3 (ipykernel)",
   "language": "python",
   "name": "python3"
  },
  "language_info": {
   "codemirror_mode": {
    "name": "ipython",
    "version": 3
   },
   "file_extension": ".py",
   "mimetype": "text/x-python",
   "name": "python",
   "nbconvert_exporter": "python",
   "pygments_lexer": "ipython3",
   "version": "3.8.15"
  }
 },
 "nbformat": 4,
 "nbformat_minor": 5
}
